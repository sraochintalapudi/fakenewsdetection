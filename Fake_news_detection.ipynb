{
  "nbformat": 4,
  "nbformat_minor": 0,
  "metadata": {
    "kernelspec": {
      "display_name": "Python 3",
      "language": "python",
      "name": "python3"
    },
    "language_info": {
      "codemirror_mode": {
        "name": "ipython",
        "version": 3
      },
      "file_extension": ".py",
      "mimetype": "text/x-python",
      "name": "python",
      "nbconvert_exporter": "python",
      "pygments_lexer": "ipython3",
      "version": "3.7.0"
    },
    "colab": {
      "name": "Fake_news_detection.ipynb",
      "provenance": []
    }
  },
  "cells": [
    {
      "cell_type": "markdown",
      "metadata": {
        "id": "mVsYDaqD_P0w"
      },
      "source": [
        "# Natural Language Processing\n",
        "## Fake News Detection "
      ]
    },
    {
      "cell_type": "code",
      "metadata": {
        "id": "iLGrEJHf_P02"
      },
      "source": [
        "# import libraries\n",
        "#import ftfy\n",
        "import nltk\n",
        "import json\n",
        "import re\n",
        "import seaborn as sns\n",
        "import pandas as pd\n",
        "import matplotlib.pyplot as plt\n",
        "%matplotlib inline\n",
        "import pandas as pd\n",
        "import csv\n",
        "import numpy as np\n",
        "import nltk\n",
        "import seaborn as sb\n",
        "import warnings\n",
        "\n",
        "from sklearn.model_selection import train_test_split\n",
        "from sklearn.base import BaseEstimator, TransformerMixin\n",
        "from sklearn.pipeline import Pipeline, FeatureUnion\n",
        "from sklearn.feature_extraction import DictVectorizer\n",
        "from sklearn.feature_selection import SelectKBest, chi2\n",
        "from sklearn.linear_model import LogisticRegression\n",
        "from sklearn.naive_bayes import MultinomialNB\n",
        "from sklearn.model_selection import cross_validate, StratifiedKFold\n",
        "from sklearn.metrics import accuracy_score, classification_report, confusion_matrix\n",
        "from sklearn.model_selection import GridSearchCV\n",
        "from sklearn.feature_extraction.text import TfidfTransformer\n",
        "from sklearn.preprocessing import Binarizer\n",
        "\n",
        "\n",
        "from collections import Counter\n",
        "from os import listdir, makedirs\n",
        "from os.path import isfile, join, splitext, split\n",
        "\n",
        "from nltk.stem import SnowballStemmer\n",
        "from nltk.stem.porter import PorterStemmer\n",
        "from nltk.tokenize import word_tokenize\n",
        "from nltk.corpus import stopwords\n",
        "from collections import defaultdict\n",
        "from nltk.corpus import wordnet as wn\n",
        "from nltk.stem import WordNetLemmatizer\n",
        "from nltk.tokenize import word_tokenize\n",
        "from nltk import pos_tag\n",
        "#nltk.download('stopwords')\n",
        "\n",
        "\n",
        "from wordcloud import STOPWORDS, WordCloud\n",
        "\n",
        "from sklearn.feature_extraction.text import CountVectorizer\n",
        "from sklearn.pipeline import Pipeline, FeatureUnion\n",
        "from sklearn.feature_extraction.text import TfidfVectorizer\n",
        "from sklearn.preprocessing import StandardScaler\n",
        "from sklearn.decomposition import TruncatedSVD\n",
        "from sklearn.metrics import accuracy_score, classification_report, confusion_matrix\n",
        "from sklearn.model_selection import cross_validate, StratifiedKFold\n",
        "from sklearn.naive_bayes import GaussianNB\n",
        "\n",
        "from sklearn import tree\n",
        "from sklearn.ensemble import RandomForestClassifier\n",
        "from sklearn import model_selection, naive_bayes, svm\n",
        "from sklearn.feature_extraction.text import TfidfVectorizer\n",
        "from sklearn.preprocessing import LabelEncoder\n",
        "from xgboost import XGBClassifier # need to import xboost calssifer\n",
        "\n",
        "warnings.filterwarnings('ignore')\n",
        "np.random.seed(0)"
      ],
      "execution_count": 62,
      "outputs": []
    },
    {
      "cell_type": "code",
      "metadata": {
        "colab": {
          "base_uri": "https://localhost:8080/"
        },
        "id": "dF9P8jbWYEeO",
        "outputId": "1a31b9e6-87a2-4c97-9809-4d107bf9d48c"
      },
      "source": [
        "!pip install ftfy"
      ],
      "execution_count": 60,
      "outputs": [
        {
          "output_type": "stream",
          "text": [
            "Collecting ftfy\n",
            "\u001b[?25l  Downloading https://files.pythonhosted.org/packages/af/da/d215a091986e5f01b80f5145cff6f22e2dc57c6b048aab2e882a07018473/ftfy-6.0.3.tar.gz (64kB)\n",
            "\r\u001b[K     |█████                           | 10kB 13.9MB/s eta 0:00:01\r\u001b[K     |██████████▏                     | 20kB 19.1MB/s eta 0:00:01\r\u001b[K     |███████████████▎                | 30kB 10.4MB/s eta 0:00:01\r\u001b[K     |████████████████████▍           | 40kB 8.3MB/s eta 0:00:01\r\u001b[K     |█████████████████████████▌      | 51kB 5.3MB/s eta 0:00:01\r\u001b[K     |██████████████████████████████▋ | 61kB 5.5MB/s eta 0:00:01\r\u001b[K     |████████████████████████████████| 71kB 3.8MB/s \n",
            "\u001b[?25hRequirement already satisfied: wcwidth in /usr/local/lib/python3.7/dist-packages (from ftfy) (0.2.5)\n",
            "Building wheels for collected packages: ftfy\n",
            "  Building wheel for ftfy (setup.py) ... \u001b[?25l\u001b[?25hdone\n",
            "  Created wheel for ftfy: filename=ftfy-6.0.3-cp37-none-any.whl size=41935 sha256=f25bf305b6ffd3b75fc1e8c0d7dda9932a1d325d7c6db3edff3dcdb36b01ca62\n",
            "  Stored in directory: /root/.cache/pip/wheels/99/2c/e6/109c8a28fef7a443f67ba58df21fe1d0067ac3322e75e6b0b7\n",
            "Successfully built ftfy\n",
            "Installing collected packages: ftfy\n",
            "Successfully installed ftfy-6.0.3\n"
          ],
          "name": "stdout"
        }
      ]
    },
    {
      "cell_type": "code",
      "metadata": {
        "id": "BUG1oBdWYMOK"
      },
      "source": [
        "import ftfy"
      ],
      "execution_count": 61,
      "outputs": []
    },
    {
      "cell_type": "code",
      "metadata": {
        "colab": {
          "base_uri": "https://localhost:8080/"
        },
        "id": "tfs8a9vVBwp0",
        "outputId": "d128e2dd-22bc-4aa1-8cb0-e1f3287da19f"
      },
      "source": [
        "from google.colab import drive\n",
        "drive.mount('/drive')"
      ],
      "execution_count": 3,
      "outputs": [
        {
          "output_type": "stream",
          "text": [
            "Mounted at /drive\n"
          ],
          "name": "stdout"
        }
      ]
    },
    {
      "cell_type": "code",
      "metadata": {
        "id": "jfjJs7E5CGH7"
      },
      "source": [
        ""
      ],
      "execution_count": null,
      "outputs": []
    },
    {
      "cell_type": "markdown",
      "metadata": {
        "id": "590Fpq9__P07"
      },
      "source": [
        "# Loading the LIAR Dataset\n",
        "The dataset is in the format of 3 tab seperated files. Loading it as a pandas dataframe. Combining the train, test and validation files to a single file so that we can do the train and test split as required."
      ]
    },
    {
      "cell_type": "code",
      "metadata": {
        "id": "hNDEBhLy_P09"
      },
      "source": [
        "# Importing the dataset\n",
        "train = pd.read_csv('/drive/My Drive/Fake_News_Detection/train.tsv', delimiter='\\t', quoting=3, header=None)\n",
        "test = pd.read_csv('/drive/My Drive/Fake_News_Detection/test.tsv', delimiter='\\t', quoting=3, header=None)\n",
        "valid = pd.read_csv('/drive/My Drive/Fake_News_Detection/valid.tsv', delimiter='\\t', quoting=3, header=None)"
      ],
      "execution_count": 5,
      "outputs": []
    },
    {
      "cell_type": "code",
      "metadata": {
        "colab": {
          "base_uri": "https://localhost:8080/",
          "height": 147
        },
        "id": "UpOVER4T_P0-",
        "outputId": "d17a5a00-7bd1-4c6c-96fa-66e8a3808839"
      },
      "source": [
        "df_raw = pd.concat([train, test, valid], axis=0, sort=False)\n",
        "df_raw = df_raw.sample(frac=1).reset_index()\n",
        "df_raw.head(2)"
      ],
      "execution_count": 6,
      "outputs": [
        {
          "output_type": "execute_result",
          "data": {
            "text/html": [
              "<div>\n",
              "<style scoped>\n",
              "    .dataframe tbody tr th:only-of-type {\n",
              "        vertical-align: middle;\n",
              "    }\n",
              "\n",
              "    .dataframe tbody tr th {\n",
              "        vertical-align: top;\n",
              "    }\n",
              "\n",
              "    .dataframe thead th {\n",
              "        text-align: right;\n",
              "    }\n",
              "</style>\n",
              "<table border=\"1\" class=\"dataframe\">\n",
              "  <thead>\n",
              "    <tr style=\"text-align: right;\">\n",
              "      <th></th>\n",
              "      <th>index</th>\n",
              "      <th>0</th>\n",
              "      <th>1</th>\n",
              "      <th>2</th>\n",
              "      <th>3</th>\n",
              "      <th>4</th>\n",
              "      <th>5</th>\n",
              "      <th>6</th>\n",
              "      <th>7</th>\n",
              "      <th>8</th>\n",
              "      <th>9</th>\n",
              "      <th>10</th>\n",
              "      <th>11</th>\n",
              "      <th>12</th>\n",
              "      <th>13</th>\n",
              "    </tr>\n",
              "  </thead>\n",
              "  <tbody>\n",
              "    <tr>\n",
              "      <th>0</th>\n",
              "      <td>8289</td>\n",
              "      <td>423.json</td>\n",
              "      <td>true</td>\n",
              "      <td>\"McCain opposes a woman's right to choose.\"</td>\n",
              "      <td>abortion</td>\n",
              "      <td>moveon</td>\n",
              "      <td>NaN</td>\n",
              "      <td>NaN</td>\n",
              "      <td>democrat</td>\n",
              "      <td>2</td>\n",
              "      <td>4</td>\n",
              "      <td>3</td>\n",
              "      <td>0</td>\n",
              "      <td>0</td>\n",
              "      <td>an e-mail message</td>\n",
              "    </tr>\n",
              "    <tr>\n",
              "      <th>1</th>\n",
              "      <td>1156</td>\n",
              "      <td>10379.json</td>\n",
              "      <td>barely-true</td>\n",
              "      <td>The name Frank has risen in popularity by 20 p...</td>\n",
              "      <td>pop-culture</td>\n",
              "      <td>matt-lauer</td>\n",
              "      <td>Today Show host</td>\n",
              "      <td>NaN</td>\n",
              "      <td>none</td>\n",
              "      <td>1</td>\n",
              "      <td>0</td>\n",
              "      <td>0</td>\n",
              "      <td>0</td>\n",
              "      <td>0</td>\n",
              "      <td>a red carpet interview before the Golden Globes</td>\n",
              "    </tr>\n",
              "  </tbody>\n",
              "</table>\n",
              "</div>"
            ],
            "text/plain": [
              "   index           0  ... 12                                               13\n",
              "0   8289    423.json  ...  0                                an e-mail message\n",
              "1   1156  10379.json  ...  0  a red carpet interview before the Golden Globes\n",
              "\n",
              "[2 rows x 15 columns]"
            ]
          },
          "metadata": {
            "tags": []
          },
          "execution_count": 6
        }
      ]
    },
    {
      "cell_type": "code",
      "metadata": {
        "colab": {
          "base_uri": "https://localhost:8080/"
        },
        "id": "QPvjfg8x_P1A",
        "outputId": "218b00e3-2735-47d0-c549-94eb9dc93513"
      },
      "source": [
        "# The file contains 12836 rows and 15 columns\n",
        "df_raw.shape"
      ],
      "execution_count": 7,
      "outputs": [
        {
          "output_type": "execute_result",
          "data": {
            "text/plain": [
              "(12836, 15)"
            ]
          },
          "metadata": {
            "tags": []
          },
          "execution_count": 7
        }
      ]
    },
    {
      "cell_type": "code",
      "metadata": {
        "id": "od_8lerA_P1D"
      },
      "source": [
        "# naming the columns of the dataset\n",
        "df_raw.columns=[\"index\",\"ID\", \"label\", \"statement\", \"subject\", \"speaker\", \"job\", \"state\", \"party\", \"barely_true_cts\",\n",
        "        \"false_cts\", \"half_true_cts\", \"mostly_true_cts\", \"pants_on_fire_cts\", \"context\"]"
      ],
      "execution_count": 8,
      "outputs": []
    },
    {
      "cell_type": "code",
      "metadata": {
        "colab": {
          "base_uri": "https://localhost:8080/",
          "height": 306
        },
        "id": "BWUqLZtW_P1F",
        "outputId": "0c1c1c58-c577-4911-8614-15bb837a87f9"
      },
      "source": [
        "df_raw.head(2)"
      ],
      "execution_count": 9,
      "outputs": [
        {
          "output_type": "execute_result",
          "data": {
            "text/html": [
              "<div>\n",
              "<style scoped>\n",
              "    .dataframe tbody tr th:only-of-type {\n",
              "        vertical-align: middle;\n",
              "    }\n",
              "\n",
              "    .dataframe tbody tr th {\n",
              "        vertical-align: top;\n",
              "    }\n",
              "\n",
              "    .dataframe thead th {\n",
              "        text-align: right;\n",
              "    }\n",
              "</style>\n",
              "<table border=\"1\" class=\"dataframe\">\n",
              "  <thead>\n",
              "    <tr style=\"text-align: right;\">\n",
              "      <th></th>\n",
              "      <th>index</th>\n",
              "      <th>ID</th>\n",
              "      <th>label</th>\n",
              "      <th>statement</th>\n",
              "      <th>subject</th>\n",
              "      <th>speaker</th>\n",
              "      <th>job</th>\n",
              "      <th>state</th>\n",
              "      <th>party</th>\n",
              "      <th>barely_true_cts</th>\n",
              "      <th>false_cts</th>\n",
              "      <th>half_true_cts</th>\n",
              "      <th>mostly_true_cts</th>\n",
              "      <th>pants_on_fire_cts</th>\n",
              "      <th>context</th>\n",
              "    </tr>\n",
              "  </thead>\n",
              "  <tbody>\n",
              "    <tr>\n",
              "      <th>0</th>\n",
              "      <td>8289</td>\n",
              "      <td>423.json</td>\n",
              "      <td>true</td>\n",
              "      <td>\"McCain opposes a woman's right to choose.\"</td>\n",
              "      <td>abortion</td>\n",
              "      <td>moveon</td>\n",
              "      <td>NaN</td>\n",
              "      <td>NaN</td>\n",
              "      <td>democrat</td>\n",
              "      <td>2</td>\n",
              "      <td>4</td>\n",
              "      <td>3</td>\n",
              "      <td>0</td>\n",
              "      <td>0</td>\n",
              "      <td>an e-mail message</td>\n",
              "    </tr>\n",
              "    <tr>\n",
              "      <th>1</th>\n",
              "      <td>1156</td>\n",
              "      <td>10379.json</td>\n",
              "      <td>barely-true</td>\n",
              "      <td>The name Frank has risen in popularity by 20 p...</td>\n",
              "      <td>pop-culture</td>\n",
              "      <td>matt-lauer</td>\n",
              "      <td>Today Show host</td>\n",
              "      <td>NaN</td>\n",
              "      <td>none</td>\n",
              "      <td>1</td>\n",
              "      <td>0</td>\n",
              "      <td>0</td>\n",
              "      <td>0</td>\n",
              "      <td>0</td>\n",
              "      <td>a red carpet interview before the Golden Globes</td>\n",
              "    </tr>\n",
              "  </tbody>\n",
              "</table>\n",
              "</div>"
            ],
            "text/plain": [
              "   index  ...                                          context\n",
              "0   8289  ...                                an e-mail message\n",
              "1   1156  ...  a red carpet interview before the Golden Globes\n",
              "\n",
              "[2 rows x 15 columns]"
            ]
          },
          "metadata": {
            "tags": []
          },
          "execution_count": 9
        }
      ]
    },
    {
      "cell_type": "code",
      "metadata": {
        "colab": {
          "base_uri": "https://localhost:8080/"
        },
        "id": "j9v7lGlV_P1I",
        "outputId": "cc8e72ed-0c45-4a32-c44f-55da5819ec4e"
      },
      "source": [
        "# some of the statements\n",
        "df_raw['statement'].head(10).tolist()"
      ],
      "execution_count": 10,
      "outputs": [
        {
          "output_type": "execute_result",
          "data": {
            "text/plain": [
              "['\"McCain opposes a woman\\'s right to choose.\"',\n",
              " 'The name Frank has risen in popularity by 20 percent since the debut of House of Cardson Netflix.',\n",
              " 'Says Ted Cruz never denied his father was photographedwith Lee Harvey Oswald.',\n",
              " 'Its been 14 years since a president or a vice president or a member of their family has not gone and attended at least an event at the Olympics.',\n",
              " 'In the year 2013, the Obama administration released 104,000 criminal illegal aliens. They released 196 murderers people with homicide convictions, who are here illegally.',\n",
              " 'Says the United States does not trade as much as other developed nations.',\n",
              " '\"Oil companies ...currently have 68-million acres that they\\'re not using.\"',\n",
              " 'Says 24 million people in this country cant find a full-time job, 50 million cant see a doctor when theyre sick, 47 million people need government help to feed themselves and 15 million families owe more than the value of their home.',\n",
              " 'President Obama went around the world and apologized for America.',\n",
              " '\"Joe Biden is the only candidate with a plan to get us out of Iraq and keep us out.\"']"
            ]
          },
          "metadata": {
            "tags": []
          },
          "execution_count": 10
        }
      ]
    },
    {
      "cell_type": "code",
      "metadata": {
        "colab": {
          "base_uri": "https://localhost:8080/"
        },
        "id": "XgBsV_SD_P1K",
        "outputId": "26f4ff62-4974-4dc9-9d17-9ed7f27442cf"
      },
      "source": [
        "# some of the speakers\n",
        "df_raw['speaker'].head(20).tolist()"
      ],
      "execution_count": 11,
      "outputs": [
        {
          "output_type": "execute_result",
          "data": {
            "text/plain": [
              "['moveon',\n",
              " 'matt-lauer',\n",
              " 'donald-trump',\n",
              " 'candy-crowley',\n",
              " 'ted-cruz',\n",
              " 'rob-portman',\n",
              " 'barack-obama',\n",
              " 'alan-grayson',\n",
              " 'mitt-romney',\n",
              " 'joe-biden',\n",
              " 'ellen-rosenblum',\n",
              " 'linda-finn',\n",
              " 'us-chamber-commerce',\n",
              " 'tom-barrett',\n",
              " 'chris-christie',\n",
              " 'russell-edwards',\n",
              " 'mitt-romney',\n",
              " 'jeff-merkley',\n",
              " 'rush-limbaugh',\n",
              " 'john-boehner']"
            ]
          },
          "metadata": {
            "tags": []
          },
          "execution_count": 11
        }
      ]
    },
    {
      "cell_type": "markdown",
      "metadata": {
        "id": "ML0WQ3C9_P1L"
      },
      "source": [
        "# Exploratory Data Analysis"
      ]
    },
    {
      "cell_type": "code",
      "metadata": {
        "colab": {
          "base_uri": "https://localhost:8080/",
          "height": 314
        },
        "id": "Tv80OHsr_P1N",
        "outputId": "414c553c-23f5-4de3-9dde-72e91a6fa31f"
      },
      "source": [
        "sns.countplot(x='label',data=df_raw)\n",
        "plt.title('Types & Number of Classes in the dataset')"
      ],
      "execution_count": 12,
      "outputs": [
        {
          "output_type": "execute_result",
          "data": {
            "text/plain": [
              "Text(0.5, 1.0, 'Types & Number of Classes in the dataset')"
            ]
          },
          "metadata": {
            "tags": []
          },
          "execution_count": 12
        },
        {
          "output_type": "display_data",
          "data": {
            "image/png": "[encoded data removed]",
            "text/plain": [
              "<Figure size 432x288 with 1 Axes>"
            ]
          },
          "metadata": {
            "tags": [],
            "needs_background": "light"
          }
        }
      ]
    },
    {
      "cell_type": "markdown",
      "metadata": {
        "id": "VGk3EChh_P1O"
      },
      "source": [
        "### Converting multiclass labels to two classes - Fake and True for exploratory data analysis"
      ]
    },
    {
      "cell_type": "code",
      "metadata": {
        "id": "0bUGOhlZ_P1O"
      },
      "source": [
        "#function for mapping labels \"true, mostly-true, half-true\" to TRUE and \"false, barely-true, pants-fire\" to FAKE.\n",
        "def binary_class_dataset(data):\n",
        "    \n",
        "    data = data.iloc[:, [2, 3]]\n",
        "    data.columns = ['label', 'statement']\n",
        "    Original_labels = {\n",
        "        'true': 'True',\n",
        "        'mostly-true': 'True',\n",
        "        'half-true': 'True',\n",
        "        'false': 'Fake',\n",
        "        'barely-true': 'Fake',\n",
        "        'pants-fire': 'Fake'\n",
        "    }\n",
        "    data['label'] = data['label'].map(Original_labels)\n",
        "\n",
        "    return data"
      ],
      "execution_count": 14,
      "outputs": []
    },
    {
      "cell_type": "code",
      "metadata": {
        "id": "iO81CVxQ_P1P"
      },
      "source": [
        "# running the function on the loaded dataframe\n",
        "bi_class= binary_class_dataset(df_raw)"
      ],
      "execution_count": 15,
      "outputs": []
    },
    {
      "cell_type": "code",
      "metadata": {
        "colab": {
          "base_uri": "https://localhost:8080/",
          "height": 112
        },
        "id": "KLjYoPj0_P1Q",
        "outputId": "464f54af-c08b-4563-c514-505f3eab2835"
      },
      "source": [
        "# new dataset with binary class labels - True and Fake substituted for the originals labels\n",
        "\n",
        "bi_class.head(2)"
      ],
      "execution_count": 16,
      "outputs": [
        {
          "output_type": "execute_result",
          "data": {
            "text/html": [
              "<div>\n",
              "<style scoped>\n",
              "    .dataframe tbody tr th:only-of-type {\n",
              "        vertical-align: middle;\n",
              "    }\n",
              "\n",
              "    .dataframe tbody tr th {\n",
              "        vertical-align: top;\n",
              "    }\n",
              "\n",
              "    .dataframe thead th {\n",
              "        text-align: right;\n",
              "    }\n",
              "</style>\n",
              "<table border=\"1\" class=\"dataframe\">\n",
              "  <thead>\n",
              "    <tr style=\"text-align: right;\">\n",
              "      <th></th>\n",
              "      <th>label</th>\n",
              "      <th>statement</th>\n",
              "    </tr>\n",
              "  </thead>\n",
              "  <tbody>\n",
              "    <tr>\n",
              "      <th>0</th>\n",
              "      <td>True</td>\n",
              "      <td>\"McCain opposes a woman's right to choose.\"</td>\n",
              "    </tr>\n",
              "    <tr>\n",
              "      <th>1</th>\n",
              "      <td>Fake</td>\n",
              "      <td>The name Frank has risen in popularity by 20 p...</td>\n",
              "    </tr>\n",
              "  </tbody>\n",
              "</table>\n",
              "</div>"
            ],
            "text/plain": [
              "  label                                          statement\n",
              "0  True        \"McCain opposes a woman's right to choose.\"\n",
              "1  Fake  The name Frank has risen in popularity by 20 p..."
            ]
          },
          "metadata": {
            "tags": []
          },
          "execution_count": 16
        }
      ]
    },
    {
      "cell_type": "markdown",
      "metadata": {
        "id": "xUb3zDo9_P1R"
      },
      "source": [
        "## Creating Word Clouds for the text 'statements' in the LIAR dataset"
      ]
    },
    {
      "cell_type": "code",
      "metadata": {
        "colab": {
          "base_uri": "https://localhost:8080/",
          "height": 264
        },
        "id": "sLjY19Nc_P1S",
        "outputId": "4b16d1e1-e33b-4c79-f6a3-c9f07ffb1c3f"
      },
      "source": [
        "np.random.seed(0) # setting seed to get similar results over multiple experiments.\n",
        "\n",
        "# word cloud for all the statements in the entire dataset\n",
        "text = bi_class['statement'].values\n",
        "wordcloud = WordCloud(width=3000, height=2000, background_color='white',stopwords=STOPWORDS).generate(str(text))\n",
        "plt.imshow(wordcloud)\n",
        "plt.axis('off')\n",
        "plt.title(\"Word Cloud of 'Statements' in LIAR dataset\")\n",
        "plt.show()"
      ],
      "execution_count": 17,
      "outputs": [
        {
          "output_type": "display_data",
          "data": {
            "image/png": "[encoded data removed]",
            "text/plain": [
              "<Figure size 432x288 with 1 Axes>"
            ]
          },
          "metadata": {
            "tags": [],
            "needs_background": "light"
          }
        }
      ]
    },
    {
      "cell_type": "code",
      "metadata": {
        "id": "3YD9Z40H_P1S"
      },
      "source": [
        "# creating two dataset consisting of True and Fake statements seperately\n",
        "np.random.seed(0)\n",
        "true_statements_dataset = bi_class[bi_class['label'].astype(str) == 'True']\n",
        "fake_statements_dataset = bi_class[bi_class['label'].astype(str) == 'Fake']"
      ],
      "execution_count": 18,
      "outputs": []
    },
    {
      "cell_type": "code",
      "metadata": {
        "colab": {
          "base_uri": "https://localhost:8080/",
          "height": 206
        },
        "id": "p4JA5T9N_P1T",
        "outputId": "a827828e-508c-444c-f5bc-38f56ea66a69"
      },
      "source": [
        "np.random.seed(0)\n",
        "# contains only TRUE statements\n",
        "true_statements_dataset.head(5)"
      ],
      "execution_count": 19,
      "outputs": [
        {
          "output_type": "execute_result",
          "data": {
            "text/html": [
              "<div>\n",
              "<style scoped>\n",
              "    .dataframe tbody tr th:only-of-type {\n",
              "        vertical-align: middle;\n",
              "    }\n",
              "\n",
              "    .dataframe tbody tr th {\n",
              "        vertical-align: top;\n",
              "    }\n",
              "\n",
              "    .dataframe thead th {\n",
              "        text-align: right;\n",
              "    }\n",
              "</style>\n",
              "<table border=\"1\" class=\"dataframe\">\n",
              "  <thead>\n",
              "    <tr style=\"text-align: right;\">\n",
              "      <th></th>\n",
              "      <th>label</th>\n",
              "      <th>statement</th>\n",
              "    </tr>\n",
              "  </thead>\n",
              "  <tbody>\n",
              "    <tr>\n",
              "      <th>0</th>\n",
              "      <td>True</td>\n",
              "      <td>\"McCain opposes a woman's right to choose.\"</td>\n",
              "    </tr>\n",
              "    <tr>\n",
              "      <th>3</th>\n",
              "      <td>True</td>\n",
              "      <td>Its been 14 years since a president or a vice ...</td>\n",
              "    </tr>\n",
              "    <tr>\n",
              "      <th>4</th>\n",
              "      <td>True</td>\n",
              "      <td>In the year 2013, the Obama administration rel...</td>\n",
              "    </tr>\n",
              "    <tr>\n",
              "      <th>5</th>\n",
              "      <td>True</td>\n",
              "      <td>Says the United States does not trade as much ...</td>\n",
              "    </tr>\n",
              "    <tr>\n",
              "      <th>7</th>\n",
              "      <td>True</td>\n",
              "      <td>Says 24 million people in this country cant fi...</td>\n",
              "    </tr>\n",
              "  </tbody>\n",
              "</table>\n",
              "</div>"
            ],
            "text/plain": [
              "  label                                          statement\n",
              "0  True        \"McCain opposes a woman's right to choose.\"\n",
              "3  True  Its been 14 years since a president or a vice ...\n",
              "4  True  In the year 2013, the Obama administration rel...\n",
              "5  True  Says the United States does not trade as much ...\n",
              "7  True  Says 24 million people in this country cant fi..."
            ]
          },
          "metadata": {
            "tags": []
          },
          "execution_count": 19
        }
      ]
    },
    {
      "cell_type": "code",
      "metadata": {
        "colab": {
          "base_uri": "https://localhost:8080/",
          "height": 206
        },
        "id": "DjGejIaa_P1T",
        "outputId": "580e6b78-6323-4f51-fa26-0bc0722f6ae8"
      },
      "source": [
        "# contains only FAKE statements\n",
        "np.random.seed(0)\n",
        "fake_statements_dataset.head(5)"
      ],
      "execution_count": 20,
      "outputs": [
        {
          "output_type": "execute_result",
          "data": {
            "text/html": [
              "<div>\n",
              "<style scoped>\n",
              "    .dataframe tbody tr th:only-of-type {\n",
              "        vertical-align: middle;\n",
              "    }\n",
              "\n",
              "    .dataframe tbody tr th {\n",
              "        vertical-align: top;\n",
              "    }\n",
              "\n",
              "    .dataframe thead th {\n",
              "        text-align: right;\n",
              "    }\n",
              "</style>\n",
              "<table border=\"1\" class=\"dataframe\">\n",
              "  <thead>\n",
              "    <tr style=\"text-align: right;\">\n",
              "      <th></th>\n",
              "      <th>label</th>\n",
              "      <th>statement</th>\n",
              "    </tr>\n",
              "  </thead>\n",
              "  <tbody>\n",
              "    <tr>\n",
              "      <th>1</th>\n",
              "      <td>Fake</td>\n",
              "      <td>The name Frank has risen in popularity by 20 p...</td>\n",
              "    </tr>\n",
              "    <tr>\n",
              "      <th>2</th>\n",
              "      <td>Fake</td>\n",
              "      <td>Says Ted Cruz never denied his father was phot...</td>\n",
              "    </tr>\n",
              "    <tr>\n",
              "      <th>6</th>\n",
              "      <td>Fake</td>\n",
              "      <td>\"Oil companies ...currently have 68-million ac...</td>\n",
              "    </tr>\n",
              "    <tr>\n",
              "      <th>8</th>\n",
              "      <td>Fake</td>\n",
              "      <td>President Obama went around the world and apol...</td>\n",
              "    </tr>\n",
              "    <tr>\n",
              "      <th>12</th>\n",
              "      <td>Fake</td>\n",
              "      <td>The new health care law crushes small business...</td>\n",
              "    </tr>\n",
              "  </tbody>\n",
              "</table>\n",
              "</div>"
            ],
            "text/plain": [
              "   label                                          statement\n",
              "1   Fake  The name Frank has risen in popularity by 20 p...\n",
              "2   Fake  Says Ted Cruz never denied his father was phot...\n",
              "6   Fake  \"Oil companies ...currently have 68-million ac...\n",
              "8   Fake  President Obama went around the world and apol...\n",
              "12  Fake  The new health care law crushes small business..."
            ]
          },
          "metadata": {
            "tags": []
          },
          "execution_count": 20
        }
      ]
    },
    {
      "cell_type": "code",
      "metadata": {
        "colab": {
          "base_uri": "https://localhost:8080/",
          "height": 264
        },
        "id": "ReQvxdxv_P1U",
        "outputId": "f0ed7cc9-aa3e-41dc-844c-f7206c1ccf76"
      },
      "source": [
        "np.random.seed(0)\n",
        "# creating word cloud for only those statements that are TRUE\n",
        "text_true = true_statements_dataset['statement'].values\n",
        "wordcloud_true = WordCloud(width=3000, height=2000, background_color='white',stopwords=STOPWORDS).generate(str(text_true))\n",
        "plt.imshow(wordcloud_true)\n",
        "plt.axis('off')\n",
        "plt.title(\"Word Cloud of statements that are TRUE\")\n",
        "plt.show()"
      ],
      "execution_count": 21,
      "outputs": [
        {
          "output_type": "display_data",
          "data": {
            "image/png": "[encoded data removed]",
            "text/plain": [
              "<Figure size 432x288 with 1 Axes>"
            ]
          },
          "metadata": {
            "tags": [],
            "needs_background": "light"
          }
        }
      ]
    },
    {
      "cell_type": "code",
      "metadata": {
        "colab": {
          "base_uri": "https://localhost:8080/",
          "height": 264
        },
        "id": "G_d5ETlu_P1V",
        "outputId": "48617c57-8ad9-408a-e170-81166356195d"
      },
      "source": [
        "np.random.seed(0)\n",
        "# creating word cloud for or only those statements that are FAKE\n",
        "text_false = fake_statements_dataset['statement'].values\n",
        "wordcloud_false = WordCloud(width=3000, height=2000, background_color='white',stopwords=STOPWORDS).generate(str(text_false))\n",
        "plt.imshow(wordcloud_false)\n",
        "plt.axis('off')\n",
        "plt.title(\"Word Cloud of statements that are FALSE\")\n",
        "plt.show()"
      ],
      "execution_count": 22,
      "outputs": [
        {
          "output_type": "display_data",
          "data": {
            "image/png": "[encoded data removed]",
            "text/plain": [
              "<Figure size 432x288 with 1 Axes>"
            ]
          },
          "metadata": {
            "tags": [],
            "needs_background": "light"
          }
        }
      ]
    },
    {
      "cell_type": "markdown",
      "metadata": {
        "id": "c1GckrzF_P1W"
      },
      "source": [
        "### Exploring the 'speakers' who have given the statements in the LIAR dataset"
      ]
    },
    {
      "cell_type": "code",
      "metadata": {
        "colab": {
          "base_uri": "https://localhost:8080/"
        },
        "id": "jtNEnNQl_P1l",
        "outputId": "ac0a4514-b1ac-4b6f-b2d7-17078888d336"
      },
      "source": [
        "\"\"\"finding the total number of unique 'speakers' in the LIAR dataset\"\"\"\n",
        "speakers_data = df_raw.copy()\n",
        "speakers = speakers_data['speaker'].unique()\n",
        "\n",
        "print(\"The total number of speakers in the LIAR dataset is : %d  \" % len(speakers))\n",
        "print()\n",
        "print(\"Some sample speakers are:\\n\", speakers[:10].tolist())"
      ],
      "execution_count": 30,
      "outputs": [
        {
          "output_type": "stream",
          "text": [
            "The total number of speakers in the LIAR dataset is : 3318  \n",
            "\n",
            "Some sample speakers are:\n",
            " ['moveon', 'matt-lauer', 'donald-trump', 'candy-crowley', 'ted-cruz', 'rob-portman', 'barack-obama', 'alan-grayson', 'mitt-romney', 'joe-biden']\n"
          ],
          "name": "stdout"
        }
      ]
    },
    {
      "cell_type": "code",
      "metadata": {
        "colab": {
          "base_uri": "https://localhost:8080/"
        },
        "id": "sxSgvJfr_P1n",
        "outputId": "a92d13d8-e99c-4b08-f127-8f73d3d3e87b"
      },
      "source": [
        "\n",
        "\"\"\"\"displaying all the speakers in exploratory plot will not be possible nor meaningful.\n",
        "            Hence finding the top speakers who have made frequent statements\"\"\"\n",
        "\n",
        "speakers_cts = speakers_data.groupby(\"speaker\").statement.count()\n",
        "speakers = speakers_cts[speakers_cts > 100] # speakers who have made more than 100 statements.\n",
        "print(\"There are %d speakers who have made statements more than 50 times in the dataset\" % len(speakers))\n",
        "print()\n",
        "print(\"Some of the speakers and the number of statements made by them are:\\n\", speakers[:10])"
      ],
      "execution_count": 31,
      "outputs": [
        {
          "output_type": "stream",
          "text": [
            "There are 13 speakers who have made statements more than 50 times in the dataset\n",
            "\n",
            "Some of the speakers and the number of statements made by them are:\n",
            " speaker\n",
            "barack-obama       616\n",
            "bernie-s           107\n",
            "chain-email        178\n",
            "chris-christie     105\n",
            "donald-trump       344\n",
            "hillary-clinton    297\n",
            "john-mccain        189\n",
            "marco-rubio        153\n",
            "mitt-romney        216\n",
            "rick-perry         173\n",
            "Name: statement, dtype: int64\n"
          ],
          "name": "stdout"
        }
      ]
    },
    {
      "cell_type": "code",
      "metadata": {
        "id": "sCO5CPFR_P1n"
      },
      "source": [
        "#Limiting ourselves to only prominent speakers for visualization\n",
        "speakers_data = speakers_data[speakers_data['speaker'].isin(speakers.keys())]"
      ],
      "execution_count": 32,
      "outputs": []
    },
    {
      "cell_type": "code",
      "metadata": {
        "id": "rvmZ2kOJ_P1o"
      },
      "source": [
        "\"\"\"function to groupby the speakers by the class and count of statements spoken by them\"\"\"\n",
        "\n",
        "def class_counts(data, column):\n",
        "    return data.groupby([column,\"label\"]).agg({\"ID\" : \"count\"})\n"
      ],
      "execution_count": 33,
      "outputs": []
    },
    {
      "cell_type": "markdown",
      "metadata": {
        "id": "u-nKk2l4_P1o"
      },
      "source": [
        "#### Plot of top 13 speakers in the LIAR dataset labelled by class and count of statements they have given."
      ]
    },
    {
      "cell_type": "code",
      "metadata": {
        "colab": {
          "base_uri": "https://localhost:8080/",
          "height": 430
        },
        "id": "YT9QFTCP_P1p",
        "outputId": "fa05066f-182a-463e-fc67-282cbe34175a"
      },
      "source": [
        "# stacked bar plot of speakrs with class and count of statements\n",
        "breakdown = class_counts(speakers_data, 'speaker')\n",
        "breakdown.unstack().plot(kind='bar', stacked=True, figsize=(15,5))\n",
        "plt.title(\"Top 13 speakers in the LIAR dataset with count and class of statements made\")"
      ],
      "execution_count": 36,
      "outputs": [
        {
          "output_type": "execute_result",
          "data": {
            "text/plain": [
              "Text(0.5, 1.0, 'Top 13 speakers in the LIAR dataset with count and class of statements made')"
            ]
          },
          "metadata": {
            "tags": []
          },
          "execution_count": 36
        },
        {
          "output_type": "display_data",
          "data": {
            "image/png": "[encoded data removed]",
            "text/plain": [
              "<Figure size 1080x360 with 1 Axes>"
            ]
          },
          "metadata": {
            "tags": [],
            "needs_background": "light"
          }
        }
      ]
    },
    {
      "cell_type": "code",
      "metadata": {
        "id": "OwdnQ6Il_P1p"
      },
      "source": [
        "# Function for Normalising the statements and the speakers for comparison purpose\n",
        "\n",
        "def normalize(data, column):\n",
        "    norm = data.reset_index()\n",
        "    norm = norm.set_index([column,'label'])['ID'].unstack(fill_value=0)\n",
        "\n",
        "    row_totals = norm.sum(axis=1)\n",
        "    for row in range(len(norm.index)):\n",
        "        norm.iloc[row]/= row_totals[row]\n",
        "\n",
        "    norm = norm.stack().reset_index(name='Percent').set_index([column, 'label'])\n",
        "    return norm"
      ],
      "execution_count": 37,
      "outputs": []
    },
    {
      "cell_type": "markdown",
      "metadata": {
        "id": "h2yD-zZb_P1p"
      },
      "source": [
        "#### Normalised plot of top 13 speakers in the LIAR dataset labelled type of statements they have given (for comparison)"
      ]
    },
    {
      "cell_type": "code",
      "metadata": {
        "colab": {
          "base_uri": "https://localhost:8080/",
          "height": 430
        },
        "id": "g1qvb4cj_P1q",
        "outputId": "db8c557f-ad64-46b0-f50e-6a7b61e56864"
      },
      "source": [
        "normalised_data = normalize(breakdown, 'speaker')\n",
        "normalised_data.unstack().plot(kind='bar', stacked=True, figsize=(15,5))\n",
        "plt.title(\"Top 13 speakers in the LIAR dataset with count and class of statements made by them\")"
      ],
      "execution_count": 38,
      "outputs": [
        {
          "output_type": "execute_result",
          "data": {
            "text/plain": [
              "Text(0.5, 1.0, 'Top 13 speakers in the LIAR dataset with count and class of statements made by them')"
            ]
          },
          "metadata": {
            "tags": []
          },
          "execution_count": 38
        },
        {
          "output_type": "display_data",
          "data": {
            "image/png": "[encoded data removed]",
            "text/plain": [
              "<Figure size 1080x360 with 1 Axes>"
            ]
          },
          "metadata": {
            "tags": [],
            "needs_background": "light"
          }
        }
      ]
    },
    {
      "cell_type": "markdown",
      "metadata": {
        "id": "iQkeFskY_P1r"
      },
      "source": [
        "From the above plot it can be seen that Facebook posts, Chain emails and Donald Trump have relatively higher number of 'pant-on_fire' fake statements compared to other speakers. We can also note that even though Obama made highest number of statements, his pant-on-fire statements are almost nill."
      ]
    },
    {
      "cell_type": "markdown",
      "metadata": {
        "id": "cm-IhPgW_P1r"
      },
      "source": [
        "### Exploring the parties who have given statements in the LIAR dataset"
      ]
    },
    {
      "cell_type": "code",
      "metadata": {
        "colab": {
          "base_uri": "https://localhost:8080/"
        },
        "id": "4J5MBhXX_P1s",
        "outputId": "451944aa-0b77-4db6-e718-c30692ff4fab"
      },
      "source": [
        "# finding total number of parties in the LIAR dataset\n",
        "parties_data = df_raw.copy()\n",
        "parties = parties_data['party'].unique()\n",
        "print(\"The total number of parties in LIAR dataset are : %d\" % len(parties))\n",
        "print()\n",
        "print(\"Some  parties are:\\n\", parties.tolist())"
      ],
      "execution_count": 39,
      "outputs": [
        {
          "output_type": "stream",
          "text": [
            "The total number of parties in LIAR dataset are : 24\n",
            "\n",
            "Some  parties are:\n",
            " ['democrat', 'none', 'republican', 'organization', 'journalist', 'newsmaker', 'independent', 'libertarian', 'state-official', 'columnist', 'activist', 'tea-party-member', 'labor-leader', 'talk-show-host', 'ocean-state-tea-party-action', 'business-leader', 'county-commissioner', 'constitution-party', 'government-body', 'education-official', 'democratic-farmer-labor', 'green', 'Moderate', 'liberal-party-canada']\n"
          ],
          "name": "stdout"
        }
      ]
    },
    {
      "cell_type": "code",
      "metadata": {
        "colab": {
          "base_uri": "https://localhost:8080/"
        },
        "id": "pEf7YcTU_P1s",
        "outputId": "052f458c-df93-4693-ac47-ba88813196f0"
      },
      "source": [
        "# limiting the parties to those which have made frequent statements in the dataset.\n",
        "parties_count = parties_data.groupby(\"party\").statement.count()\n",
        "parties = parties_count[parties_count > 20]     # more than 20 statements\n",
        "\n",
        "print(\"Number of parties or entities who have made more than 20 statements in the LIAR dataset : %d\" % len(parties))\n",
        "print()\n",
        "print(\"Some of the parties and number of statements made by them are :\\n\", parties[:10])"
      ],
      "execution_count": 40,
      "outputs": [
        {
          "output_type": "stream",
          "text": [
            "Number of parties or entities who have made more than 20 statements in the LIAR dataset : 12\n",
            "\n",
            "Some of the parties and number of statements made by them are :\n",
            " party\n",
            "activist          47\n",
            "columnist         45\n",
            "democrat        4150\n",
            "independent      182\n",
            "journalist        49\n",
            "libertarian       51\n",
            "newsmaker         66\n",
            "none            2185\n",
            "organization     265\n",
            "republican      5687\n",
            "Name: statement, dtype: int64\n"
          ],
          "name": "stdout"
        }
      ]
    },
    {
      "cell_type": "code",
      "metadata": {
        "id": "J9LXniFr_P1t"
      },
      "source": [
        "## Limiting ourselves to the top 12 parties in the LIAR dataset\n",
        "\n",
        "parties_data = parties_data[parties_data['party'].isin(parties.keys())]"
      ],
      "execution_count": 41,
      "outputs": []
    },
    {
      "cell_type": "markdown",
      "metadata": {
        "id": "8OTBzKqZ_P1u"
      },
      "source": [
        "####  Plot of top 12 parties in the LIAR dataset labelled type of statements they have given"
      ]
    },
    {
      "cell_type": "code",
      "metadata": {
        "colab": {
          "base_uri": "https://localhost:8080/",
          "height": 420
        },
        "id": "W2CdSaSs_P1u",
        "outputId": "5196e0ee-20cb-4acd-8e58-0d9e2a658bb9"
      },
      "source": [
        "breakdown = class_counts(parties_data, 'party')\n",
        "breakdown.unstack().plot(kind='bar', stacked=True, figsize=(20,5))\n",
        "plt.title(\"Top 12 parties/entities in the LIAR dataset with count and class of statements made by them\")"
      ],
      "execution_count": 42,
      "outputs": [
        {
          "output_type": "execute_result",
          "data": {
            "text/plain": [
              "Text(0.5, 1.0, 'Top 12 parties/entities in the LIAR dataset with count and class of statements made by them')"
            ]
          },
          "metadata": {
            "tags": []
          },
          "execution_count": 42
        },
        {
          "output_type": "display_data",
          "data": {
            "image/png": "[encoded data removed]",
            "text/plain": [
              "<Figure size 1440x360 with 1 Axes>"
            ]
          },
          "metadata": {
            "tags": [],
            "needs_background": "light"
          }
        }
      ]
    },
    {
      "cell_type": "markdown",
      "metadata": {
        "id": "ZgbItP4d_P1v"
      },
      "source": [
        "#### Normalised plot of top 12 parties in the LIAR dataset labelled type of statements they have given (for comparison)"
      ]
    },
    {
      "cell_type": "code",
      "metadata": {
        "colab": {
          "base_uri": "https://localhost:8080/",
          "height": 432
        },
        "id": "adyl1a10_P1v",
        "outputId": "a513a93c-8f88-4a91-e7f8-33e983c4fea2"
      },
      "source": [
        "normalized_data = normalize(breakdown, 'party')\n",
        "normalized_data.unstack().plot(kind='bar', stacked=True, figsize=(15,5))\n",
        "plt.title(\"Top 12 parties/entities in the LIAR dataset with count and class of statements made by them\")"
      ],
      "execution_count": 43,
      "outputs": [
        {
          "output_type": "execute_result",
          "data": {
            "text/plain": [
              "Text(0.5, 1.0, 'Top 12 parties/entities in the LIAR dataset with count and class of statements made by them')"
            ]
          },
          "metadata": {
            "tags": []
          },
          "execution_count": 43
        },
        {
          "output_type": "display_data",
          "data": {
            "image/png": "[encoded data removed]",
            "text/plain": [
              "<Figure size 1080x360 with 1 Axes>"
            ]
          },
          "metadata": {
            "tags": [],
            "needs_background": "light"
          }
        }
      ]
    },
    {
      "cell_type": "markdown",
      "metadata": {
        "id": "RBWLHANl_P1w"
      },
      "source": [
        "# Using CountVectorizer for Extracting features from 'statements' in LIAR dataset"
      ]
    },
    {
      "cell_type": "code",
      "metadata": {
        "id": "coc8I6PA_P1w"
      },
      "source": [
        "# specifying features and labels\n",
        "X= df_raw['statement']\n",
        "y=df_raw['label']"
      ],
      "execution_count": 44,
      "outputs": []
    },
    {
      "cell_type": "code",
      "metadata": {
        "colab": {
          "base_uri": "https://localhost:8080/"
        },
        "id": "-m-urhs7_P1x",
        "outputId": "4834751e-e5e2-4b2c-f718-485ee81c1de0"
      },
      "source": [
        "# sample statements\n",
        "X.head(5).tolist()"
      ],
      "execution_count": 45,
      "outputs": [
        {
          "output_type": "execute_result",
          "data": {
            "text/plain": [
              "['\"McCain opposes a woman\\'s right to choose.\"',\n",
              " 'The name Frank has risen in popularity by 20 percent since the debut of House of Cardson Netflix.',\n",
              " 'Says Ted Cruz never denied his father was photographedwith Lee Harvey Oswald.',\n",
              " 'Its been 14 years since a president or a vice president or a member of their family has not gone and attended at least an event at the Olympics.',\n",
              " 'In the year 2013, the Obama administration released 104,000 criminal illegal aliens. They released 196 murderers people with homicide convictions, who are here illegally.']"
            ]
          },
          "metadata": {
            "tags": []
          },
          "execution_count": 45
        }
      ]
    },
    {
      "cell_type": "code",
      "metadata": {
        "colab": {
          "base_uri": "https://localhost:8080/"
        },
        "id": "joqo-Fg3_P1x",
        "outputId": "99ddf02e-5195-48dd-e155-a6a3232f0897"
      },
      "source": [
        "#sample labels\n",
        "y.head(5)"
      ],
      "execution_count": 46,
      "outputs": [
        {
          "output_type": "execute_result",
          "data": {
            "text/plain": [
              "0           true\n",
              "1    barely-true\n",
              "2     pants-fire\n",
              "3           true\n",
              "4      half-true\n",
              "Name: label, dtype: object"
            ]
          },
          "metadata": {
            "tags": []
          },
          "execution_count": 46
        }
      ]
    },
    {
      "cell_type": "code",
      "metadata": {
        "colab": {
          "base_uri": "https://localhost:8080/"
        },
        "id": "i02nQybU_P1x",
        "outputId": "c6811fed-953c-426d-8a56-72c446dd83b3"
      },
      "source": [
        "# specifying train and test split with ratio of 80:20\n",
        "X_train, X_test, y_train, y_test = train_test_split(X,y, test_size=0.2, random_state = 0, stratify=y)\n",
        "print(len(X_train), len(X_test))\n",
        "print(len(y_train), len(y_test))"
      ],
      "execution_count": 57,
      "outputs": [
        {
          "output_type": "stream",
          "text": [
            "10268 2568\n",
            "10268 2568\n"
          ],
          "name": "stdout"
        }
      ]
    },
    {
      "cell_type": "markdown",
      "metadata": {
        "id": "dbuAcIvu_P1y"
      },
      "source": [
        "### Custom Pre - Processing and Tokenisation of the data"
      ]
    },
    {
      "cell_type": "code",
      "metadata": {
        "colab": {
          "base_uri": "https://localhost:8080/"
        },
        "id": "gQjKm5byUHVX",
        "outputId": "797fa004-950d-4b39-e63e-e1614ce27daa"
      },
      "source": [
        "import nltk\n",
        "nltk.download('stopwords')"
      ],
      "execution_count": 52,
      "outputs": [
        {
          "output_type": "stream",
          "text": [
            "[nltk_data] Downloading package stopwords to /root/nltk_data...\n",
            "[nltk_data]   Unzipping corpora/stopwords.zip.\n"
          ],
          "name": "stdout"
        },
        {
          "output_type": "execute_result",
          "data": {
            "text/plain": [
              "True"
            ]
          },
          "metadata": {
            "tags": []
          },
          "execution_count": 52
        }
      ]
    },
    {
      "cell_type": "code",
      "metadata": {
        "colab": {
          "base_uri": "https://localhost:8080/",
          "height": 36
        },
        "id": "_5Wbk1oN_P10",
        "outputId": "3b73eca3-ce15-4573-fda8-d98076f4b201"
      },
      "source": [
        "\n",
        "\"\"\" Regular expression for cleaning the statements\"\"\"\n",
        "\n",
        "hashtag_re = re.compile(r\"#\\w+\")\n",
        "mention_re = re.compile(r\"@\\w+\")\n",
        "url_re = re.compile(r\"(?:https?://)?(?:[-\\w]+\\.)+[a-zA-Z]{2,9}[-\\w/#~:;.?+=&%@~]*\")\n",
        "extras_re = re.compile(\"[.;:!\\'?,\\\"()\\[\\]]\")\n",
        "#apos_re = \"\\'[a-z]*\"\n",
        "#leftover_re = \"\\S+\"\n",
        "\n",
        "\"\"\" Preprocessing the text in the statements\"\"\"\n",
        "def preprocess(text):\n",
        "    p_text = hashtag_re.sub(\"[hashtag]\",text)\n",
        "    p_text = mention_re.sub(\"[mention]\",p_text)\n",
        "    p_text = extras_re.sub(\"\",p_text)\n",
        "    p_text = url_re.sub(\"[url]\",p_text)\n",
        "    p_text = ftfy.fix_text(p_text)\n",
        "    return p_text.lower()\n",
        "\n",
        "# regular expression for custom tokenisation\"\n",
        "tokenise_re = re.compile(r\"(\\[[^\\]]+\\]|[-'\\w]+|[^\\s\\w\\[']+)\") #([]|words|other non-space)\n",
        "\n",
        "# defining 3 types of tokenisation\n",
        "\n",
        "def custom_tokenise(text):\n",
        "    return tokenise_re.findall(text.lower())\n",
        "\n",
        "def Tokenizer(str_input):\n",
        "    words = re.sub(r\"[^A-Za-z0-9\\-]\", \" \", str_input).lower().split()\n",
        "    porter_stemmer=nltk.PorterStemmer()\n",
        "    words = [porter_stemmer.stem(word) for word in words]\n",
        "    return words\n",
        "\n",
        "\n",
        "def nltk_twitter_tokenise(text):\n",
        "    twtok = nltk.tokenize.TweetTokenizer()\n",
        "    return twtok.tokenize(text.lower())\n",
        "\n",
        "# stop words list set to english\n",
        "stopwords_list = stopwords.words('english') # stop word list\n",
        "\n",
        "\n",
        "\n",
        "\"\"\" function for decontracting the statements\"\"\"\n",
        "#def decontracted(phrase):\n",
        "   # phrase = re.sub(r\"won\\'t\", \"will not\", phrase)\n",
        "   # phrase = re.sub(r\"can\\'t\", \"can not\", phrase)\n",
        "   # phrase = re.sub(r\"n\\'t\", \" not\", phrase)\n",
        "   # phrase = re.sub(r\"\\'re\", \" are\", phrase)\n",
        "   # phrase = re.sub(r\"\\'s\", \" is\", phrase)\n",
        "   # phrase = re.sub(r\"\\'d\", \" would\", phrase)\n",
        "    #phrase = re.sub(r\"\\'ll\", \" will\", phrase)\n",
        "    #phrase = re.sub(r\"\\'t\", \" not\", phrase)\n",
        "    #phrase = re.sub(r\"\\'ve\", \" have\", phrase)\n",
        "   # phrase = re.sub(r\"\\'m\", \" am\", phrase)\n",
        "    #return phrase"
      ],
      "execution_count": 53,
      "outputs": [
        {
          "output_type": "execute_result",
          "data": {
            "application/vnd.google.colaboratory.intrinsic+json": {
              "type": "string"
            },
            "text/plain": [
              "' function for decontracting the statements'"
            ]
          },
          "metadata": {
            "tags": []
          },
          "execution_count": 53
        }
      ]
    },
    {
      "cell_type": "markdown",
      "metadata": {
        "id": "4C7lLcrZ_P11"
      },
      "source": [
        "### Defining custom functions for displaying results of Classification"
      ]
    },
    {
      "cell_type": "code",
      "metadata": {
        "id": "ZSDLzhol_P11"
      },
      "source": [
        "# function for results of cross-validation\n",
        "def print_cv_scores_summary(name, scores):\n",
        "    print(\"{}: mean = {:.2f}%, sd = {:.2f}%, min = {:.2f}, max = {:.2f}\".format(name, scores.mean()*100, scores.std()*100, scores.min()*100, scores.max()*100))\n",
        "\n",
        "\n",
        "# fucntion for results of model fitting\n",
        "def print_scores():\n",
        "    print(\"Accuracy: \", accuracy_score(y_test, predictions))\n",
        "    print(classification_report(y_test, predictions))\n",
        "    print(confusion_matrix(y_test, predictions))\n",
        "    \n",
        "# function for displaying confusion matrix\n",
        "def confusion_matrix_heatmap(cm, index):\n",
        "    cmdf = pd.DataFrame(cm, index = index, columns=index)\n",
        "    dims = (10, 8)\n",
        "    fig, ax = plt.subplots(figsize=dims)\n",
        "    sns.heatmap(cmdf, annot=True, cmap=\"BuPu\", center=0, fmt='g')\n",
        "    ax.set_ylabel('Actual')    \n",
        "    ax.set_xlabel('Predicted')\n",
        "\n",
        "# function for displaying confusion matrix in percentage terms\n",
        "def confusion_matrix_percent_heatmap(cm, index):\n",
        "    cmdf = pd.DataFrame(cm, index = index, columns=index)\n",
        "    percents = cmdf.div(cmdf.sum(axis=1), axis=0)*100\n",
        "    dims = (10, 10)\n",
        "    fig, ax = plt.subplots(figsize=dims)\n",
        "    sns.heatmap(percents, annot=True, cmap=\"PiYG\", center=0, vmin=0, vmax=100)\n",
        "    ax.set_ylabel('Actual')    \n",
        "    ax.set_xlabel('Predicted')\n",
        "    cbar = ax.collections[0].colorbar\n",
        "    cbar.set_ticks([0, 25, 50, 75, 100])\n",
        "    cbar.set_ticklabels(['0%', '25%', '50%', '75%', '100%'])\n",
        "    \n",
        "#list(df_columns.columns))-list(df_raw['labels'])\"coolwarm\"'Blues'PiYG'BuPu'"
      ],
      "execution_count": 54,
      "outputs": []
    },
    {
      "cell_type": "markdown",
      "metadata": {
        "id": "SB-YuYaV_P12"
      },
      "source": [
        "## Creating Pipeline with CountVectorizer with Custom preprocessing, Tokenisation, Stopwords, Normalistion (using TFIDTransformer), Feature selection and Logistic regression classifier"
      ]
    },
    {
      "cell_type": "code",
      "metadata": {
        "id": "NfcrUoMI_P14"
      },
      "source": [
        "model = Pipeline([\n",
        "    ('vectorizer', CountVectorizer(analyzer='word',preprocessor=preprocess,tokenizer=Tokenizer,stop_words=stopwords_list)),\n",
        "    ('norm2', TfidfTransformer(norm=None)),\n",
        "    ('selector', SelectKBest(chi2, k=1000)),\n",
        "    ('clf', LogisticRegression(solver='liblinear', random_state=0)),\n",
        "])"
      ],
      "execution_count": 55,
      "outputs": []
    },
    {
      "cell_type": "code",
      "metadata": {
        "colab": {
          "base_uri": "https://localhost:8080/"
        },
        "id": "XK46AaXC_P14",
        "outputId": "fef1c810-c09c-48ee-b3dd-1edfa2af886b"
      },
      "source": [
        "# fitting the model\n",
        "model.fit(X_train, y_train)\n",
        "predictions = model.predict(X_test)\n",
        "print_scores() # using the predefined function to display results of the classification"
      ],
      "execution_count": 63,
      "outputs": [
        {
          "output_type": "stream",
          "text": [
            "Accuracy:  0.24143302180685358\n",
            "              precision    recall  f1-score   support\n",
            "\n",
            " barely-true       0.25      0.17      0.20       422\n",
            "       false       0.22      0.40      0.28       502\n",
            "   half-true       0.24      0.25      0.25       528\n",
            " mostly-true       0.26      0.25      0.25       493\n",
            "  pants-fire       0.32      0.15      0.20       210\n",
            "        true       0.26      0.15      0.19       413\n",
            "\n",
            "    accuracy                           0.24      2568\n",
            "   macro avg       0.26      0.23      0.23      2568\n",
            "weighted avg       0.25      0.24      0.23      2568\n",
            "\n",
            "[[ 70 163  85  64  17  23]\n",
            " [ 59 202 109  76  18  38]\n",
            " [ 60 172 134  94  15  53]\n",
            " [ 31 159 120 121   9  53]\n",
            " [ 28  84  39  19  31   9]\n",
            " [ 29 146  75  93   8  62]]\n"
          ],
          "name": "stdout"
        }
      ]
    },
    {
      "cell_type": "code",
      "metadata": {
        "colab": {
          "base_uri": "https://localhost:8080/"
        },
        "id": "qmf4ntuQ_P14",
        "outputId": "32e786a1-9cf3-4b67-f0ee-94f193af0789"
      },
      "source": [
        "# limiting the max features to 1000 and checking the model\n",
        "model.set_params(vectorizer__max_features=1000)"
      ],
      "execution_count": 64,
      "outputs": [
        {
          "output_type": "execute_result",
          "data": {
            "text/plain": [
              "Pipeline(memory=None,\n",
              "         steps=[('vectorizer',\n",
              "                 CountVectorizer(analyzer='word', binary=False,\n",
              "                                 decode_error='strict',\n",
              "                                 dtype=<class 'numpy.int64'>, encoding='utf-8',\n",
              "                                 input='content', lowercase=True, max_df=1.0,\n",
              "                                 max_features=1000, min_df=1,\n",
              "                                 ngram_range=(1, 1),\n",
              "                                 preprocessor=<function preprocess at 0x7fe52d2b1b90>,\n",
              "                                 stop_words=['i', 'me', 'my', 'myself', 'we',\n",
              "                                             'our', 'ours', 'oursel...\n",
              "                                  sublinear_tf=False, use_idf=True)),\n",
              "                ('selector',\n",
              "                 SelectKBest(k=1000,\n",
              "                             score_func=<function chi2 at 0x7fe53b681710>)),\n",
              "                ('clf',\n",
              "                 LogisticRegression(C=1.0, class_weight=None, dual=False,\n",
              "                                    fit_intercept=True, intercept_scaling=1,\n",
              "                                    l1_ratio=None, max_iter=100,\n",
              "                                    multi_class='auto', n_jobs=None,\n",
              "                                    penalty='l2', random_state=0,\n",
              "                                    solver='liblinear', tol=0.0001, verbose=0,\n",
              "                                    warm_start=False))],\n",
              "         verbose=False)"
            ]
          },
          "metadata": {
            "tags": []
          },
          "execution_count": 64
        }
      ]
    },
    {
      "cell_type": "code",
      "metadata": {
        "colab": {
          "base_uri": "https://localhost:8080/"
        },
        "id": "Fepnyd4A_P15",
        "outputId": "af42a7cd-4e79-493e-baa5-7a84e7c83d15"
      },
      "source": [
        "model.fit(X_train, y_train)\n",
        "predictions = model.predict(X_test)\n",
        "print_scores()\n",
        "# the accuracy is reduced so reverting back without setting max features"
      ],
      "execution_count": 65,
      "outputs": [
        {
          "output_type": "stream",
          "text": [
            "Accuracy:  0.23870716510903428\n",
            "              precision    recall  f1-score   support\n",
            "\n",
            " barely-true       0.23      0.20      0.22       422\n",
            "       false       0.25      0.30      0.27       502\n",
            "   half-true       0.24      0.24      0.24       528\n",
            " mostly-true       0.27      0.27      0.27       493\n",
            "  pants-fire       0.19      0.17      0.18       210\n",
            "        true       0.21      0.21      0.21       413\n",
            "\n",
            "    accuracy                           0.24      2568\n",
            "   macro avg       0.23      0.23      0.23      2568\n",
            "weighted avg       0.24      0.24      0.24      2568\n",
            "\n",
            "[[ 84 113  79  62  29  55]\n",
            " [ 70 149  92  71  48  72]\n",
            " [ 71 103 125 107  36  86]\n",
            " [ 63  86  91 132  22  99]\n",
            " [ 32  58  45  21  36  18]\n",
            " [ 39  87  90  88  22  87]]\n"
          ],
          "name": "stdout"
        }
      ]
    },
    {
      "cell_type": "markdown",
      "metadata": {
        "id": "rszwYHEO_P16"
      },
      "source": [
        "#### Using Binarizer for normalisation instead of TfidfTransformer (i.e. scale to 0 for not present or 1 for present at any frequency), this is useful when documents are shorts as 'statements' in LIAR dataset"
      ]
    },
    {
      "cell_type": "code",
      "metadata": {
        "id": "h_5Cz2KU_P16"
      },
      "source": [
        "\n",
        "model = Pipeline([\n",
        "    ('vectorizer', CountVectorizer(analyzer='word',preprocessor=preprocess,tokenizer=Tokenizer,stop_words=stopwords_list)),\n",
        "    ('norm', Binarizer()),\n",
        "    ('clf', LogisticRegression(solver='liblinear', random_state=0)),\n",
        "])"
      ],
      "execution_count": 67,
      "outputs": []
    },
    {
      "cell_type": "code",
      "metadata": {
        "colab": {
          "base_uri": "https://localhost:8080/"
        },
        "id": "KkOAfm7E_P17",
        "outputId": "c62764d7-f8e6-4fec-cb94-c7390c2572ee"
      },
      "source": [
        "model.fit(X_train, y_train)\n",
        "predictions = model.predict(X_test)\n",
        "print_scores()\n"
      ],
      "execution_count": 68,
      "outputs": [
        {
          "output_type": "stream",
          "text": [
            "Accuracy:  0.2472741433021807\n",
            "              precision    recall  f1-score   support\n",
            "\n",
            " barely-true       0.25      0.23      0.24       422\n",
            "       false       0.24      0.28      0.26       502\n",
            "   half-true       0.27      0.30      0.28       528\n",
            " mostly-true       0.25      0.25      0.25       493\n",
            "  pants-fire       0.24      0.14      0.17       210\n",
            "        true       0.23      0.21      0.22       413\n",
            "\n",
            "    accuracy                           0.25      2568\n",
            "   macro avg       0.24      0.23      0.24      2568\n",
            "weighted avg       0.25      0.25      0.25      2568\n",
            "\n",
            "[[ 98 100  94  60  23  47]\n",
            " [ 82 140  96  89  28  67]\n",
            " [ 67 100 157 103  19  82]\n",
            " [ 71  98 108 123   8  85]\n",
            " [ 41  57  46  21  29  16]\n",
            " [ 35  88  83 104  15  88]]\n"
          ],
          "name": "stdout"
        }
      ]
    },
    {
      "cell_type": "code",
      "metadata": {
        "colab": {
          "base_uri": "https://localhost:8080/",
          "height": 497
        },
        "id": "Vxp3Kfda_P17",
        "outputId": "3c1c5114-0e0f-470f-cfd6-7048a98386f0"
      },
      "source": [
        "confusion_matrix_heatmap(confusion_matrix(y_test,predictions), model.classes_)"
      ],
      "execution_count": 69,
      "outputs": [
        {
          "output_type": "display_data",
          "data": {
            "image/png": "[encoded data removed]",
            "text/plain": [
              "<Figure size 720x576 with 2 Axes>"
            ]
          },
          "metadata": {
            "tags": [],
            "needs_background": "light"
          }
        }
      ]
    },
    {
      "cell_type": "code",
      "metadata": {
        "id": "JG_w60X4_P18"
      },
      "source": [
        "# code to view the selected features\n",
        "vectorizer = CountVectorizer(analyzer='word')\n",
        "selector = SelectKBest(chi2, k=100)\n",
        "feats = vectorizer.fit_transform(X_train)\n",
        "filtered = selector.fit_transform(feats, y_train)"
      ],
      "execution_count": 70,
      "outputs": []
    },
    {
      "cell_type": "code",
      "metadata": {
        "colab": {
          "base_uri": "https://localhost:8080/"
        },
        "id": "rssyCyX0_P18",
        "outputId": "1ff647c6-a878-4db3-d1d1-986e7d6b9921"
      },
      "source": [
        "from itertools import compress\n",
        "cols = selector.get_support()\n",
        "names = vectorizer.get_feature_names()\n",
        "\n",
        "print(list(compress(names,cols)))"
      ],
      "execution_count": 71,
      "outputs": [
        {
          "output_type": "stream",
          "text": [
            "['000', '10', '247', 'and', 'average', 'bachmann', 'barack', 'beliefs', 'blue', 'border', 'bulbs', 'care', 'country', 'cross', 'cut', 'debunked', 'duffy', 'face', 'georgia', 'gov', 'half', 'hillary', 'in', 'increased', 'jersey', 'jobs', 'kenyan', 'kloppenburgs', 'landrieu', 'last', 'less', 'lowest', 'lying', 'mcauliffe', 'mccain', 'meat', 'michelle', 'million', 'monument', 'more', 'mormon', 'muslim', 'muslims', 'nose', 'obama', 'obamacare', 'obamas', 'of', 'ops', 'oswald', 'outbreak', 'outlaws', 'percent', 'photographed', 'plan', 'poverty', 'president', 'prisons', 'protein', 'radar', 'rate', 'rep', 'reps', 'retiree', 'richest', 'riot', 'rugs', 'says', 'scheme', 'scott', 'sean', 'sharia', 'sic', 'since', 'socialists', 'society', 'spending', 'sporting', 'states', 'stimulus', 'supports', 'takeover', 'than', 'the', 'three', 'to', 'today', 'top', 'transactions', 'unelected', 'walker', 'wash', 'we', 'wic', 'will', 'wisconsin', 'wording', 'words', 'year', 'your']\n"
          ],
          "name": "stdout"
        }
      ]
    },
    {
      "cell_type": "code",
      "metadata": {
        "colab": {
          "base_uri": "https://localhost:8080/"
        },
        "id": "WdbIrjdD_P19",
        "outputId": "67a68fa4-cab7-40d2-ab5c-57b0f43f05c0"
      },
      "source": [
        "# Using Multinomial Naive Bayes classifier\n",
        "model.set_params(clf=MultinomialNB())"
      ],
      "execution_count": 72,
      "outputs": [
        {
          "output_type": "execute_result",
          "data": {
            "text/plain": [
              "Pipeline(memory=None,\n",
              "         steps=[('vectorizer',\n",
              "                 CountVectorizer(analyzer='word', binary=False,\n",
              "                                 decode_error='strict',\n",
              "                                 dtype=<class 'numpy.int64'>, encoding='utf-8',\n",
              "                                 input='content', lowercase=True, max_df=1.0,\n",
              "                                 max_features=None, min_df=1,\n",
              "                                 ngram_range=(1, 1),\n",
              "                                 preprocessor=<function preprocess at 0x7fe52d2b1b90>,\n",
              "                                 stop_words=['i', 'me', 'my', 'myself', 'we',\n",
              "                                             'our', 'ours', 'oursel...\n",
              "                                             'yourself', 'yourselves', 'he',\n",
              "                                             'him', 'his', 'himself', 'she',\n",
              "                                             \"she's\", 'her', 'hers', 'herself',\n",
              "                                             'it', \"it's\", 'its', 'itself', ...],\n",
              "                                 strip_accents=None,\n",
              "                                 token_pattern='(?u)\\\\b\\\\w\\\\w+\\\\b',\n",
              "                                 tokenizer=<function Tokenizer at 0x7fe555e188c0>,\n",
              "                                 vocabulary=None)),\n",
              "                ('norm', Binarizer(copy=True, threshold=0.0)),\n",
              "                ('clf',\n",
              "                 MultinomialNB(alpha=1.0, class_prior=None, fit_prior=True))],\n",
              "         verbose=False)"
            ]
          },
          "metadata": {
            "tags": []
          },
          "execution_count": 72
        }
      ]
    },
    {
      "cell_type": "code",
      "metadata": {
        "colab": {
          "base_uri": "https://localhost:8080/"
        },
        "id": "vNdJMVYb_P19",
        "outputId": "082c2216-53d1-4ddb-ad99-ffff25dfa2f0"
      },
      "source": [
        "model.fit(X_train, y_train)\n",
        "predictions = model.predict(X_test)\n",
        "print_scores()"
      ],
      "execution_count": 73,
      "outputs": [
        {
          "output_type": "stream",
          "text": [
            "Accuracy:  0.24805295950155765\n",
            "              precision    recall  f1-score   support\n",
            "\n",
            " barely-true       0.23      0.21      0.22       422\n",
            "       false       0.23      0.23      0.23       502\n",
            "   half-true       0.25      0.36      0.29       528\n",
            " mostly-true       0.27      0.33      0.30       493\n",
            "  pants-fire       0.30      0.08      0.13       210\n",
            "        true       0.24      0.15      0.18       413\n",
            "\n",
            "    accuracy                           0.25      2568\n",
            "   macro avg       0.25      0.23      0.23      2568\n",
            "weighted avg       0.25      0.25      0.24      2568\n",
            "\n",
            "[[ 90  93 122  73  12  32]\n",
            " [ 84 117 140 100  12  49]\n",
            " [ 70  93 191 115  10  49]\n",
            " [ 62  73 144 161   3  50]\n",
            " [ 43  60  54  24  17  12]\n",
            " [ 36  68 125 120   3  61]]\n"
          ],
          "name": "stdout"
        }
      ]
    },
    {
      "cell_type": "code",
      "metadata": {
        "colab": {
          "base_uri": "https://localhost:8080/"
        },
        "id": "eQ1wfokv_P1-",
        "outputId": "f8721364-af7e-43ba-f241-efca59188577"
      },
      "source": [
        "# Fitting C-Support Vector Classifier\n",
        "model.set_params(clf=svm.SVC(C=1.0, kernel='linear', degree=3, gamma='auto',random_state=1000))\n",
        "model.fit(X_train, y_train)\n",
        "predictions = model.predict(X_test)\n",
        "print_scores()"
      ],
      "execution_count": 74,
      "outputs": [
        {
          "output_type": "stream",
          "text": [
            "Accuracy:  0.23325545171339565\n",
            "              precision    recall  f1-score   support\n",
            "\n",
            " barely-true       0.20      0.25      0.22       422\n",
            "       false       0.24      0.28      0.26       502\n",
            "   half-true       0.27      0.27      0.27       528\n",
            " mostly-true       0.25      0.22      0.23       493\n",
            "  pants-fire       0.21      0.16      0.18       210\n",
            "        true       0.22      0.17      0.19       413\n",
            "\n",
            "    accuracy                           0.23      2568\n",
            "   macro avg       0.23      0.22      0.23      2568\n",
            "weighted avg       0.23      0.23      0.23      2568\n",
            "\n",
            "[[104 108  88  51  26  45]\n",
            " [117 141  74  74  39  57]\n",
            " [105  94 141  93  31  64]\n",
            " [ 94  98 107 109  11  74]\n",
            " [ 53  58  33  18  33  15]\n",
            " [ 59  98  80  90  15  71]]\n"
          ],
          "name": "stdout"
        }
      ]
    },
    {
      "cell_type": "code",
      "metadata": {
        "colab": {
          "base_uri": "https://localhost:8080/"
        },
        "id": "kXInuOUX_P1-",
        "outputId": "e19123c4-ce41-4df8-e00e-7696e4fd0f9c"
      },
      "source": [
        "# fitting Decision tree classifier\n",
        "decision_tree=tree.DecisionTreeClassifier(random_state=1000)\n",
        "model.set_params(clf=decision_tree)\n",
        "model.fit(X_train, y_train)\n",
        "predictions = model.predict(X_test)\n",
        "print_scores()"
      ],
      "execution_count": 75,
      "outputs": [
        {
          "output_type": "stream",
          "text": [
            "Accuracy:  0.23208722741433022\n",
            "              precision    recall  f1-score   support\n",
            "\n",
            " barely-true       0.20      0.18      0.19       422\n",
            "       false       0.27      0.32      0.30       502\n",
            "   half-true       0.24      0.24      0.24       528\n",
            " mostly-true       0.24      0.25      0.25       493\n",
            "  pants-fire       0.15      0.13      0.14       210\n",
            "        true       0.21      0.20      0.20       413\n",
            "\n",
            "    accuracy                           0.23      2568\n",
            "   macro avg       0.22      0.22      0.22      2568\n",
            "weighted avg       0.23      0.23      0.23      2568\n",
            "\n",
            "[[ 76 103  91  72  28  52]\n",
            " [ 80 162  88  77  36  59]\n",
            " [ 67 111 126 108  36  80]\n",
            " [ 60  99  89 124  27  94]\n",
            " [ 36  49  37  39  27  22]\n",
            " [ 55  71  90  91  25  81]]\n"
          ],
          "name": "stdout"
        }
      ]
    },
    {
      "cell_type": "code",
      "metadata": {
        "colab": {
          "base_uri": "https://localhost:8080/"
        },
        "id": "sokQkCLv_P1_",
        "outputId": "9c698754-b9fd-4421-b1f1-65e752eaaa71"
      },
      "source": [
        "# fitting Random forest classifier\n",
        "model.set_params(clf=RandomForestClassifier(random_state=1000))\n",
        "model.fit(X_train, y_train)\n",
        "predictions = model.predict(X_test)\n",
        "print_scores()"
      ],
      "execution_count": 76,
      "outputs": [
        {
          "output_type": "stream",
          "text": [
            "Accuracy:  0.25272585669781933\n",
            "              precision    recall  f1-score   support\n",
            "\n",
            " barely-true       0.24      0.14      0.18       422\n",
            "       false       0.25      0.44      0.32       502\n",
            "   half-true       0.26      0.26      0.26       528\n",
            " mostly-true       0.26      0.29      0.27       493\n",
            "  pants-fire       0.42      0.10      0.17       210\n",
            "        true       0.21      0.15      0.18       413\n",
            "\n",
            "    accuracy                           0.25      2568\n",
            "   macro avg       0.27      0.23      0.23      2568\n",
            "weighted avg       0.26      0.25      0.24      2568\n",
            "\n",
            "[[ 59 149  99  75   7  33]\n",
            " [ 50 223  94  73  10  52]\n",
            " [ 56 146 139 120   6  61]\n",
            " [ 35 132 100 142   6  78]\n",
            " [ 25  85  38  27  22  13]\n",
            " [ 24 146  70 107   2  64]]\n"
          ],
          "name": "stdout"
        }
      ]
    },
    {
      "cell_type": "code",
      "metadata": {
        "colab": {
          "base_uri": "https://localhost:8080/"
        },
        "id": "fZt5jYWX_P2A",
        "outputId": "2c0ba83b-ef0a-4b23-a066-c8d817108ec2"
      },
      "source": [
        "# fitting X-gradient boost algorithm\n",
        "model.set_params(clf=XGBClassifier(max_depth=3, n_estimators=300, learning_rate=0.1, random_state=0))\n",
        "model.fit(X_train, y_train)\n",
        "predictions = model.predict(X_test)\n",
        "print_scores()"
      ],
      "execution_count": 77,
      "outputs": [
        {
          "output_type": "stream",
          "text": [
            "Accuracy:  0.23870716510903428\n",
            "              precision    recall  f1-score   support\n",
            "\n",
            " barely-true       0.21      0.11      0.15       422\n",
            "       false       0.23      0.43      0.30       502\n",
            "   half-true       0.25      0.29      0.27       528\n",
            " mostly-true       0.24      0.26      0.25       493\n",
            "  pants-fire       0.29      0.05      0.09       210\n",
            "        true       0.24      0.13      0.17       413\n",
            "\n",
            "    accuracy                           0.24      2568\n",
            "   macro avg       0.24      0.21      0.20      2568\n",
            "weighted avg       0.24      0.24      0.22      2568\n",
            "\n",
            "[[ 47 159 106  81   6  23]\n",
            " [ 49 218 104  88   9  34]\n",
            " [ 51 161 152 106   8  50]\n",
            " [ 30 139 128 130   2  64]\n",
            " [ 25 111  34  25  11   4]\n",
            " [ 20 142  85 109   2  55]]\n"
          ],
          "name": "stdout"
        }
      ]
    },
    {
      "cell_type": "markdown",
      "metadata": {
        "id": "2jGwCbRu_P2A"
      },
      "source": [
        "## Cross validating the best models from CountVectorizer Pipeline - Logistic regression and Multinomial Guassian NB"
      ]
    },
    {
      "cell_type": "code",
      "metadata": {
        "id": "-82GGJv1_P2B",
        "outputId": "6fde50c1-b7fd-4cf6-da79-9dbe72e8d0aa"
      },
      "source": [
        "model.set_params(clf= LogisticRegression(solver='liblinear', random_state=0))"
      ],
      "execution_count": null,
      "outputs": [
        {
          "output_type": "execute_result",
          "data": {
            "text/plain": [
              "Pipeline(memory=None,\n",
              "     steps=[('vectorizer', CountVectorizer(analyzer='word', binary=False, decode_error='strict',\n",
              "        dtype=<class 'numpy.int64'>, encoding='utf-8', input='content',\n",
              "        lowercase=True, max_df=1.0, max_features=None, min_df=1,\n",
              "        ngram_range=(1, 1),\n",
              "        preprocessor=<function preprocess a...nalty='l2', random_state=0, solver='liblinear',\n",
              "          tol=0.0001, verbose=0, warm_start=False))])"
            ]
          },
          "metadata": {
            "tags": []
          },
          "execution_count": 52
        }
      ]
    },
    {
      "cell_type": "code",
      "metadata": {
        "id": "f0u8-Ber_P2B"
      },
      "source": [
        "\n",
        "cv_scores = cross_validate(model, X, y, \n",
        "                           cv=StratifiedKFold(n_splits=5, random_state=0), \n",
        "                           return_train_score=False, \n",
        "                           scoring=['accuracy', 'precision_weighted', 'recall_weighted', 'f1_weighted']\n",
        "                          )"
      ],
      "execution_count": null,
      "outputs": []
    },
    {
      "cell_type": "code",
      "metadata": {
        "id": "uoGLgM9Y_P2C",
        "outputId": "fc8fdc39-c92f-4dd1-c796-b46bf3c2bdf4"
      },
      "source": [
        "print_cv_scores_summary(\"Accuracy\", cv_scores['test_accuracy'])\n",
        "print_cv_scores_summary(\"Precision\", cv_scores['test_precision_weighted'])\n",
        "print_cv_scores_summary(\"Recall\", cv_scores['test_recall_weighted'])\n",
        "print_cv_scores_summary(\"F1\", cv_scores['test_f1_weighted'])"
      ],
      "execution_count": null,
      "outputs": [
        {
          "output_type": "stream",
          "text": [
            "Accuracy: mean = 24.19%, sd = 1.05%, min = 22.96, max = 25.55\n",
            "Precision: mean = 24.19%, sd = 1.03%, min = 22.94, max = 25.50\n",
            "Recall: mean = 24.19%, sd = 1.05%, min = 22.96, max = 25.55\n",
            "F1: mean = 23.98%, sd = 1.05%, min = 22.81, max = 25.35\n"
          ],
          "name": "stdout"
        }
      ]
    },
    {
      "cell_type": "code",
      "metadata": {
        "id": "rVZ8wlwg_P2C",
        "outputId": "f9d50702-d6d9-4cf3-dac8-a33c970bf8dc"
      },
      "source": [
        "model.set_params(clf=MultinomialNB())"
      ],
      "execution_count": null,
      "outputs": [
        {
          "output_type": "execute_result",
          "data": {
            "text/plain": [
              "Pipeline(memory=None,\n",
              "     steps=[('vectorizer', CountVectorizer(analyzer='word', binary=False, decode_error='strict',\n",
              "        dtype=<class 'numpy.int64'>, encoding='utf-8', input='content',\n",
              "        lowercase=True, max_df=1.0, max_features=None, min_df=1,\n",
              "        ngram_range=(1, 1),\n",
              "        preprocessor=<function preprocess a...zer(copy=True, threshold=0.0)), ('clf', MultinomialNB(alpha=1.0, class_prior=None, fit_prior=True))])"
            ]
          },
          "metadata": {
            "tags": []
          },
          "execution_count": 55
        }
      ]
    },
    {
      "cell_type": "code",
      "metadata": {
        "id": "RgiNdoqC_P2D"
      },
      "source": [
        "cv_scores = cross_validate(model, X, y, \n",
        "                           cv=StratifiedKFold(n_splits=5, random_state=0), \n",
        "                           return_train_score=False, \n",
        "                           scoring=['accuracy', 'precision_weighted', 'recall_weighted', 'f1_weighted']\n",
        "                          )"
      ],
      "execution_count": null,
      "outputs": []
    },
    {
      "cell_type": "code",
      "metadata": {
        "id": "BskVDZdD_P2E",
        "outputId": "0051c4a0-b63f-46e8-8a8d-e6a20b6378b5"
      },
      "source": [
        "print_cv_scores_summary(\"Accuracy\", cv_scores['test_accuracy'])\n",
        "print_cv_scores_summary(\"Precision\", cv_scores['test_precision_weighted'])\n",
        "print_cv_scores_summary(\"Recall\", cv_scores['test_recall_weighted'])\n",
        "print_cv_scores_summary(\"F1\", cv_scores['test_f1_weighted'])"
      ],
      "execution_count": null,
      "outputs": [
        {
          "output_type": "stream",
          "text": [
            "Accuracy: mean = 24.28%, sd = 0.63%, min = 23.56, max = 25.22\n",
            "Precision: mean = 24.43%, sd = 0.77%, min = 23.36, max = 25.20\n",
            "Recall: mean = 24.28%, sd = 0.63%, min = 23.56, max = 25.22\n",
            "F1: mean = 23.38%, sd = 0.63%, min = 22.68, max = 24.33\n"
          ],
          "name": "stdout"
        }
      ]
    },
    {
      "cell_type": "markdown",
      "metadata": {
        "id": "Md8OiWd-_P2E"
      },
      "source": [
        "### Replacing 'word' with char_wb(which counts characters within words) and ngrams range of 1-3 in the pipeline."
      ]
    },
    {
      "cell_type": "code",
      "metadata": {
        "id": "YWAwl5RW_P2F"
      },
      "source": [
        "model = Pipeline([\n",
        "    ('vectorizer', CountVectorizer(analyzer='char_wb',preprocessor=preprocess,tokenizer=Tokenizer,stop_words=stopwords_list, ngram_range=(1,3))),\n",
        "    ('norm', Binarizer()),\n",
        "    ('clf', LogisticRegression(solver='liblinear', random_state=0)),\n",
        "])"
      ],
      "execution_count": null,
      "outputs": []
    },
    {
      "cell_type": "code",
      "metadata": {
        "id": "6bSGfwoA_P2F",
        "outputId": "410ada3f-e4af-4191-cc7b-535b645e7395"
      },
      "source": [
        "model.fit(X_train, y_train)\n",
        "predictions = model.predict(X_test)\n",
        "print_scores()\n",
        "\n"
      ],
      "execution_count": null,
      "outputs": [
        {
          "output_type": "stream",
          "text": [
            "Accuracy:  0.21378504672897197\n",
            "              precision    recall  f1-score   support\n",
            "\n",
            " barely-true       0.18      0.18      0.18       422\n",
            "       false       0.22      0.24      0.23       502\n",
            "   half-true       0.25      0.26      0.25       528\n",
            " mostly-true       0.24      0.25      0.25       493\n",
            "  pants-fire       0.15      0.12      0.13       210\n",
            "        true       0.19      0.17      0.18       413\n",
            "\n",
            "   micro avg       0.21      0.21      0.21      2568\n",
            "   macro avg       0.20      0.20      0.20      2568\n",
            "weighted avg       0.21      0.21      0.21      2568\n",
            "\n",
            "[[ 77  87 100  74  31  53]\n",
            " [105 119  87  77  48  66]\n",
            " [ 82  97 136 103  25  85]\n",
            " [ 72  79 115 121  22  84]\n",
            " [ 39  57  41  27  26  20]\n",
            " [ 56  93  75  92  27  70]]\n"
          ],
          "name": "stdout"
        }
      ]
    },
    {
      "cell_type": "code",
      "metadata": {
        "id": "LMEpnyvY_P2G",
        "outputId": "ba6764bd-df84-41ec-c91f-18713c5d4b7e"
      },
      "source": [
        "model.set_params(clf=MultinomialNB())\n",
        "model.fit(X_train, y_train)\n",
        "predictions = model.predict(X_test)\n",
        "print_scores()\n"
      ],
      "execution_count": null,
      "outputs": [
        {
          "output_type": "stream",
          "text": [
            "Accuracy:  0.24182242990654207\n",
            "              precision    recall  f1-score   support\n",
            "\n",
            " barely-true       0.22      0.21      0.22       422\n",
            "       false       0.24      0.28      0.26       502\n",
            "   half-true       0.28      0.23      0.25       528\n",
            " mostly-true       0.26      0.27      0.26       493\n",
            "  pants-fire       0.20      0.25      0.22       210\n",
            "        true       0.24      0.20      0.22       413\n",
            "\n",
            "   micro avg       0.24      0.24      0.24      2568\n",
            "   macro avg       0.24      0.24      0.24      2568\n",
            "weighted avg       0.24      0.24      0.24      2568\n",
            "\n",
            "[[ 89 107  67  74  47  38]\n",
            " [ 81 140  76  77  71  57]\n",
            " [ 76 104 122 117  41  68]\n",
            " [ 65  93  83 134  31  87]\n",
            " [ 40  58  24  18  53  17]\n",
            " [ 48  90  63 102  27  83]]\n"
          ],
          "name": "stdout"
        }
      ]
    },
    {
      "cell_type": "code",
      "metadata": {
        "id": "E77hdFTm_P2H",
        "outputId": "04a5fcf9-8429-4b01-fade-7831a87025f2"
      },
      "source": [
        "model.set_params(clf=svm.SVC(C=1.0, kernel='linear', degree=3, gamma='auto',random_state=1000))\n",
        "model.fit(X_train, y_train)\n",
        "predictions = model.predict(X_test)\n",
        "print_scores()"
      ],
      "execution_count": null,
      "outputs": [
        {
          "output_type": "stream",
          "text": [
            "Accuracy:  0.2044392523364486\n",
            "              precision    recall  f1-score   support\n",
            "\n",
            " barely-true       0.16      0.23      0.19       422\n",
            "       false       0.23      0.25      0.24       502\n",
            "   half-true       0.24      0.23      0.23       528\n",
            " mostly-true       0.23      0.19      0.21       493\n",
            "  pants-fire       0.15      0.14      0.15       210\n",
            "        true       0.19      0.14      0.16       413\n",
            "\n",
            "   micro avg       0.20      0.20      0.20      2568\n",
            "   macro avg       0.20      0.20      0.20      2568\n",
            "weighted avg       0.21      0.20      0.20      2568\n",
            "\n",
            "[[ 96  98  84  73  36  35]\n",
            " [135 126  74  69  45  53]\n",
            " [121 104 121  85  32  65]\n",
            " [102  92 106  95  26  72]\n",
            " [ 57  51  35  22  30  15]\n",
            " [ 79  89  89  70  29  57]]\n"
          ],
          "name": "stdout"
        }
      ]
    },
    {
      "cell_type": "code",
      "metadata": {
        "id": "6tyt4zSl_P2H",
        "outputId": "fd0659a5-988f-4162-c494-e096f25df6e8"
      },
      "source": [
        "decision_tree=tree.DecisionTreeClassifier(random_state=1000)\n",
        "model.set_params(clf=decision_tree)\n",
        "model.fit(X_train, y_train)\n",
        "predictions = model.predict(X_test)\n",
        "print_scores()"
      ],
      "execution_count": null,
      "outputs": [
        {
          "output_type": "stream",
          "text": [
            "Accuracy:  0.2091121495327103\n",
            "              precision    recall  f1-score   support\n",
            "\n",
            " barely-true       0.18      0.19      0.18       422\n",
            "       false       0.26      0.26      0.26       502\n",
            "   half-true       0.24      0.24      0.24       528\n",
            " mostly-true       0.20      0.21      0.21       493\n",
            "  pants-fire       0.10      0.10      0.10       210\n",
            "        true       0.20      0.18      0.19       413\n",
            "\n",
            "   micro avg       0.21      0.21      0.21      2568\n",
            "   macro avg       0.20      0.20      0.20      2568\n",
            "weighted avg       0.21      0.21      0.21      2568\n",
            "\n",
            "[[ 79  75  89  82  39  58]\n",
            " [ 80 132 100  93  41  56]\n",
            " [108  92 128  98  28  74]\n",
            " [ 81  88  90 105  43  86]\n",
            " [ 41  39  49  43  20  18]\n",
            " [ 57  82  77  93  31  73]]\n"
          ],
          "name": "stdout"
        }
      ]
    },
    {
      "cell_type": "code",
      "metadata": {
        "id": "gZyWG9gF_P2I",
        "outputId": "614a433a-a87a-4748-c9da-38b3bff25c82"
      },
      "source": [
        "model.set_params(clf=RandomForestClassifier(random_state=1000))\n",
        "model.fit(X_train, y_train)\n",
        "predictions = model.predict(X_test)\n",
        "print_scores()"
      ],
      "execution_count": null,
      "outputs": [
        {
          "output_type": "stream",
          "text": [
            "Accuracy:  0.21456386292834892\n",
            "              precision    recall  f1-score   support\n",
            "\n",
            " barely-true       0.21      0.28      0.24       422\n",
            "       false       0.20      0.28      0.24       502\n",
            "   half-true       0.21      0.24      0.22       528\n",
            " mostly-true       0.24      0.20      0.22       493\n",
            "  pants-fire       0.21      0.05      0.08       210\n",
            "        true       0.22      0.13      0.16       413\n",
            "\n",
            "   micro avg       0.21      0.21      0.21      2568\n",
            "   macro avg       0.22      0.20      0.19      2568\n",
            "weighted avg       0.22      0.21      0.21      2568\n",
            "\n",
            "[[119 126  87  61   6  23]\n",
            " [121 141 113  67  18  42]\n",
            " [ 99 143 125 102   9  50]\n",
            " [ 88 120 122 101   6  56]\n",
            " [ 48  60  44  29  11  18]\n",
            " [ 88 102  97  69   3  54]]\n"
          ],
          "name": "stdout"
        }
      ]
    },
    {
      "cell_type": "code",
      "metadata": {
        "id": "bY3Tk3BP_P2J",
        "outputId": "a406e40e-35bb-44b0-df56-4b04cfdf20da"
      },
      "source": [
        "model.set_params(clf=XGBClassifier(max_depth=3, n_estimators=300, learning_rate=0.1, random_state=0))\n",
        "model.fit(X_train, y_train)\n",
        "predictions = model.predict(X_test)\n",
        "print_scores()"
      ],
      "execution_count": null,
      "outputs": [
        {
          "output_type": "stream",
          "text": [
            "Accuracy:  0.2542834890965732\n",
            "              precision    recall  f1-score   support\n",
            "\n",
            " barely-true       0.25      0.15      0.19       422\n",
            "       false       0.25      0.43      0.32       502\n",
            "   half-true       0.27      0.34      0.30       528\n",
            " mostly-true       0.24      0.26      0.25       493\n",
            "  pants-fire       0.21      0.04      0.07       210\n",
            "        true       0.26      0.15      0.19       413\n",
            "\n",
            "   micro avg       0.25      0.25      0.25      2568\n",
            "   macro avg       0.25      0.23      0.22      2568\n",
            "weighted avg       0.25      0.25      0.24      2568\n",
            "\n",
            "[[ 63 126 125  80   8  20]\n",
            " [ 52 215  97  87  15  36]\n",
            " [ 46 145 177 106   5  49]\n",
            " [ 42 140 121 126   4  60]\n",
            " [ 29  87  42  33   9  10]\n",
            " [ 25 133  94  96   2  63]]\n"
          ],
          "name": "stdout"
        }
      ]
    },
    {
      "cell_type": "markdown",
      "metadata": {
        "id": "vunxjaJ5_P2J"
      },
      "source": [
        "## Grid search CV with top_k from chi squared feature selection set to different values and top 2 performing classifiers with CountVectorizer "
      ]
    },
    {
      "cell_type": "code",
      "metadata": {
        "id": "Axi2nGiz_P2K",
        "outputId": "2e670446-e563-4812-c5eb-99c6faa28086"
      },
      "source": [
        "model = Pipeline([\n",
        "    ('vectorizer', CountVectorizer(analyzer='word',preprocessor=preprocess,tokenizer=Tokenizer,stop_words=stopwords_list, ngram_range=(1,3))),\n",
        "    ('norm', Binarizer()),\n",
        "    ('selector', SelectKBest(score_func = chi2)),\n",
        "    ('clf', LogisticRegression(solver='liblinear', random_state=0)),\n",
        "])\n",
        "\n",
        "search = GridSearchCV(model, cv=StratifiedKFold(n_splits=5, random_state=0), \n",
        "                      return_train_score=False, \n",
        "                      scoring=['accuracy', 'precision_weighted', 'recall_weighted', 'f1_weighted'],\n",
        "                      refit = 'f1_weighted',\n",
        "                      param_grid={\n",
        "                          'selector__k': [10, 50, 100, 250, 500, 1000],\n",
        "                          'clf': [MultinomialNB(), XGBClassifier(max_depth=3, n_estimators=300, learning_rate=0.1, random_state=0)],\n",
        "                      })\n",
        "\n",
        "search.fit(X_train, y_train)"
      ],
      "execution_count": null,
      "outputs": [
        {
          "output_type": "execute_result",
          "data": {
            "text/plain": [
              "GridSearchCV(cv=StratifiedKFold(n_splits=5, random_state=0, shuffle=False),\n",
              "       error_score='raise-deprecating',\n",
              "       estimator=Pipeline(memory=None,\n",
              "     steps=[('vectorizer', CountVectorizer(analyzer='word', binary=False, decode_error='strict',\n",
              "        dtype=<class 'numpy.int64'>, encoding='utf-8', input='content',\n",
              "        lowercase=True, max_df=1.0, max_features=None, min_df=1,\n",
              "        ngram_range=(1, 3),\n",
              "        preprocessor=<function preprocess a...nalty='l2', random_state=0, solver='liblinear',\n",
              "          tol=0.0001, verbose=0, warm_start=False))]),\n",
              "       fit_params=None, iid='warn', n_jobs=None,\n",
              "       param_grid={'selector__k': [10, 50, 100, 250, 500, 1000], 'clf': [MultinomialNB(alpha=1.0, class_prior=None, fit_prior=True), XGBClassifier(base_score=0.5, booster='gbtree', colsample_bylevel=1,\n",
              "       colsample_bytree=1, gamma=0, learning_rate=0.1, max_delta_step=0,\n",
              "       max_depth=3, min_child_we...\n",
              "       reg_alpha=0, reg_lambda=1, scale_pos_weight=1, seed=None,\n",
              "       silent=True, subsample=1)]},\n",
              "       pre_dispatch='2*n_jobs', refit='f1_weighted',\n",
              "       return_train_score=False,\n",
              "       scoring=['accuracy', 'precision_weighted', 'recall_weighted', 'f1_weighted'],\n",
              "       verbose=0)"
            ]
          },
          "metadata": {
            "tags": []
          },
          "execution_count": 65
        }
      ]
    },
    {
      "cell_type": "code",
      "metadata": {
        "id": "gZCuMr1f_P2K",
        "outputId": "c5119f27-21c6-4cde-c389-951b4c102600"
      },
      "source": [
        "pd.DataFrame(search.cv_results_)"
      ],
      "execution_count": null,
      "outputs": [
        {
          "output_type": "execute_result",
          "data": {
            "text/html": [
              "<div>\n",
              "<style scoped>\n",
              "    .dataframe tbody tr th:only-of-type {\n",
              "        vertical-align: middle;\n",
              "    }\n",
              "\n",
              "    .dataframe tbody tr th {\n",
              "        vertical-align: top;\n",
              "    }\n",
              "\n",
              "    .dataframe thead th {\n",
              "        text-align: right;\n",
              "    }\n",
              "</style>\n",
              "<table border=\"1\" class=\"dataframe\">\n",
              "  <thead>\n",
              "    <tr style=\"text-align: right;\">\n",
              "      <th></th>\n",
              "      <th>mean_fit_time</th>\n",
              "      <th>std_fit_time</th>\n",
              "      <th>mean_score_time</th>\n",
              "      <th>std_score_time</th>\n",
              "      <th>param_clf</th>\n",
              "      <th>param_selector__k</th>\n",
              "      <th>params</th>\n",
              "      <th>split0_test_accuracy</th>\n",
              "      <th>split1_test_accuracy</th>\n",
              "      <th>split2_test_accuracy</th>\n",
              "      <th>...</th>\n",
              "      <th>std_test_recall_weighted</th>\n",
              "      <th>rank_test_recall_weighted</th>\n",
              "      <th>split0_test_f1_weighted</th>\n",
              "      <th>split1_test_f1_weighted</th>\n",
              "      <th>split2_test_f1_weighted</th>\n",
              "      <th>split3_test_f1_weighted</th>\n",
              "      <th>split4_test_f1_weighted</th>\n",
              "      <th>mean_test_f1_weighted</th>\n",
              "      <th>std_test_f1_weighted</th>\n",
              "      <th>rank_test_f1_weighted</th>\n",
              "    </tr>\n",
              "  </thead>\n",
              "  <tbody>\n",
              "    <tr>\n",
              "      <th>0</th>\n",
              "      <td>5.066205</td>\n",
              "      <td>0.107881</td>\n",
              "      <td>4.470505</td>\n",
              "      <td>0.012073</td>\n",
              "      <td>MultinomialNB(alpha=1.0, class_prior=None, fit...</td>\n",
              "      <td>10</td>\n",
              "      <td>{'clf': MultinomialNB(alpha=1.0, class_prior=N...</td>\n",
              "      <td>0.210219</td>\n",
              "      <td>0.204966</td>\n",
              "      <td>0.212756</td>\n",
              "      <td>...</td>\n",
              "      <td>0.005313</td>\n",
              "      <td>11</td>\n",
              "      <td>0.146366</td>\n",
              "      <td>0.117305</td>\n",
              "      <td>0.148734</td>\n",
              "      <td>0.139070</td>\n",
              "      <td>0.162499</td>\n",
              "      <td>0.142792</td>\n",
              "      <td>0.014830</td>\n",
              "      <td>11</td>\n",
              "    </tr>\n",
              "    <tr>\n",
              "      <th>1</th>\n",
              "      <td>5.265847</td>\n",
              "      <td>0.347337</td>\n",
              "      <td>4.834284</td>\n",
              "      <td>0.716322</td>\n",
              "      <td>MultinomialNB(alpha=1.0, class_prior=None, fit...</td>\n",
              "      <td>50</td>\n",
              "      <td>{'clf': MultinomialNB(alpha=1.0, class_prior=N...</td>\n",
              "      <td>0.217518</td>\n",
              "      <td>0.215190</td>\n",
              "      <td>0.220545</td>\n",
              "      <td>...</td>\n",
              "      <td>0.005010</td>\n",
              "      <td>10</td>\n",
              "      <td>0.177294</td>\n",
              "      <td>0.177779</td>\n",
              "      <td>0.179298</td>\n",
              "      <td>0.184101</td>\n",
              "      <td>0.190455</td>\n",
              "      <td>0.181783</td>\n",
              "      <td>0.004958</td>\n",
              "      <td>9</td>\n",
              "    </tr>\n",
              "    <tr>\n",
              "      <th>2</th>\n",
              "      <td>5.051118</td>\n",
              "      <td>0.086565</td>\n",
              "      <td>4.610430</td>\n",
              "      <td>0.242156</td>\n",
              "      <td>MultinomialNB(alpha=1.0, class_prior=None, fit...</td>\n",
              "      <td>100</td>\n",
              "      <td>{'clf': MultinomialNB(alpha=1.0, class_prior=N...</td>\n",
              "      <td>0.217032</td>\n",
              "      <td>0.205453</td>\n",
              "      <td>0.223953</td>\n",
              "      <td>...</td>\n",
              "      <td>0.009590</td>\n",
              "      <td>9</td>\n",
              "      <td>0.196841</td>\n",
              "      <td>0.171910</td>\n",
              "      <td>0.202899</td>\n",
              "      <td>0.196349</td>\n",
              "      <td>0.204892</td>\n",
              "      <td>0.194576</td>\n",
              "      <td>0.011813</td>\n",
              "      <td>5</td>\n",
              "    </tr>\n",
              "    <tr>\n",
              "      <th>3</th>\n",
              "      <td>5.571449</td>\n",
              "      <td>0.207332</td>\n",
              "      <td>4.945372</td>\n",
              "      <td>0.170043</td>\n",
              "      <td>MultinomialNB(alpha=1.0, class_prior=None, fit...</td>\n",
              "      <td>250</td>\n",
              "      <td>{'clf': MultinomialNB(alpha=1.0, class_prior=N...</td>\n",
              "      <td>0.218005</td>\n",
              "      <td>0.208374</td>\n",
              "      <td>0.223466</td>\n",
              "      <td>...</td>\n",
              "      <td>0.009709</td>\n",
              "      <td>8</td>\n",
              "      <td>0.194495</td>\n",
              "      <td>0.172376</td>\n",
              "      <td>0.210059</td>\n",
              "      <td>0.196029</td>\n",
              "      <td>0.199171</td>\n",
              "      <td>0.194425</td>\n",
              "      <td>0.012295</td>\n",
              "      <td>6</td>\n",
              "    </tr>\n",
              "    <tr>\n",
              "      <th>4</th>\n",
              "      <td>5.331514</td>\n",
              "      <td>0.150665</td>\n",
              "      <td>4.697368</td>\n",
              "      <td>0.205673</td>\n",
              "      <td>MultinomialNB(alpha=1.0, class_prior=None, fit...</td>\n",
              "      <td>500</td>\n",
              "      <td>{'clf': MultinomialNB(alpha=1.0, class_prior=N...</td>\n",
              "      <td>0.222384</td>\n",
              "      <td>0.232230</td>\n",
              "      <td>0.234177</td>\n",
              "      <td>...</td>\n",
              "      <td>0.005406</td>\n",
              "      <td>4</td>\n",
              "      <td>0.206567</td>\n",
              "      <td>0.219778</td>\n",
              "      <td>0.227306</td>\n",
              "      <td>0.223806</td>\n",
              "      <td>0.212865</td>\n",
              "      <td>0.218064</td>\n",
              "      <td>0.007492</td>\n",
              "      <td>3</td>\n",
              "    </tr>\n",
              "    <tr>\n",
              "      <th>5</th>\n",
              "      <td>5.135728</td>\n",
              "      <td>0.122961</td>\n",
              "      <td>4.555354</td>\n",
              "      <td>0.081240</td>\n",
              "      <td>MultinomialNB(alpha=1.0, class_prior=None, fit...</td>\n",
              "      <td>1000</td>\n",
              "      <td>{'clf': MultinomialNB(alpha=1.0, class_prior=N...</td>\n",
              "      <td>0.246715</td>\n",
              "      <td>0.241967</td>\n",
              "      <td>0.239533</td>\n",
              "      <td>...</td>\n",
              "      <td>0.003819</td>\n",
              "      <td>2</td>\n",
              "      <td>0.238117</td>\n",
              "      <td>0.234687</td>\n",
              "      <td>0.233107</td>\n",
              "      <td>0.233334</td>\n",
              "      <td>0.227087</td>\n",
              "      <td>0.233268</td>\n",
              "      <td>0.003571</td>\n",
              "      <td>1</td>\n",
              "    </tr>\n",
              "    <tr>\n",
              "      <th>6</th>\n",
              "      <td>6.896729</td>\n",
              "      <td>0.053180</td>\n",
              "      <td>4.968376</td>\n",
              "      <td>0.014739</td>\n",
              "      <td>XGBClassifier(base_score=0.5, booster='gbtree'...</td>\n",
              "      <td>10</td>\n",
              "      <td>{'clf': XGBClassifier(base_score=0.5, booster=...</td>\n",
              "      <td>0.206813</td>\n",
              "      <td>0.205453</td>\n",
              "      <td>0.214216</td>\n",
              "      <td>...</td>\n",
              "      <td>0.003412</td>\n",
              "      <td>12</td>\n",
              "      <td>0.139372</td>\n",
              "      <td>0.117942</td>\n",
              "      <td>0.137553</td>\n",
              "      <td>0.140697</td>\n",
              "      <td>0.134278</td>\n",
              "      <td>0.133968</td>\n",
              "      <td>0.008299</td>\n",
              "      <td>12</td>\n",
              "    </tr>\n",
              "    <tr>\n",
              "      <th>7</th>\n",
              "      <td>7.517044</td>\n",
              "      <td>0.095601</td>\n",
              "      <td>4.986464</td>\n",
              "      <td>0.022308</td>\n",
              "      <td>XGBClassifier(base_score=0.5, booster='gbtree'...</td>\n",
              "      <td>50</td>\n",
              "      <td>{'clf': XGBClassifier(base_score=0.5, booster=...</td>\n",
              "      <td>0.224818</td>\n",
              "      <td>0.219085</td>\n",
              "      <td>0.240019</td>\n",
              "      <td>...</td>\n",
              "      <td>0.007378</td>\n",
              "      <td>7</td>\n",
              "      <td>0.179077</td>\n",
              "      <td>0.164246</td>\n",
              "      <td>0.185533</td>\n",
              "      <td>0.183433</td>\n",
              "      <td>0.166620</td>\n",
              "      <td>0.175783</td>\n",
              "      <td>0.008735</td>\n",
              "      <td>10</td>\n",
              "    </tr>\n",
              "    <tr>\n",
              "      <th>8</th>\n",
              "      <td>8.069905</td>\n",
              "      <td>0.128869</td>\n",
              "      <td>4.982375</td>\n",
              "      <td>0.030587</td>\n",
              "      <td>XGBClassifier(base_score=0.5, booster='gbtree'...</td>\n",
              "      <td>100</td>\n",
              "      <td>{'clf': XGBClassifier(base_score=0.5, booster=...</td>\n",
              "      <td>0.222871</td>\n",
              "      <td>0.221519</td>\n",
              "      <td>0.242454</td>\n",
              "      <td>...</td>\n",
              "      <td>0.007708</td>\n",
              "      <td>6</td>\n",
              "      <td>0.187396</td>\n",
              "      <td>0.180239</td>\n",
              "      <td>0.206881</td>\n",
              "      <td>0.192986</td>\n",
              "      <td>0.188731</td>\n",
              "      <td>0.191247</td>\n",
              "      <td>0.008830</td>\n",
              "      <td>8</td>\n",
              "    </tr>\n",
              "    <tr>\n",
              "      <th>9</th>\n",
              "      <td>8.889566</td>\n",
              "      <td>0.149069</td>\n",
              "      <td>4.968692</td>\n",
              "      <td>0.020292</td>\n",
              "      <td>XGBClassifier(base_score=0.5, booster='gbtree'...</td>\n",
              "      <td>250</td>\n",
              "      <td>{'clf': XGBClassifier(base_score=0.5, booster=...</td>\n",
              "      <td>0.222871</td>\n",
              "      <td>0.221519</td>\n",
              "      <td>0.248783</td>\n",
              "      <td>...</td>\n",
              "      <td>0.009900</td>\n",
              "      <td>5</td>\n",
              "      <td>0.187396</td>\n",
              "      <td>0.180239</td>\n",
              "      <td>0.218803</td>\n",
              "      <td>0.192986</td>\n",
              "      <td>0.188731</td>\n",
              "      <td>0.193631</td>\n",
              "      <td>0.013240</td>\n",
              "      <td>7</td>\n",
              "    </tr>\n",
              "    <tr>\n",
              "      <th>10</th>\n",
              "      <td>10.895047</td>\n",
              "      <td>0.104807</td>\n",
              "      <td>4.986520</td>\n",
              "      <td>0.025943</td>\n",
              "      <td>XGBClassifier(base_score=0.5, booster='gbtree'...</td>\n",
              "      <td>500</td>\n",
              "      <td>{'clf': XGBClassifier(base_score=0.5, booster=...</td>\n",
              "      <td>0.235523</td>\n",
              "      <td>0.240993</td>\n",
              "      <td>0.246349</td>\n",
              "      <td>...</td>\n",
              "      <td>0.003485</td>\n",
              "      <td>3</td>\n",
              "      <td>0.207796</td>\n",
              "      <td>0.219128</td>\n",
              "      <td>0.225414</td>\n",
              "      <td>0.214705</td>\n",
              "      <td>0.206453</td>\n",
              "      <td>0.214700</td>\n",
              "      <td>0.007072</td>\n",
              "      <td>4</td>\n",
              "    </tr>\n",
              "    <tr>\n",
              "      <th>11</th>\n",
              "      <td>14.412036</td>\n",
              "      <td>0.174185</td>\n",
              "      <td>5.027370</td>\n",
              "      <td>0.097069</td>\n",
              "      <td>XGBClassifier(base_score=0.5, booster='gbtree'...</td>\n",
              "      <td>1000</td>\n",
              "      <td>{'clf': XGBClassifier(base_score=0.5, booster=...</td>\n",
              "      <td>0.242336</td>\n",
              "      <td>0.246349</td>\n",
              "      <td>0.244401</td>\n",
              "      <td>...</td>\n",
              "      <td>0.002451</td>\n",
              "      <td>1</td>\n",
              "      <td>0.219954</td>\n",
              "      <td>0.224784</td>\n",
              "      <td>0.226250</td>\n",
              "      <td>0.225249</td>\n",
              "      <td>0.225083</td>\n",
              "      <td>0.224263</td>\n",
              "      <td>0.002211</td>\n",
              "      <td>2</td>\n",
              "    </tr>\n",
              "  </tbody>\n",
              "</table>\n",
              "<p>12 rows × 39 columns</p>\n",
              "</div>"
            ],
            "text/plain": [
              "    mean_fit_time  std_fit_time  mean_score_time  std_score_time  \\\n",
              "0        5.066205      0.107881         4.470505        0.012073   \n",
              "1        5.265847      0.347337         4.834284        0.716322   \n",
              "2        5.051118      0.086565         4.610430        0.242156   \n",
              "3        5.571449      0.207332         4.945372        0.170043   \n",
              "4        5.331514      0.150665         4.697368        0.205673   \n",
              "5        5.135728      0.122961         4.555354        0.081240   \n",
              "6        6.896729      0.053180         4.968376        0.014739   \n",
              "7        7.517044      0.095601         4.986464        0.022308   \n",
              "8        8.069905      0.128869         4.982375        0.030587   \n",
              "9        8.889566      0.149069         4.968692        0.020292   \n",
              "10      10.895047      0.104807         4.986520        0.025943   \n",
              "11      14.412036      0.174185         5.027370        0.097069   \n",
              "\n",
              "                                            param_clf param_selector__k  \\\n",
              "0   MultinomialNB(alpha=1.0, class_prior=None, fit...                10   \n",
              "1   MultinomialNB(alpha=1.0, class_prior=None, fit...                50   \n",
              "2   MultinomialNB(alpha=1.0, class_prior=None, fit...               100   \n",
              "3   MultinomialNB(alpha=1.0, class_prior=None, fit...               250   \n",
              "4   MultinomialNB(alpha=1.0, class_prior=None, fit...               500   \n",
              "5   MultinomialNB(alpha=1.0, class_prior=None, fit...              1000   \n",
              "6   XGBClassifier(base_score=0.5, booster='gbtree'...                10   \n",
              "7   XGBClassifier(base_score=0.5, booster='gbtree'...                50   \n",
              "8   XGBClassifier(base_score=0.5, booster='gbtree'...               100   \n",
              "9   XGBClassifier(base_score=0.5, booster='gbtree'...               250   \n",
              "10  XGBClassifier(base_score=0.5, booster='gbtree'...               500   \n",
              "11  XGBClassifier(base_score=0.5, booster='gbtree'...              1000   \n",
              "\n",
              "                                               params  split0_test_accuracy  \\\n",
              "0   {'clf': MultinomialNB(alpha=1.0, class_prior=N...              0.210219   \n",
              "1   {'clf': MultinomialNB(alpha=1.0, class_prior=N...              0.217518   \n",
              "2   {'clf': MultinomialNB(alpha=1.0, class_prior=N...              0.217032   \n",
              "3   {'clf': MultinomialNB(alpha=1.0, class_prior=N...              0.218005   \n",
              "4   {'clf': MultinomialNB(alpha=1.0, class_prior=N...              0.222384   \n",
              "5   {'clf': MultinomialNB(alpha=1.0, class_prior=N...              0.246715   \n",
              "6   {'clf': XGBClassifier(base_score=0.5, booster=...              0.206813   \n",
              "7   {'clf': XGBClassifier(base_score=0.5, booster=...              0.224818   \n",
              "8   {'clf': XGBClassifier(base_score=0.5, booster=...              0.222871   \n",
              "9   {'clf': XGBClassifier(base_score=0.5, booster=...              0.222871   \n",
              "10  {'clf': XGBClassifier(base_score=0.5, booster=...              0.235523   \n",
              "11  {'clf': XGBClassifier(base_score=0.5, booster=...              0.242336   \n",
              "\n",
              "    split1_test_accuracy  split2_test_accuracy          ...            \\\n",
              "0               0.204966              0.212756          ...             \n",
              "1               0.215190              0.220545          ...             \n",
              "2               0.205453              0.223953          ...             \n",
              "3               0.208374              0.223466          ...             \n",
              "4               0.232230              0.234177          ...             \n",
              "5               0.241967              0.239533          ...             \n",
              "6               0.205453              0.214216          ...             \n",
              "7               0.219085              0.240019          ...             \n",
              "8               0.221519              0.242454          ...             \n",
              "9               0.221519              0.248783          ...             \n",
              "10              0.240993              0.246349          ...             \n",
              "11              0.246349              0.244401          ...             \n",
              "\n",
              "    std_test_recall_weighted  rank_test_recall_weighted  \\\n",
              "0                   0.005313                         11   \n",
              "1                   0.005010                         10   \n",
              "2                   0.009590                          9   \n",
              "3                   0.009709                          8   \n",
              "4                   0.005406                          4   \n",
              "5                   0.003819                          2   \n",
              "6                   0.003412                         12   \n",
              "7                   0.007378                          7   \n",
              "8                   0.007708                          6   \n",
              "9                   0.009900                          5   \n",
              "10                  0.003485                          3   \n",
              "11                  0.002451                          1   \n",
              "\n",
              "    split0_test_f1_weighted  split1_test_f1_weighted  split2_test_f1_weighted  \\\n",
              "0                  0.146366                 0.117305                 0.148734   \n",
              "1                  0.177294                 0.177779                 0.179298   \n",
              "2                  0.196841                 0.171910                 0.202899   \n",
              "3                  0.194495                 0.172376                 0.210059   \n",
              "4                  0.206567                 0.219778                 0.227306   \n",
              "5                  0.238117                 0.234687                 0.233107   \n",
              "6                  0.139372                 0.117942                 0.137553   \n",
              "7                  0.179077                 0.164246                 0.185533   \n",
              "8                  0.187396                 0.180239                 0.206881   \n",
              "9                  0.187396                 0.180239                 0.218803   \n",
              "10                 0.207796                 0.219128                 0.225414   \n",
              "11                 0.219954                 0.224784                 0.226250   \n",
              "\n",
              "    split3_test_f1_weighted  split4_test_f1_weighted  mean_test_f1_weighted  \\\n",
              "0                  0.139070                 0.162499               0.142792   \n",
              "1                  0.184101                 0.190455               0.181783   \n",
              "2                  0.196349                 0.204892               0.194576   \n",
              "3                  0.196029                 0.199171               0.194425   \n",
              "4                  0.223806                 0.212865               0.218064   \n",
              "5                  0.233334                 0.227087               0.233268   \n",
              "6                  0.140697                 0.134278               0.133968   \n",
              "7                  0.183433                 0.166620               0.175783   \n",
              "8                  0.192986                 0.188731               0.191247   \n",
              "9                  0.192986                 0.188731               0.193631   \n",
              "10                 0.214705                 0.206453               0.214700   \n",
              "11                 0.225249                 0.225083               0.224263   \n",
              "\n",
              "    std_test_f1_weighted  rank_test_f1_weighted  \n",
              "0               0.014830                     11  \n",
              "1               0.004958                      9  \n",
              "2               0.011813                      5  \n",
              "3               0.012295                      6  \n",
              "4               0.007492                      3  \n",
              "5               0.003571                      1  \n",
              "6               0.008299                     12  \n",
              "7               0.008735                     10  \n",
              "8               0.008830                      8  \n",
              "9               0.013240                      7  \n",
              "10              0.007072                      4  \n",
              "11              0.002211                      2  \n",
              "\n",
              "[12 rows x 39 columns]"
            ]
          },
          "metadata": {
            "tags": []
          },
          "execution_count": 66
        }
      ]
    },
    {
      "cell_type": "code",
      "metadata": {
        "id": "TbQ6lnaA_P2L",
        "outputId": "f520474c-87f5-4838-8898-7ddf02426264"
      },
      "source": [
        "# results of the best fit classifier\n",
        "predictions = search.predict(X_test)\n",
        "\n",
        "print(\"Accuracy: \", accuracy_score(y_test, predictions))\n",
        "print(classification_report(y_test, predictions))\n",
        "print(confusion_matrix(y_test, predictions))\n",
        "\n",
        "confusion_matrix_heatmap(confusion_matrix(y_test,predictions), search.classes_)"
      ],
      "execution_count": null,
      "outputs": [
        {
          "output_type": "stream",
          "text": [
            "Accuracy:  0.24104361370716512\n",
            "              precision    recall  f1-score   support\n",
            "\n",
            " barely-true       0.26      0.20      0.22       422\n",
            "       false       0.26      0.30      0.28       502\n",
            "   half-true       0.22      0.32      0.26       528\n",
            " mostly-true       0.23      0.25      0.24       493\n",
            "  pants-fire       0.31      0.11      0.16       210\n",
            "        true       0.23      0.17      0.20       413\n",
            "\n",
            "   micro avg       0.24      0.24      0.24      2568\n",
            "   macro avg       0.25      0.22      0.23      2568\n",
            "weighted avg       0.25      0.24      0.24      2568\n",
            "\n",
            "[[ 83 115 105  75  13  31]\n",
            " [ 65 152 150  79  14  42]\n",
            " [ 68  89 168 119  11  73]\n",
            " [ 37  85 158 121   8  84]\n",
            " [ 30  67  62  16  23  12]\n",
            " [ 34  80 110 112   5  72]]\n"
          ],
          "name": "stdout"
        },
        {
          "output_type": "display_data",
          "data": {
            "image/png": "[encoded data removed]",
            "text/plain": [
              "<Figure size 720x576 with 2 Axes>"
            ]
          },
          "metadata": {
            "tags": [],
            "needs_background": "light"
          }
        }
      ]
    },
    {
      "cell_type": "code",
      "metadata": {
        "id": "RNPIal7c_P2M",
        "outputId": "d9e53d1d-7b3c-49c0-a7fe-02d1dfe679ae"
      },
      "source": [
        "print(search.best_estimator_ )"
      ],
      "execution_count": null,
      "outputs": [
        {
          "output_type": "stream",
          "text": [
            "Pipeline(memory=None,\n",
            "     steps=[('vectorizer', CountVectorizer(analyzer='word', binary=False, decode_error='strict',\n",
            "        dtype=<class 'numpy.int64'>, encoding='utf-8', input='content',\n",
            "        lowercase=True, max_df=1.0, max_features=None, min_df=1,\n",
            "        ngram_range=(1, 3),\n",
            "        preprocessor=<function preprocess a...unction chi2 at 0x11afb8730>)), ('clf', MultinomialNB(alpha=1.0, class_prior=None, fit_prior=True))])\n"
          ],
          "name": "stdout"
        }
      ]
    },
    {
      "cell_type": "code",
      "metadata": {
        "id": "Dn1vi7NM_P2M",
        "outputId": "b8c3194d-8bdb-4b22-a2cd-0e321434baaa"
      },
      "source": [
        "search.best_score_"
      ],
      "execution_count": null,
      "outputs": [
        {
          "output_type": "execute_result",
          "data": {
            "text/plain": [
              "0.23326803598618945"
            ]
          },
          "metadata": {
            "tags": []
          },
          "execution_count": 69
        }
      ]
    },
    {
      "cell_type": "code",
      "metadata": {
        "id": "XXTQtokW_P2M",
        "outputId": "52a59f03-b742-4178-f265-c8e35190f0af"
      },
      "source": [
        "print(search.best_params_)"
      ],
      "execution_count": null,
      "outputs": [
        {
          "output_type": "stream",
          "text": [
            "{'clf': MultinomialNB(alpha=1.0, class_prior=None, fit_prior=True), 'selector__k': 1000}\n"
          ],
          "name": "stdout"
        }
      ]
    },
    {
      "cell_type": "code",
      "metadata": {
        "id": "-X4_DYN2_P2N",
        "outputId": "07db3bdb-b744-45dd-d7ad-f665ef7d974d"
      },
      "source": [
        "print(search.scorer_)"
      ],
      "execution_count": null,
      "outputs": [
        {
          "output_type": "stream",
          "text": [
            "{'accuracy': make_scorer(accuracy_score), 'precision_weighted': make_scorer(precision_score, pos_label=None, average=weighted), 'recall_weighted': make_scorer(recall_score, pos_label=None, average=weighted), 'f1_weighted': make_scorer(f1_score, pos_label=None, average=weighted)}\n"
          ],
          "name": "stdout"
        }
      ]
    },
    {
      "cell_type": "code",
      "metadata": {
        "id": "UG0mmYrO_P2O"
      },
      "source": [
        ""
      ],
      "execution_count": null,
      "outputs": []
    },
    {
      "cell_type": "markdown",
      "metadata": {
        "id": "0liOaPPk_P2P"
      },
      "source": [
        "## Creating Pipeline with TFID Vectorizer along with Feature Union of 'total words' in the 'statements'\n"
      ]
    },
    {
      "cell_type": "markdown",
      "metadata": {
        "id": "gSlmXGNj_P2P"
      },
      "source": [
        "TF-IDF - stands for “Term Frequency — Inverse Document”. Term Frequency summarizes how often a given word appears within a document.Inverse Document Frequency scales words that appear a lot across documents.TF-IDF highlight words that are more interesting, e.g. frequent in a document but not across documents."
      ]
    },
    {
      "cell_type": "markdown",
      "metadata": {
        "id": "S_7ofIOh_P2Q"
      },
      "source": [
        "However in this instance we use feature union as well by incorporating the total words in each sentence as another feature. We build a custom transformer with two classes for features in the statements and the total number of words in the statements. By setting min\\_df to 0.25 and max\\_df to 0.75 we restrict the terms in the vocabulary based on document frequency"
      ]
    },
    {
      "cell_type": "code",
      "metadata": {
        "id": "FRkN_eKP_P2Q"
      },
      "source": [
        "from sklearn.base import BaseEstimator, TransformerMixin\n",
        "class TextSelector(BaseEstimator, TransformerMixin):\n",
        "    def __init__(self, field):\n",
        "        self.field = field\n",
        "    def fit(self, X, y=None):\n",
        "        return self\n",
        "    def transform(self, X):\n",
        "        return X[self.field]\n",
        "class NumberSelector(BaseEstimator, TransformerMixin):\n",
        "    def __init__(self, field):\n",
        "        self.field = field\n",
        "    def fit(self, X, y=None):\n",
        "        return self\n",
        "    def transform(self, X):\n",
        "        return X[[self.field]]"
      ],
      "execution_count": null,
      "outputs": []
    },
    {
      "cell_type": "code",
      "metadata": {
        "id": "oY2g3W3C_P2R"
      },
      "source": [
        "df_raw_tfid= df_raw.copy()"
      ],
      "execution_count": null,
      "outputs": []
    },
    {
      "cell_type": "code",
      "metadata": {
        "id": "8Guc9I0Q_P2S",
        "outputId": "d78cfbd0-6156-4b1b-f493-0f69fcb88462"
      },
      "source": [
        "df_raw_tfid.head(2)"
      ],
      "execution_count": null,
      "outputs": [
        {
          "output_type": "execute_result",
          "data": {
            "text/html": [
              "<div>\n",
              "<style scoped>\n",
              "    .dataframe tbody tr th:only-of-type {\n",
              "        vertical-align: middle;\n",
              "    }\n",
              "\n",
              "    .dataframe tbody tr th {\n",
              "        vertical-align: top;\n",
              "    }\n",
              "\n",
              "    .dataframe thead th {\n",
              "        text-align: right;\n",
              "    }\n",
              "</style>\n",
              "<table border=\"1\" class=\"dataframe\">\n",
              "  <thead>\n",
              "    <tr style=\"text-align: right;\">\n",
              "      <th></th>\n",
              "      <th>index</th>\n",
              "      <th>ID</th>\n",
              "      <th>label</th>\n",
              "      <th>statement</th>\n",
              "      <th>subject</th>\n",
              "      <th>speaker</th>\n",
              "      <th>job</th>\n",
              "      <th>state</th>\n",
              "      <th>party</th>\n",
              "      <th>barely_true_cts</th>\n",
              "      <th>false_cts</th>\n",
              "      <th>half_true_cts</th>\n",
              "      <th>mostly_true_cts</th>\n",
              "      <th>pants_on_fire_cts</th>\n",
              "      <th>context</th>\n",
              "    </tr>\n",
              "  </thead>\n",
              "  <tbody>\n",
              "    <tr>\n",
              "      <th>0</th>\n",
              "      <td>8289</td>\n",
              "      <td>423.json</td>\n",
              "      <td>true</td>\n",
              "      <td>\"McCain opposes a woman's right to choose.\"</td>\n",
              "      <td>abortion</td>\n",
              "      <td>moveon</td>\n",
              "      <td>NaN</td>\n",
              "      <td>NaN</td>\n",
              "      <td>democrat</td>\n",
              "      <td>2</td>\n",
              "      <td>4</td>\n",
              "      <td>3</td>\n",
              "      <td>0</td>\n",
              "      <td>0</td>\n",
              "      <td>an e-mail message</td>\n",
              "    </tr>\n",
              "    <tr>\n",
              "      <th>1</th>\n",
              "      <td>1156</td>\n",
              "      <td>10379.json</td>\n",
              "      <td>barely-true</td>\n",
              "      <td>The name Frank has risen in popularity by 20 p...</td>\n",
              "      <td>pop-culture</td>\n",
              "      <td>matt-lauer</td>\n",
              "      <td>Today Show host</td>\n",
              "      <td>NaN</td>\n",
              "      <td>none</td>\n",
              "      <td>1</td>\n",
              "      <td>0</td>\n",
              "      <td>0</td>\n",
              "      <td>0</td>\n",
              "      <td>0</td>\n",
              "      <td>a red carpet interview before the Golden Globes</td>\n",
              "    </tr>\n",
              "  </tbody>\n",
              "</table>\n",
              "</div>"
            ],
            "text/plain": [
              "   index          ID        label  \\\n",
              "0   8289    423.json         true   \n",
              "1   1156  10379.json  barely-true   \n",
              "\n",
              "                                           statement      subject     speaker  \\\n",
              "0        \"McCain opposes a woman's right to choose.\"     abortion      moveon   \n",
              "1  The name Frank has risen in popularity by 20 p...  pop-culture  matt-lauer   \n",
              "\n",
              "               job state     party  barely_true_cts  false_cts  half_true_cts  \\\n",
              "0              NaN   NaN  democrat                2          4              3   \n",
              "1  Today Show host   NaN      none                1          0              0   \n",
              "\n",
              "   mostly_true_cts  pants_on_fire_cts  \\\n",
              "0                0                  0   \n",
              "1                0                  0   \n",
              "\n",
              "                                           context  \n",
              "0                                an e-mail message  \n",
              "1  a red carpet interview before the Golden Globes  "
            ]
          },
          "metadata": {
            "tags": []
          },
          "execution_count": 74
        }
      ]
    },
    {
      "cell_type": "code",
      "metadata": {
        "id": "hRYJp3mk_P2V"
      },
      "source": [
        "header_list=[\"index\",\"ID\", \"label\", \"statement\",\"TotalWords\",\"Lemmatised_words\", \"subject\", \"speaker\", \"job\", \"state\", \"party\", \"barely_true_cts\",\n",
        "        \"false_cts\", \"half_true_cts\", \"mostly_true_cts\", \"pants_on_fire_cts\", \"context\"]"
      ],
      "execution_count": null,
      "outputs": []
    },
    {
      "cell_type": "code",
      "metadata": {
        "id": "tvCaWu28_P2V"
      },
      "source": [
        "df_raw_tfid = df_raw_tfid.reindex(columns = header_list) "
      ],
      "execution_count": null,
      "outputs": []
    },
    {
      "cell_type": "code",
      "metadata": {
        "id": "3rHUkBFV_P2W"
      },
      "source": [
        "# creating new column to hold total number of words in the statements and calculating the total words\n",
        "df_raw_tfid['TotalWords'] = df_raw_tfid['statement'].str.split().str.len()"
      ],
      "execution_count": null,
      "outputs": []
    },
    {
      "cell_type": "code",
      "metadata": {
        "id": "kc53xQDr_P2X",
        "outputId": "8688f175-2962-4dca-b01d-bb517639b5a8"
      },
      "source": [
        "df_raw_tfid.head(2)"
      ],
      "execution_count": null,
      "outputs": [
        {
          "output_type": "execute_result",
          "data": {
            "text/html": [
              "<div>\n",
              "<style scoped>\n",
              "    .dataframe tbody tr th:only-of-type {\n",
              "        vertical-align: middle;\n",
              "    }\n",
              "\n",
              "    .dataframe tbody tr th {\n",
              "        vertical-align: top;\n",
              "    }\n",
              "\n",
              "    .dataframe thead th {\n",
              "        text-align: right;\n",
              "    }\n",
              "</style>\n",
              "<table border=\"1\" class=\"dataframe\">\n",
              "  <thead>\n",
              "    <tr style=\"text-align: right;\">\n",
              "      <th></th>\n",
              "      <th>index</th>\n",
              "      <th>ID</th>\n",
              "      <th>label</th>\n",
              "      <th>statement</th>\n",
              "      <th>TotalWords</th>\n",
              "      <th>Lemmatised_words</th>\n",
              "      <th>subject</th>\n",
              "      <th>speaker</th>\n",
              "      <th>job</th>\n",
              "      <th>state</th>\n",
              "      <th>party</th>\n",
              "      <th>barely_true_cts</th>\n",
              "      <th>false_cts</th>\n",
              "      <th>half_true_cts</th>\n",
              "      <th>mostly_true_cts</th>\n",
              "      <th>pants_on_fire_cts</th>\n",
              "      <th>context</th>\n",
              "    </tr>\n",
              "  </thead>\n",
              "  <tbody>\n",
              "    <tr>\n",
              "      <th>0</th>\n",
              "      <td>8289</td>\n",
              "      <td>423.json</td>\n",
              "      <td>true</td>\n",
              "      <td>\"McCain opposes a woman's right to choose.\"</td>\n",
              "      <td>7</td>\n",
              "      <td>NaN</td>\n",
              "      <td>abortion</td>\n",
              "      <td>moveon</td>\n",
              "      <td>NaN</td>\n",
              "      <td>NaN</td>\n",
              "      <td>democrat</td>\n",
              "      <td>2</td>\n",
              "      <td>4</td>\n",
              "      <td>3</td>\n",
              "      <td>0</td>\n",
              "      <td>0</td>\n",
              "      <td>an e-mail message</td>\n",
              "    </tr>\n",
              "    <tr>\n",
              "      <th>1</th>\n",
              "      <td>1156</td>\n",
              "      <td>10379.json</td>\n",
              "      <td>barely-true</td>\n",
              "      <td>The name Frank has risen in popularity by 20 p...</td>\n",
              "      <td>18</td>\n",
              "      <td>NaN</td>\n",
              "      <td>pop-culture</td>\n",
              "      <td>matt-lauer</td>\n",
              "      <td>Today Show host</td>\n",
              "      <td>NaN</td>\n",
              "      <td>none</td>\n",
              "      <td>1</td>\n",
              "      <td>0</td>\n",
              "      <td>0</td>\n",
              "      <td>0</td>\n",
              "      <td>0</td>\n",
              "      <td>a red carpet interview before the Golden Globes</td>\n",
              "    </tr>\n",
              "  </tbody>\n",
              "</table>\n",
              "</div>"
            ],
            "text/plain": [
              "   index          ID        label  \\\n",
              "0   8289    423.json         true   \n",
              "1   1156  10379.json  barely-true   \n",
              "\n",
              "                                           statement  TotalWords  \\\n",
              "0        \"McCain opposes a woman's right to choose.\"           7   \n",
              "1  The name Frank has risen in popularity by 20 p...          18   \n",
              "\n",
              "   Lemmatised_words      subject     speaker              job state     party  \\\n",
              "0               NaN     abortion      moveon              NaN   NaN  democrat   \n",
              "1               NaN  pop-culture  matt-lauer  Today Show host   NaN      none   \n",
              "\n",
              "   barely_true_cts  false_cts  half_true_cts  mostly_true_cts  \\\n",
              "0                2          4              3                0   \n",
              "1                1          0              0                0   \n",
              "\n",
              "   pants_on_fire_cts                                          context  \n",
              "0                  0                                an e-mail message  \n",
              "1                  0  a red carpet interview before the Golden Globes  "
            ]
          },
          "metadata": {
            "tags": []
          },
          "execution_count": 78
        }
      ]
    },
    {
      "cell_type": "code",
      "metadata": {
        "id": "MhXK7_fl_P2Y"
      },
      "source": [
        "X = df_raw_tfid[['statement', 'TotalWords']]\n",
        "\n",
        "Y = df_raw_tfid['label']"
      ],
      "execution_count": null,
      "outputs": []
    },
    {
      "cell_type": "code",
      "metadata": {
        "id": "HuuMjA3J_P2a"
      },
      "source": [
        "X_train, X_test, y_train, y_test = train_test_split(X, Y, test_size=0.25)"
      ],
      "execution_count": null,
      "outputs": []
    },
    {
      "cell_type": "markdown",
      "metadata": {
        "id": "n6Wbfter_P2a"
      },
      "source": [
        "## Creating the pipeline with TFIDVectorizer and feature union of total words in statements"
      ]
    },
    {
      "cell_type": "code",
      "metadata": {
        "id": "L_1x15fS_P2a"
      },
      "source": [
        "classifier = Pipeline([\n",
        "    ('features', FeatureUnion([\n",
        "        ('text', Pipeline([\n",
        "            ('colext', TextSelector('statement')),\n",
        "            ('tfidf', TfidfVectorizer(analyzer='word',preprocessor=preprocess, tokenizer=Tokenizer, stop_words=stopwords_list,\n",
        "                     min_df=.0025, max_df=0.25, ngram_range=(1,3))),\n",
        "            ('svd', TruncatedSVD(algorithm='randomized', n_components=300)), #for XGB\n",
        "        ])),\n",
        "        ('words', Pipeline([\n",
        "            ('wordext', NumberSelector('TotalWords')),\n",
        "            ('wscaler', StandardScaler()),\n",
        "        ])),\n",
        "    ])),\n",
        "    ('clf', LogisticRegression(solver='liblinear', random_state=0)),\n",
        "    ])\n",
        "\n"
      ],
      "execution_count": null,
      "outputs": []
    },
    {
      "cell_type": "code",
      "metadata": {
        "id": "5WUOgpje_P2b",
        "outputId": "6c5fad6b-e8cf-4fe3-8516-19dd5e9b0a54"
      },
      "source": [
        "# logistic regression\n",
        "classifier.fit(X_train, y_train)\n",
        "predictions = classifier.predict(X_test)\n",
        "print_scores()\n",
        "\n"
      ],
      "execution_count": null,
      "outputs": [
        {
          "output_type": "stream",
          "text": [
            "Accuracy:  0.2542848239326893\n",
            "              precision    recall  f1-score   support\n",
            "\n",
            " barely-true       0.24      0.18      0.20       497\n",
            "       false       0.28      0.39      0.32       644\n",
            "   half-true       0.24      0.31      0.27       647\n",
            " mostly-true       0.25      0.30      0.28       629\n",
            "  pants-fire       0.22      0.03      0.06       244\n",
            "        true       0.26      0.15      0.19       548\n",
            "\n",
            "   micro avg       0.25      0.25      0.25      3209\n",
            "   macro avg       0.25      0.23      0.22      3209\n",
            "weighted avg       0.25      0.25      0.24      3209\n",
            "\n",
            "[[ 87 143 135  90   5  37]\n",
            " [ 56 248 168 104   7  61]\n",
            " [ 81 143 199 169   4  51]\n",
            " [ 53 142 163 190   6  75]\n",
            " [ 34 102  53  33   8  14]\n",
            " [ 46 121 127 163   7  84]]\n"
          ],
          "name": "stdout"
        }
      ]
    },
    {
      "cell_type": "code",
      "metadata": {
        "id": "NyB_5jB7_P2c",
        "outputId": "82831fd9-bf23-4760-c347-261bed98e63f"
      },
      "source": [
        "confusion_matrix_heatmap(confusion_matrix(y_test, predictions), classifier.classes_)"
      ],
      "execution_count": null,
      "outputs": [
        {
          "output_type": "display_data",
          "data": {
            "image/png": "[encoded data removed]",
            "text/plain": [
              "<Figure size 720x576 with 2 Axes>"
            ]
          },
          "metadata": {
            "tags": [],
            "needs_background": "light"
          }
        }
      ]
    },
    {
      "cell_type": "code",
      "metadata": {
        "id": "T0dhD4Py_P2c",
        "outputId": "a95ff738-30aa-4807-a8ee-0361dafbb981"
      },
      "source": [
        "#becasue multinominal naive baiese deosnt fit\n",
        "classifier.set_params(clf=GaussianNB())\n",
        "classifier.fit(X_train, y_train)\n",
        "predictions = classifier.predict(X_test)\n",
        "print_scores()"
      ],
      "execution_count": null,
      "outputs": [
        {
          "output_type": "stream",
          "text": [
            "Accuracy:  0.20878778435649736\n",
            "              precision    recall  f1-score   support\n",
            "\n",
            " barely-true       0.23      0.11      0.15       497\n",
            "       false       0.22      0.30      0.26       644\n",
            "   half-true       0.26      0.13      0.17       647\n",
            " mostly-true       0.23      0.27      0.25       629\n",
            "  pants-fire       0.12      0.30      0.17       244\n",
            "        true       0.21      0.18      0.19       548\n",
            "\n",
            "   micro avg       0.21      0.21      0.21      3209\n",
            "   macro avg       0.21      0.21      0.20      3209\n",
            "weighted avg       0.22      0.21      0.20      3209\n",
            "\n",
            "[[ 54 130  55  99 101  58]\n",
            " [ 43 193  52 141 140  75]\n",
            " [ 44 192  83 138 100  90]\n",
            " [ 43 167  51 172  92 104]\n",
            " [ 22  55  23  37  72  35]\n",
            " [ 30 129  56 160  77  96]]\n"
          ],
          "name": "stdout"
        }
      ]
    },
    {
      "cell_type": "code",
      "metadata": {
        "id": "AT9iHHbz_P2d",
        "outputId": "1ba2d544-4ef1-464b-f80c-82bfc521cc36"
      },
      "source": [
        "classifier.set_params(clf=svm.SVC(C=1.0, kernel='linear', degree=3, gamma='auto',random_state=1000))\n",
        "classifier.fit(X_train, y_train)\n",
        "predictions = classifier.predict(X_test)\n",
        "print_scores()"
      ],
      "execution_count": null,
      "outputs": [
        {
          "output_type": "stream",
          "text": [
            "Accuracy:  0.25771268307884077\n",
            "              precision    recall  f1-score   support\n",
            "\n",
            " barely-true       0.24      0.19      0.21       497\n",
            "       false       0.28      0.43      0.34       644\n",
            "   half-true       0.24      0.31      0.27       647\n",
            " mostly-true       0.26      0.30      0.28       629\n",
            "  pants-fire       0.00      0.00      0.00       244\n",
            "        true       0.25      0.13      0.17       548\n",
            "\n",
            "   micro avg       0.26      0.26      0.26      3209\n",
            "   macro avg       0.21      0.23      0.21      3209\n",
            "weighted avg       0.24      0.26      0.24      3209\n",
            "\n",
            "[[ 94 150 129  89   1  34]\n",
            " [ 71 275 152  94   2  50]\n",
            " [ 87 152 200 162   1  45]\n",
            " [ 66 148 164 187   0  64]\n",
            " [ 30 111  60  27   0  16]\n",
            " [ 39 142 124 172   0  71]]\n"
          ],
          "name": "stdout"
        }
      ]
    },
    {
      "cell_type": "code",
      "metadata": {
        "id": "Q7pQZVnW_P2e",
        "outputId": "26b1c7bc-d8f8-4ff9-e57b-0d73708aff02"
      },
      "source": [
        "#highest accuracy \n",
        "confusion_matrix_heatmap(confusion_matrix(y_test,predictions), classifier.classes_)"
      ],
      "execution_count": null,
      "outputs": [
        {
          "output_type": "display_data",
          "data": {
            "image/png": "[encoded data removed]",
            "text/plain": [
              "<Figure size 720x576 with 2 Axes>"
            ]
          },
          "metadata": {
            "tags": [],
            "needs_background": "light"
          }
        }
      ]
    },
    {
      "cell_type": "code",
      "metadata": {
        "id": "eNa3b1AK_P2e",
        "outputId": "9af5c745-fca9-47ac-d23b-239fa1e0359d"
      },
      "source": [
        "decision_tree=tree.DecisionTreeClassifier(random_state=1000)\n",
        "classifier.set_params(clf=decision_tree)\n",
        "classifier.fit(X_train, y_train)\n",
        "predictions = classifier.predict(X_test)\n",
        "print_scores()"
      ],
      "execution_count": null,
      "outputs": [
        {
          "output_type": "stream",
          "text": [
            "Accuracy:  0.20130881894671238\n",
            "              precision    recall  f1-score   support\n",
            "\n",
            " barely-true       0.17      0.19      0.18       497\n",
            "       false       0.23      0.22      0.23       644\n",
            "   half-true       0.21      0.20      0.20       647\n",
            " mostly-true       0.23      0.23      0.23       629\n",
            "  pants-fire       0.11      0.12      0.12       244\n",
            "        true       0.21      0.20      0.20       548\n",
            "\n",
            "   micro avg       0.20      0.20      0.20      3209\n",
            "   macro avg       0.19      0.19      0.19      3209\n",
            "weighted avg       0.20      0.20      0.20      3209\n",
            "\n",
            "[[ 96 104  96  90  43  68]\n",
            " [122 143 106 122  55  96]\n",
            " [106 127 127 130  52 105]\n",
            " [124 106 116 143  40 100]\n",
            " [ 41  50  42  44  30  37]\n",
            " [ 85  94 114 104  44 107]]\n"
          ],
          "name": "stdout"
        }
      ]
    },
    {
      "cell_type": "code",
      "metadata": {
        "id": "FV7fzog9_P2f",
        "outputId": "dd7ee9b5-2919-4c96-a45a-fed8c620b67a"
      },
      "source": [
        "classifier.set_params(clf=RandomForestClassifier(random_state=1000))\n",
        "classifier.fit(X_train, y_train)\n",
        "predictions = classifier.predict(X_test)\n",
        "print_scores()"
      ],
      "execution_count": null,
      "outputs": [
        {
          "output_type": "stream",
          "text": [
            "Accuracy:  0.20598317232782798\n",
            "              precision    recall  f1-score   support\n",
            "\n",
            " barely-true       0.16      0.23      0.19       497\n",
            "       false       0.22      0.29      0.25       644\n",
            "   half-true       0.20      0.22      0.21       647\n",
            " mostly-true       0.23      0.20      0.21       629\n",
            "  pants-fire       0.13      0.05      0.07       244\n",
            "        true       0.26      0.15      0.19       548\n",
            "\n",
            "   micro avg       0.21      0.21      0.21      3209\n",
            "   macro avg       0.20      0.19      0.19      3209\n",
            "weighted avg       0.21      0.21      0.20      3209\n",
            "\n",
            "[[114 143 108  91   8  33]\n",
            " [137 186 147 102  14  58]\n",
            " [160 167 145  99  20  56]\n",
            " [142 152 135 125  15  60]\n",
            " [ 46  72  55  42  11  18]\n",
            " [112 128 126  88  14  80]]\n"
          ],
          "name": "stdout"
        }
      ]
    },
    {
      "cell_type": "code",
      "metadata": {
        "id": "IxnFzyTK_P2f",
        "outputId": "fbc86e3b-861e-4f08-9c6d-085891f277cb"
      },
      "source": [
        "classifier.set_params(clf=XGBClassifier(max_depth=3, n_estimators=300, learning_rate=0.1, random_state=0))\n",
        "classifier.fit(X_train, y_train)\n",
        "predictions = classifier.predict(X_test)\n",
        "print_scores()"
      ],
      "execution_count": null,
      "outputs": [
        {
          "output_type": "stream",
          "text": [
            "Accuracy:  0.22904331567466502\n",
            "              precision    recall  f1-score   support\n",
            "\n",
            " barely-true       0.21      0.17      0.19       497\n",
            "       false       0.26      0.33      0.29       644\n",
            "   half-true       0.24      0.30      0.26       647\n",
            " mostly-true       0.21      0.26      0.23       629\n",
            "  pants-fire       0.22      0.06      0.09       244\n",
            "        true       0.21      0.12      0.15       548\n",
            "\n",
            "   micro avg       0.23      0.23      0.23      3209\n",
            "   macro avg       0.22      0.21      0.20      3209\n",
            "weighted avg       0.23      0.23      0.22      3209\n",
            "\n",
            "[[ 86 133 123 109   9  37]\n",
            " [ 75 211 150 139  16  53]\n",
            " [ 84 123 192 180   8  60]\n",
            " [ 77 144 154 166  10  78]\n",
            " [ 30  88  54  38  14  20]\n",
            " [ 58 124 138 156   6  66]]\n"
          ],
          "name": "stdout"
        }
      ]
    },
    {
      "cell_type": "markdown",
      "metadata": {
        "id": "BL4uzu1n_P2g"
      },
      "source": [
        "## Using char_wb for the TFIDVectorizer and features union"
      ]
    },
    {
      "cell_type": "code",
      "metadata": {
        "id": "AWJ1rbFW_P2g"
      },
      "source": [
        "classifier_char_wb = Pipeline([\n",
        "    ('features', FeatureUnion([\n",
        "        ('text', Pipeline([\n",
        "            ('colext', TextSelector('statement')),\n",
        "            ('tfidf', TfidfVectorizer(analyzer='char_wb',preprocessor=preprocess, tokenizer=Tokenizer, stop_words=stopwords_list,\n",
        "                     min_df=.0025, max_df=0.25, ngram_range=(1,3))),\n",
        "            ('svd', TruncatedSVD(algorithm='randomized', n_components=300)), #for XGB\n",
        "        ])),\n",
        "        ('words', Pipeline([\n",
        "            ('wordext', NumberSelector('TotalWords')),\n",
        "            ('wscaler', StandardScaler()),\n",
        "        ])),\n",
        "    ])),\n",
        "    ('clf', LogisticRegression(solver='liblinear', random_state=1000)),\n",
        "    ])"
      ],
      "execution_count": null,
      "outputs": []
    },
    {
      "cell_type": "code",
      "metadata": {
        "id": "YClozcsc_P2g",
        "outputId": "3c981a29-c873-4fbc-8d9a-c561f7f53942"
      },
      "source": [
        "#logistic regression\n",
        "classifier_char_wb.fit(X_train, y_train)\n",
        "predictions = classifier_char_wb.predict(X_test)\n",
        "print_scores()"
      ],
      "execution_count": null,
      "outputs": [
        {
          "output_type": "stream",
          "text": [
            "Accuracy:  0.24992209411031474\n",
            "              precision    recall  f1-score   support\n",
            "\n",
            " barely-true       0.23      0.17      0.19       497\n",
            "       false       0.26      0.35      0.30       644\n",
            "   half-true       0.25      0.35      0.29       647\n",
            " mostly-true       0.26      0.29      0.27       629\n",
            "  pants-fire       0.07      0.01      0.01       244\n",
            "        true       0.26      0.15      0.19       548\n",
            "\n",
            "   micro avg       0.25      0.25      0.25      3209\n",
            "   macro avg       0.22      0.22      0.21      3209\n",
            "weighted avg       0.24      0.25      0.24      3209\n",
            "\n",
            "[[ 84 142 132  92   7  40]\n",
            " [ 79 225 162 106  10  62]\n",
            " [ 73 138 225 154   4  53]\n",
            " [ 61 147 171 185   0  65]\n",
            " [ 35  90  72  32   2  13]\n",
            " [ 35 132 138 156   6  81]]\n"
          ],
          "name": "stdout"
        }
      ]
    },
    {
      "cell_type": "code",
      "metadata": {
        "id": "JpNRGdla_P2h",
        "outputId": "86767b1d-1495-419b-cec2-941fa9a6883e"
      },
      "source": [
        "# Gaussian NB\n",
        "classifier_char_wb.set_params(clf=GaussianNB())\n",
        "classifier_char_wb.fit(X_train, y_train)\n",
        "predictions = classifier_char_wb.predict(X_test)\n",
        "print_scores()"
      ],
      "execution_count": null,
      "outputs": [
        {
          "output_type": "stream",
          "text": [
            "Accuracy:  0.22655032720473667\n",
            "              precision    recall  f1-score   support\n",
            "\n",
            " barely-true       0.20      0.18      0.19       497\n",
            "       false       0.25      0.23      0.24       644\n",
            "   half-true       0.26      0.26      0.26       647\n",
            " mostly-true       0.25      0.24      0.24       629\n",
            "  pants-fire       0.15      0.26      0.19       244\n",
            "        true       0.22      0.20      0.21       548\n",
            "\n",
            "   micro avg       0.23      0.23      0.23      3209\n",
            "   macro avg       0.22      0.23      0.22      3209\n",
            "weighted avg       0.23      0.23      0.23      3209\n",
            "\n",
            "[[ 91  92  93  83  71  67]\n",
            " [ 95 145 109 106  92  97]\n",
            " [ 98 114 169 118  63  85]\n",
            " [ 88  91 123 150  70 107]\n",
            " [ 31  58  44  22  63  26]\n",
            " [ 51  90 110 125  63 109]]\n"
          ],
          "name": "stdout"
        }
      ]
    },
    {
      "cell_type": "code",
      "metadata": {
        "id": "9PMQHsdr_P2i",
        "outputId": "de8d8dac-9c55-42af-d35b-756799f79d42"
      },
      "source": [
        "#Support vector Machine classifier\n",
        "classifier_char_wb.set_params(clf=svm.SVC(C=1.0, kernel='linear', degree=3, gamma='auto'))\n",
        "classifier_char_wb.fit(X_train, y_train)\n",
        "predictions = classifier_char_wb.predict(X_test)\n",
        "print_scores()"
      ],
      "execution_count": null,
      "outputs": [
        {
          "output_type": "stream",
          "text": [
            "Accuracy:  0.24992209411031474\n",
            "              precision    recall  f1-score   support\n",
            "\n",
            " barely-true       0.25      0.20      0.22       497\n",
            "       false       0.24      0.35      0.29       644\n",
            "   half-true       0.26      0.37      0.30       647\n",
            " mostly-true       0.25      0.26      0.26       629\n",
            "  pants-fire       0.00      0.00      0.00       244\n",
            "        true       0.25      0.13      0.17       548\n",
            "\n",
            "   micro avg       0.25      0.25      0.25      3209\n",
            "   macro avg       0.21      0.22      0.21      3209\n",
            "weighted avg       0.23      0.25      0.23      3209\n",
            "\n",
            "[[ 97 151 132  80   0  37]\n",
            " [ 85 227 174 104   0  54]\n",
            " [ 73 154 239 137   0  44]\n",
            " [ 59 160 174 166   0  70]\n",
            " [ 31 100  72  29   0  12]\n",
            " [ 40 143 136 156   0  73]]\n"
          ],
          "name": "stdout"
        }
      ]
    },
    {
      "cell_type": "code",
      "metadata": {
        "id": "g7S1ZlVK_P2i",
        "outputId": "94b1aaa9-395c-4b74-e2ea-31fd8c1b174e"
      },
      "source": [
        "#decision tree\n",
        "decision_tree=tree.DecisionTreeClassifier(random_state=1000)\n",
        "classifier_char_wb.set_params(clf=decision_tree)\n",
        "classifier_char_wb.fit(X_train, y_train)\n",
        "predictions = classifier_char_wb.predict(X_test)\n",
        "print_scores()"
      ],
      "execution_count": null,
      "outputs": [
        {
          "output_type": "stream",
          "text": [
            "Accuracy:  0.1869741352446245\n",
            "              precision    recall  f1-score   support\n",
            "\n",
            " barely-true       0.19      0.19      0.19       497\n",
            "       false       0.21      0.20      0.20       644\n",
            "   half-true       0.22      0.23      0.22       647\n",
            " mostly-true       0.20      0.20      0.20       629\n",
            "  pants-fire       0.09      0.11      0.10       244\n",
            "        true       0.16      0.14      0.15       548\n",
            "\n",
            "   micro avg       0.19      0.19      0.19      3209\n",
            "   macro avg       0.18      0.18      0.18      3209\n",
            "weighted avg       0.19      0.19      0.19      3209\n",
            "\n",
            "[[ 94  94 100  92  42  75]\n",
            " [ 91 130 139 131  62  91]\n",
            " [ 99 109 148 127  56 108]\n",
            " [103 119 120 126  61 100]\n",
            " [ 34  62  37  55  27  29]\n",
            " [ 78 116 128 108  43  75]]\n"
          ],
          "name": "stdout"
        }
      ]
    },
    {
      "cell_type": "code",
      "metadata": {
        "id": "6Q6v7gU3_P2j",
        "outputId": "2b8d6da5-8d21-4649-d8b1-c9796629058f"
      },
      "source": [
        "classifier_char_wb.set_params(clf=RandomForestClassifier())\n",
        "classifier_char_wb.fit(X_train, y_train)\n",
        "predictions = classifier_char_wb.predict(X_test)\n",
        "print_scores()"
      ],
      "execution_count": null,
      "outputs": [
        {
          "output_type": "stream",
          "text": [
            "Accuracy:  0.198504206918043\n",
            "              precision    recall  f1-score   support\n",
            "\n",
            " barely-true       0.16      0.24      0.19       497\n",
            "       false       0.23      0.28      0.25       644\n",
            "   half-true       0.22      0.26      0.24       647\n",
            " mostly-true       0.20      0.17      0.18       629\n",
            "  pants-fire       0.08      0.02      0.03       244\n",
            "        true       0.18      0.10      0.13       548\n",
            "\n",
            "   micro avg       0.20      0.20      0.20      3209\n",
            "   macro avg       0.18      0.18      0.17      3209\n",
            "weighted avg       0.19      0.20      0.19      3209\n",
            "\n",
            "[[118 124 124  70  15  46]\n",
            " [131 183 146 115  13  56]\n",
            " [141 135 170 115  18  68]\n",
            " [157 149 150 106   9  58]\n",
            " [ 65  67  55  29   5  23]\n",
            " [130 145 129  83   6  55]]\n"
          ],
          "name": "stdout"
        }
      ]
    },
    {
      "cell_type": "code",
      "metadata": {
        "id": "u-obH1vf_P2j",
        "outputId": "19cc7b09-6a5e-4ff2-cce2-da78c87cfd56"
      },
      "source": [
        "classifier_char_wb.set_params(clf=XGBClassifier(max_depth=3, n_estimators=300, learning_rate=0.1, random_state=0))\n",
        "classifier_char_wb.fit(X_train, y_train)\n",
        "predictions = classifier.predict(X_test)\n",
        "print_scores()"
      ],
      "execution_count": null,
      "outputs": [
        {
          "output_type": "stream",
          "text": [
            "Accuracy:  0.22904331567466502\n",
            "              precision    recall  f1-score   support\n",
            "\n",
            " barely-true       0.21      0.17      0.19       497\n",
            "       false       0.26      0.33      0.29       644\n",
            "   half-true       0.24      0.30      0.26       647\n",
            " mostly-true       0.21      0.26      0.23       629\n",
            "  pants-fire       0.22      0.06      0.09       244\n",
            "        true       0.21      0.12      0.15       548\n",
            "\n",
            "   micro avg       0.23      0.23      0.23      3209\n",
            "   macro avg       0.22      0.21      0.20      3209\n",
            "weighted avg       0.23      0.23      0.22      3209\n",
            "\n",
            "[[ 86 133 123 109   9  37]\n",
            " [ 75 211 150 139  16  53]\n",
            " [ 84 123 192 180   8  60]\n",
            " [ 77 144 154 166  10  78]\n",
            " [ 30  88  54  38  14  20]\n",
            " [ 58 124 138 156   6  66]]\n"
          ],
          "name": "stdout"
        }
      ]
    },
    {
      "cell_type": "markdown",
      "metadata": {
        "id": "hpyu8CoS_P2k"
      },
      "source": [
        "### Grid Search CV with TFIDVectorizer, feature Union and top 2 performing classifiers"
      ]
    },
    {
      "cell_type": "code",
      "metadata": {
        "id": "3pfknl8Y_P2l"
      },
      "source": [
        "classifier_grid = Pipeline([\n",
        "    ('features', FeatureUnion([\n",
        "        ('text', Pipeline([\n",
        "            ('colext', TextSelector('statement')),\n",
        "            ('tfidf', TfidfVectorizer(analyzer='word', preprocessor=preprocess, tokenizer=Tokenizer, stop_words='english',\n",
        "                     min_df=.0025, max_df=0.25, ngram_range=(1,3))),\n",
        "            ('svd', TruncatedSVD(algorithm='randomized', n_components=300)), #for XGB\n",
        "        ])),\n",
        "        ('words', Pipeline([\n",
        "            ('wordext', NumberSelector('TotalWords')),\n",
        "            ('wscaler', StandardScaler()),\n",
        "        ])),\n",
        "    ])),\n",
        "    ('clf',None),\n",
        "    ])\n",
        "    \n",
        "param_grid={\n",
        "   # 'selector__k': [100, 50,150],\n",
        "    'clf': [LogisticRegression(solver='liblinear', random_state=0),svm.SVC(C=1.0, kernel='linear', degree=3, gamma='auto'),\n",
        "    svm.SVC(C=1.0, kernel='linear', degree=3, gamma='auto'),RandomForestClassifier() ],\n",
        "}\n"
      ],
      "execution_count": null,
      "outputs": []
    },
    {
      "cell_type": "code",
      "metadata": {
        "id": "hX-qiaUB_P2m",
        "outputId": "20276c0d-e315-4f63-cd13-0592d8bf259f"
      },
      "source": [
        "search = GridSearchCV(classifier_grid, cv = StratifiedKFold(n_splits=5, random_state=0), \n",
        "                      return_train_score = False, \n",
        "                      scoring = ['accuracy', 'precision_weighted', 'recall_weighted', 'f1_weighted'],\n",
        "                      refit = 'f1_weighted',\n",
        "                      param_grid = param_grid)\n",
        "\n",
        "search.fit(X_train, y_train)\n",
        " "
      ],
      "execution_count": null,
      "outputs": [
        {
          "output_type": "execute_result",
          "data": {
            "text/plain": [
              "GridSearchCV(cv=StratifiedKFold(n_splits=5, random_state=0, shuffle=False),\n",
              "       error_score='raise-deprecating',\n",
              "       estimator=Pipeline(memory=None,\n",
              "     steps=[('features', FeatureUnion(n_jobs=None,\n",
              "       transformer_list=[('text', Pipeline(memory=None,\n",
              "     steps=[('colext', TextSelector(field='statement')), ('tfidf', TfidfVectorizer(analyzer='word', binary=False, decode_error='strict',\n",
              "        dtype=<class 'numpy.float64'>, encoding='utf-8', inpu...er(copy=True, with_mean=True, with_std=True))]))],\n",
              "       transformer_weights=None)), ('clf', None)]),\n",
              "       fit_params=None, iid='warn', n_jobs=None,\n",
              "       param_grid={'clf': [LogisticRegression(C=1.0, class_weight=None, dual=False, fit_intercept=True,\n",
              "          intercept_scaling=1, max_iter=100, multi_class='warn',\n",
              "          n_jobs=None, penalty='l2', random_state=0, solver='liblinear',\n",
              "          tol=0.0001, verbose=0, warm_start=False), SVC(C=1.0, ca...obs=None,\n",
              "            oob_score=False, random_state=None, verbose=0,\n",
              "            warm_start=False)]},\n",
              "       pre_dispatch='2*n_jobs', refit='f1_weighted',\n",
              "       return_train_score=False,\n",
              "       scoring=['accuracy', 'precision_weighted', 'recall_weighted', 'f1_weighted'],\n",
              "       verbose=0)"
            ]
          },
          "metadata": {
            "tags": []
          },
          "execution_count": 98
        }
      ]
    },
    {
      "cell_type": "code",
      "metadata": {
        "id": "xy2kEZcz_P2m",
        "outputId": "d07b3895-6e68-47ce-f5c5-05e175682769"
      },
      "source": [
        "pd.DataFrame(search.cv_results_)"
      ],
      "execution_count": null,
      "outputs": [
        {
          "output_type": "execute_result",
          "data": {
            "text/html": [
              "<div>\n",
              "<style scoped>\n",
              "    .dataframe tbody tr th:only-of-type {\n",
              "        vertical-align: middle;\n",
              "    }\n",
              "\n",
              "    .dataframe tbody tr th {\n",
              "        vertical-align: top;\n",
              "    }\n",
              "\n",
              "    .dataframe thead th {\n",
              "        text-align: right;\n",
              "    }\n",
              "</style>\n",
              "<table border=\"1\" class=\"dataframe\">\n",
              "  <thead>\n",
              "    <tr style=\"text-align: right;\">\n",
              "      <th></th>\n",
              "      <th>mean_fit_time</th>\n",
              "      <th>std_fit_time</th>\n",
              "      <th>mean_score_time</th>\n",
              "      <th>std_score_time</th>\n",
              "      <th>param_clf</th>\n",
              "      <th>params</th>\n",
              "      <th>split0_test_accuracy</th>\n",
              "      <th>split1_test_accuracy</th>\n",
              "      <th>split2_test_accuracy</th>\n",
              "      <th>split3_test_accuracy</th>\n",
              "      <th>...</th>\n",
              "      <th>std_test_recall_weighted</th>\n",
              "      <th>rank_test_recall_weighted</th>\n",
              "      <th>split0_test_f1_weighted</th>\n",
              "      <th>split1_test_f1_weighted</th>\n",
              "      <th>split2_test_f1_weighted</th>\n",
              "      <th>split3_test_f1_weighted</th>\n",
              "      <th>split4_test_f1_weighted</th>\n",
              "      <th>mean_test_f1_weighted</th>\n",
              "      <th>std_test_f1_weighted</th>\n",
              "      <th>rank_test_f1_weighted</th>\n",
              "    </tr>\n",
              "  </thead>\n",
              "  <tbody>\n",
              "    <tr>\n",
              "      <th>0</th>\n",
              "      <td>7.926627</td>\n",
              "      <td>0.197351</td>\n",
              "      <td>4.339041</td>\n",
              "      <td>0.148405</td>\n",
              "      <td>LogisticRegression(C=1.0, class_weight=None, d...</td>\n",
              "      <td>{'clf': LogisticRegression(C=1.0, class_weight...</td>\n",
              "      <td>0.238466</td>\n",
              "      <td>0.241433</td>\n",
              "      <td>0.246881</td>\n",
              "      <td>0.240644</td>\n",
              "      <td>...</td>\n",
              "      <td>0.003636</td>\n",
              "      <td>1</td>\n",
              "      <td>0.227192</td>\n",
              "      <td>0.232748</td>\n",
              "      <td>0.237134</td>\n",
              "      <td>0.230332</td>\n",
              "      <td>0.223467</td>\n",
              "      <td>0.230173</td>\n",
              "      <td>0.004667</td>\n",
              "      <td>1</td>\n",
              "    </tr>\n",
              "    <tr>\n",
              "      <th>1</th>\n",
              "      <td>41.058423</td>\n",
              "      <td>0.342404</td>\n",
              "      <td>23.654015</td>\n",
              "      <td>0.704532</td>\n",
              "      <td>SVC(C=1.0, cache_size=200, class_weight=None, ...</td>\n",
              "      <td>{'clf': SVC(C=1.0, cache_size=200, class_weigh...</td>\n",
              "      <td>0.237947</td>\n",
              "      <td>0.234683</td>\n",
              "      <td>0.240644</td>\n",
              "      <td>0.233888</td>\n",
              "      <td>...</td>\n",
              "      <td>0.003712</td>\n",
              "      <td>3</td>\n",
              "      <td>0.220479</td>\n",
              "      <td>0.217470</td>\n",
              "      <td>0.223236</td>\n",
              "      <td>0.218769</td>\n",
              "      <td>0.212340</td>\n",
              "      <td>0.218459</td>\n",
              "      <td>0.003616</td>\n",
              "      <td>3</td>\n",
              "    </tr>\n",
              "    <tr>\n",
              "      <th>2</th>\n",
              "      <td>42.271672</td>\n",
              "      <td>0.714013</td>\n",
              "      <td>23.680071</td>\n",
              "      <td>0.511668</td>\n",
              "      <td>SVC(C=1.0, cache_size=200, class_weight=None, ...</td>\n",
              "      <td>{'clf': SVC(C=1.0, cache_size=200, class_weigh...</td>\n",
              "      <td>0.238984</td>\n",
              "      <td>0.235722</td>\n",
              "      <td>0.243763</td>\n",
              "      <td>0.234927</td>\n",
              "      <td>...</td>\n",
              "      <td>0.004062</td>\n",
              "      <td>2</td>\n",
              "      <td>0.220552</td>\n",
              "      <td>0.219367</td>\n",
              "      <td>0.226006</td>\n",
              "      <td>0.219154</td>\n",
              "      <td>0.213436</td>\n",
              "      <td>0.219703</td>\n",
              "      <td>0.004002</td>\n",
              "      <td>2</td>\n",
              "    </tr>\n",
              "    <tr>\n",
              "      <th>3</th>\n",
              "      <td>7.476867</td>\n",
              "      <td>0.205901</td>\n",
              "      <td>4.540583</td>\n",
              "      <td>0.255830</td>\n",
              "      <td>(DecisionTreeClassifier(class_weight=None, cri...</td>\n",
              "      <td>{'clf': (DecisionTreeClassifier(class_weight=N...</td>\n",
              "      <td>0.208917</td>\n",
              "      <td>0.198858</td>\n",
              "      <td>0.211019</td>\n",
              "      <td>0.189709</td>\n",
              "      <td>...</td>\n",
              "      <td>0.007888</td>\n",
              "      <td>4</td>\n",
              "      <td>0.197807</td>\n",
              "      <td>0.190557</td>\n",
              "      <td>0.201956</td>\n",
              "      <td>0.182481</td>\n",
              "      <td>0.189505</td>\n",
              "      <td>0.192464</td>\n",
              "      <td>0.006791</td>\n",
              "      <td>4</td>\n",
              "    </tr>\n",
              "  </tbody>\n",
              "</table>\n",
              "<p>4 rows × 38 columns</p>\n",
              "</div>"
            ],
            "text/plain": [
              "   mean_fit_time  std_fit_time  mean_score_time  std_score_time  \\\n",
              "0       7.926627      0.197351         4.339041        0.148405   \n",
              "1      41.058423      0.342404        23.654015        0.704532   \n",
              "2      42.271672      0.714013        23.680071        0.511668   \n",
              "3       7.476867      0.205901         4.540583        0.255830   \n",
              "\n",
              "                                           param_clf  \\\n",
              "0  LogisticRegression(C=1.0, class_weight=None, d...   \n",
              "1  SVC(C=1.0, cache_size=200, class_weight=None, ...   \n",
              "2  SVC(C=1.0, cache_size=200, class_weight=None, ...   \n",
              "3  (DecisionTreeClassifier(class_weight=None, cri...   \n",
              "\n",
              "                                              params  split0_test_accuracy  \\\n",
              "0  {'clf': LogisticRegression(C=1.0, class_weight...              0.238466   \n",
              "1  {'clf': SVC(C=1.0, cache_size=200, class_weigh...              0.237947   \n",
              "2  {'clf': SVC(C=1.0, cache_size=200, class_weigh...              0.238984   \n",
              "3  {'clf': (DecisionTreeClassifier(class_weight=N...              0.208917   \n",
              "\n",
              "   split1_test_accuracy  split2_test_accuracy  split3_test_accuracy  \\\n",
              "0              0.241433              0.246881              0.240644   \n",
              "1              0.234683              0.240644              0.233888   \n",
              "2              0.235722              0.243763              0.234927   \n",
              "3              0.198858              0.211019              0.189709   \n",
              "\n",
              "           ...            std_test_recall_weighted  rank_test_recall_weighted  \\\n",
              "0          ...                            0.003636                          1   \n",
              "1          ...                            0.003712                          3   \n",
              "2          ...                            0.004062                          2   \n",
              "3          ...                            0.007888                          4   \n",
              "\n",
              "   split0_test_f1_weighted  split1_test_f1_weighted  split2_test_f1_weighted  \\\n",
              "0                 0.227192                 0.232748                 0.237134   \n",
              "1                 0.220479                 0.217470                 0.223236   \n",
              "2                 0.220552                 0.219367                 0.226006   \n",
              "3                 0.197807                 0.190557                 0.201956   \n",
              "\n",
              "   split3_test_f1_weighted  split4_test_f1_weighted  mean_test_f1_weighted  \\\n",
              "0                 0.230332                 0.223467               0.230173   \n",
              "1                 0.218769                 0.212340               0.218459   \n",
              "2                 0.219154                 0.213436               0.219703   \n",
              "3                 0.182481                 0.189505               0.192464   \n",
              "\n",
              "   std_test_f1_weighted  rank_test_f1_weighted  \n",
              "0              0.004667                      1  \n",
              "1              0.003616                      3  \n",
              "2              0.004002                      2  \n",
              "3              0.006791                      4  \n",
              "\n",
              "[4 rows x 38 columns]"
            ]
          },
          "metadata": {
            "tags": []
          },
          "execution_count": 99
        }
      ]
    },
    {
      "cell_type": "code",
      "metadata": {
        "id": "q9qbd18D_P2n",
        "outputId": "b120732e-9309-4a6e-ca28-ea0ea75f1645"
      },
      "source": [
        "predictions = search.predict(X_test)\n",
        "\n",
        "print(\"Accuracy: \", accuracy_score(y_test, predictions))\n",
        "print(classification_report(y_test, predictions))\n",
        "print(confusion_matrix(y_test, predictions))\n",
        "\n",
        "confusion_matrix_heatmap(confusion_matrix(y_test,predictions), search.classes_)"
      ],
      "execution_count": null,
      "outputs": [
        {
          "output_type": "stream",
          "text": [
            "Accuracy:  0.24306637581801185\n",
            "              precision    recall  f1-score   support\n",
            "\n",
            " barely-true       0.22      0.18      0.20       497\n",
            "       false       0.27      0.36      0.31       644\n",
            "   half-true       0.24      0.30      0.26       647\n",
            " mostly-true       0.23      0.28      0.25       629\n",
            "  pants-fire       0.21      0.04      0.06       244\n",
            "        true       0.24      0.15      0.18       548\n",
            "\n",
            "   micro avg       0.24      0.24      0.24      3209\n",
            "   macro avg       0.24      0.22      0.21      3209\n",
            "weighted avg       0.24      0.24      0.23      3209\n",
            "\n",
            "[[ 87 143 120  93   5  49]\n",
            " [ 77 235 157 114   7  54]\n",
            " [ 83 131 193 174   7  59]\n",
            " [ 68 146 158 175   7  75]\n",
            " [ 34 102  52  32   9  15]\n",
            " [ 40 126 134 159   8  81]]\n"
          ],
          "name": "stdout"
        },
        {
          "output_type": "display_data",
          "data": {
            "image/png": "[encoded data removed]",
            "text/plain": [
              "<Figure size 720x576 with 2 Axes>"
            ]
          },
          "metadata": {
            "tags": [],
            "needs_background": "light"
          }
        }
      ]
    },
    {
      "cell_type": "code",
      "metadata": {
        "id": "u8X5ErRt_P2q",
        "outputId": "0d61dd06-6856-45ee-c806-06cba522e8ee"
      },
      "source": [
        "confusion_matrix_percent_heatmap(confusion_matrix(y_test,predictions), search.classes_)"
      ],
      "execution_count": null,
      "outputs": [
        {
          "output_type": "display_data",
          "data": {
            "image/png": "[encoded data removed]",
            "text/plain": [
              "<Figure size 720x720 with 2 Axes>"
            ]
          },
          "metadata": {
            "tags": [],
            "needs_background": "light"
          }
        }
      ]
    },
    {
      "cell_type": "code",
      "metadata": {
        "id": "NkGDpIMY_P2r",
        "outputId": "8dbfff41-dd6c-4324-c637-97828d63f508"
      },
      "source": [
        "print(search.best_estimator_ )"
      ],
      "execution_count": null,
      "outputs": [
        {
          "output_type": "stream",
          "text": [
            "Pipeline(memory=None,\n",
            "     steps=[('features', FeatureUnion(n_jobs=None,\n",
            "       transformer_list=[('text', Pipeline(memory=None,\n",
            "     steps=[('colext', TextSelector(field='statement')), ('tfidf', TfidfVectorizer(analyzer='word', binary=False, decode_error='strict',\n",
            "        dtype=<class 'numpy.float64'>, encoding='utf-8', inpu...nalty='l2', random_state=0, solver='liblinear',\n",
            "          tol=0.0001, verbose=0, warm_start=False))])\n"
          ],
          "name": "stdout"
        }
      ]
    },
    {
      "cell_type": "code",
      "metadata": {
        "id": "WTW5D6UM_P2r",
        "outputId": "78ab93e4-3978-4740-eed7-be01dfb852fe"
      },
      "source": [
        "search.best_score_"
      ],
      "execution_count": null,
      "outputs": [
        {
          "output_type": "execute_result",
          "data": {
            "text/plain": [
              "0.2301733652620842"
            ]
          },
          "metadata": {
            "tags": []
          },
          "execution_count": 103
        }
      ]
    },
    {
      "cell_type": "code",
      "metadata": {
        "id": "z2GAW6OV_P2t",
        "outputId": "dc6bb723-86be-45f1-8a8c-7ad4655ef257"
      },
      "source": [
        "print(search.best_params_) "
      ],
      "execution_count": null,
      "outputs": [
        {
          "output_type": "stream",
          "text": [
            "{'clf': LogisticRegression(C=1.0, class_weight=None, dual=False, fit_intercept=True,\n",
            "          intercept_scaling=1, max_iter=100, multi_class='warn',\n",
            "          n_jobs=None, penalty='l2', random_state=0, solver='liblinear',\n",
            "          tol=0.0001, verbose=0, warm_start=False)}\n"
          ],
          "name": "stdout"
        }
      ]
    },
    {
      "cell_type": "code",
      "metadata": {
        "id": "Yhbx0pIW_P2t",
        "outputId": "9582074e-6622-4f32-a3da-8089a6da3266"
      },
      "source": [
        "print(search.scorer_)"
      ],
      "execution_count": null,
      "outputs": [
        {
          "output_type": "stream",
          "text": [
            "{'accuracy': make_scorer(accuracy_score), 'precision_weighted': make_scorer(precision_score, pos_label=None, average=weighted), 'recall_weighted': make_scorer(recall_score, pos_label=None, average=weighted), 'f1_weighted': make_scorer(f1_score, pos_label=None, average=weighted)}\n"
          ],
          "name": "stdout"
        }
      ]
    },
    {
      "cell_type": "markdown",
      "metadata": {
        "id": "7iZvoQ6Y_P2u"
      },
      "source": [
        "## Lemmatisation of the 'statements' by giving POS (parts of speech) Tags as context"
      ]
    },
    {
      "cell_type": "markdown",
      "metadata": {
        "id": "r7gdLRe-_P2v"
      },
      "source": [
        "> Earlier we did stemming of the 'statements' in the LIAR dataset using NLTK porter stemmer. Now we use stemming.The aim of both is the similar that is to reduce the inflectional forms of each word into a common base or root. Lemmatization is closely related to stemming, However the difference is that a stemmer operates on a single word without knowledge of the context, and therefore cannot discriminate between words which have different meanings depending on part of speech. Here we provide POS (parts of speech tagging) as the context for lemmatisation. Stemmers are typically easier to implement and run faster but have reduced accuracy.\n"
      ]
    },
    {
      "cell_type": "code",
      "metadata": {
        "id": "bFkC9nSo_P2v"
      },
      "source": [
        "\"\"\"WordNetLemmatizer requires Pos tags to understand if the word is noun or verb or adjective etc.\n",
        "        By default it is set to Noun. Here we consider only POS tags of Noun, Adjective, Verb and Adverb. \"\"\"\n",
        "\n",
        "corpus=[]\n",
        "\n",
        "for state in df_raw_tfid['statement']:\n",
        "    \n",
        "    texts=preprocess(state)\n",
        "    token=nltk.word_tokenize(texts)\n",
        "    corpus.append(token)\n",
        "\n",
        "tag_map = defaultdict(lambda : wn.NOUN)\n",
        "tag_map['J'] = wn.ADJ\n",
        "tag_map['V'] = wn.VERB\n",
        "tag_map['R'] = wn.ADV\n",
        "\n",
        "for index,entry in enumerate(corpus):\n",
        "    # looping through the entries and saving in the corpus\n",
        "    Final_words = []\n",
        "    # fitting WordNetLemmatizer()\n",
        "    word_Lemmatized = WordNetLemmatizer()\n",
        "    # pos_tag will provide the 'tag' i.e if the word is Noun(N) or Verb(V) etc.\n",
        "    for word, tag in pos_tag(entry):\n",
        "        # condition is to check for Stop words and consider only alphabets\n",
        "        if word not in stopwords.words('english') and word.isalpha():\n",
        "            word_Final = word_Lemmatized.lemmatize(word,tag_map[tag[0]])\n",
        "            Final_words.append(word_Final)\n",
        "    # The processed words for each 'statement' will be store in column 'lemmatised_words in the dataframe'\n",
        "    df_raw_tfid.loc[index,'Lemmatised_words'] = str(Final_words)"
      ],
      "execution_count": null,
      "outputs": []
    },
    {
      "cell_type": "code",
      "metadata": {
        "id": "KZciD38n_P2w",
        "outputId": "82dd53ba-8ffe-493a-e97e-7bc3418f9c84"
      },
      "source": [
        "# sample lemmatised text of the 'statements'\n",
        "corpus[1:2]"
      ],
      "execution_count": null,
      "outputs": [
        {
          "output_type": "execute_result",
          "data": {
            "text/plain": [
              "[['the',\n",
              "  'name',\n",
              "  'frank',\n",
              "  'has',\n",
              "  'risen',\n",
              "  'in',\n",
              "  'popularity',\n",
              "  'by',\n",
              "  '20',\n",
              "  'percent',\n",
              "  'since',\n",
              "  'the',\n",
              "  'debut',\n",
              "  'of',\n",
              "  'house',\n",
              "  'of',\n",
              "  'cardson',\n",
              "  'netflix']]"
            ]
          },
          "metadata": {
            "tags": []
          },
          "execution_count": 107
        }
      ]
    },
    {
      "cell_type": "code",
      "metadata": {
        "id": "gKZp6JNP_P2x",
        "outputId": "ca6154d9-6e64-4886-a430-6f456283bcba"
      },
      "source": [
        "# We can see that new column 'Lemmtised_words is created which stores the lemmatised words of the 'statements'\n",
        "df_raw_tfid.head(2)"
      ],
      "execution_count": null,
      "outputs": [
        {
          "output_type": "execute_result",
          "data": {
            "text/html": [
              "<div>\n",
              "<style scoped>\n",
              "    .dataframe tbody tr th:only-of-type {\n",
              "        vertical-align: middle;\n",
              "    }\n",
              "\n",
              "    .dataframe tbody tr th {\n",
              "        vertical-align: top;\n",
              "    }\n",
              "\n",
              "    .dataframe thead th {\n",
              "        text-align: right;\n",
              "    }\n",
              "</style>\n",
              "<table border=\"1\" class=\"dataframe\">\n",
              "  <thead>\n",
              "    <tr style=\"text-align: right;\">\n",
              "      <th></th>\n",
              "      <th>index</th>\n",
              "      <th>ID</th>\n",
              "      <th>label</th>\n",
              "      <th>statement</th>\n",
              "      <th>TotalWords</th>\n",
              "      <th>Lemmatised_words</th>\n",
              "      <th>subject</th>\n",
              "      <th>speaker</th>\n",
              "      <th>job</th>\n",
              "      <th>state</th>\n",
              "      <th>party</th>\n",
              "      <th>barely_true_cts</th>\n",
              "      <th>false_cts</th>\n",
              "      <th>half_true_cts</th>\n",
              "      <th>mostly_true_cts</th>\n",
              "      <th>pants_on_fire_cts</th>\n",
              "      <th>context</th>\n",
              "    </tr>\n",
              "  </thead>\n",
              "  <tbody>\n",
              "    <tr>\n",
              "      <th>0</th>\n",
              "      <td>8289</td>\n",
              "      <td>423.json</td>\n",
              "      <td>true</td>\n",
              "      <td>\"McCain opposes a woman's right to choose.\"</td>\n",
              "      <td>7</td>\n",
              "      <td>['mccain', 'oppose', 'woman', 'right', 'choose']</td>\n",
              "      <td>abortion</td>\n",
              "      <td>moveon</td>\n",
              "      <td>NaN</td>\n",
              "      <td>NaN</td>\n",
              "      <td>democrat</td>\n",
              "      <td>2</td>\n",
              "      <td>4</td>\n",
              "      <td>3</td>\n",
              "      <td>0</td>\n",
              "      <td>0</td>\n",
              "      <td>an e-mail message</td>\n",
              "    </tr>\n",
              "    <tr>\n",
              "      <th>1</th>\n",
              "      <td>1156</td>\n",
              "      <td>10379.json</td>\n",
              "      <td>barely-true</td>\n",
              "      <td>The name Frank has risen in popularity by 20 p...</td>\n",
              "      <td>18</td>\n",
              "      <td>['name', 'frank', 'rise', 'popularity', 'perce...</td>\n",
              "      <td>pop-culture</td>\n",
              "      <td>matt-lauer</td>\n",
              "      <td>Today Show host</td>\n",
              "      <td>NaN</td>\n",
              "      <td>none</td>\n",
              "      <td>1</td>\n",
              "      <td>0</td>\n",
              "      <td>0</td>\n",
              "      <td>0</td>\n",
              "      <td>0</td>\n",
              "      <td>a red carpet interview before the Golden Globes</td>\n",
              "    </tr>\n",
              "  </tbody>\n",
              "</table>\n",
              "</div>"
            ],
            "text/plain": [
              "   index          ID        label  \\\n",
              "0   8289    423.json         true   \n",
              "1   1156  10379.json  barely-true   \n",
              "\n",
              "                                           statement  TotalWords  \\\n",
              "0        \"McCain opposes a woman's right to choose.\"           7   \n",
              "1  The name Frank has risen in popularity by 20 p...          18   \n",
              "\n",
              "                                    Lemmatised_words      subject     speaker  \\\n",
              "0   ['mccain', 'oppose', 'woman', 'right', 'choose']     abortion      moveon   \n",
              "1  ['name', 'frank', 'rise', 'popularity', 'perce...  pop-culture  matt-lauer   \n",
              "\n",
              "               job state     party  barely_true_cts  false_cts  half_true_cts  \\\n",
              "0              NaN   NaN  democrat                2          4              3   \n",
              "1  Today Show host   NaN      none                1          0              0   \n",
              "\n",
              "   mostly_true_cts  pants_on_fire_cts  \\\n",
              "0                0                  0   \n",
              "1                0                  0   \n",
              "\n",
              "                                           context  \n",
              "0                                an e-mail message  \n",
              "1  a red carpet interview before the Golden Globes  "
            ]
          },
          "metadata": {
            "tags": []
          },
          "execution_count": 108
        }
      ]
    },
    {
      "cell_type": "code",
      "metadata": {
        "id": "vv0tdme4_P2y"
      },
      "source": [
        "X=df_raw_tfid['Lemmatised_words'].tolist()\n",
        "y=df_raw_tfid['label']"
      ],
      "execution_count": null,
      "outputs": []
    },
    {
      "cell_type": "code",
      "metadata": {
        "id": "BxsHEYPK_P2z"
      },
      "source": [
        "# fitting TfidfVectorizer with the lemmatised 'statements'\n",
        "Encoder = LabelEncoder()\n",
        "y = Encoder.fit_transform(y)\n",
        "\n",
        "Tfidf_vect = TfidfVectorizer()\n",
        "Tfidf_vect.fit(df_raw_tfid['Lemmatised_words'])\n",
        "X = Tfidf_vect.transform(X)"
      ],
      "execution_count": null,
      "outputs": []
    },
    {
      "cell_type": "code",
      "metadata": {
        "id": "47WRhvaw_P20"
      },
      "source": [
        "# logistic regression classifier\n",
        "logistic = LogisticRegression(solver='liblinear', random_state=0)"
      ],
      "execution_count": null,
      "outputs": []
    },
    {
      "cell_type": "code",
      "metadata": {
        "id": "-zHJVbaV_P21",
        "outputId": "2d766b18-66f3-4ae6-e1d3-fefa1243c195"
      },
      "source": [
        "# cross validation\n",
        "cv_scores = cross_validate(logistic, X, y, cv=StratifiedKFold(n_splits=5, random_state=0), return_train_score=False, scoring=['accuracy', 'precision_weighted', 'recall_weighted', 'f1_weighted'])\n",
        "print_cv_scores_summary(\"Accuracy\", cv_scores['test_accuracy'])\n",
        "print_cv_scores_summary(\"Precision\", cv_scores['test_precision_weighted'])\n",
        "print_cv_scores_summary(\"Recall\", cv_scores['test_recall_weighted'])\n",
        "print_cv_scores_summary(\"F1\", cv_scores['test_f1_weighted'])\n",
        "\n"
      ],
      "execution_count": null,
      "outputs": [
        {
          "output_type": "stream",
          "text": [
            "Accuracy: mean = 25.01%, sd = 0.79%, min = 23.79, max = 26.05\n",
            "Precision: mean = 25.51%, sd = 1.53%, min = 23.30, max = 27.48\n",
            "Recall: mean = 25.01%, sd = 0.79%, min = 23.79, max = 26.05\n",
            "F1: mean = 23.91%, sd = 0.91%, min = 22.53, max = 25.06\n"
          ],
          "name": "stdout"
        }
      ]
    },
    {
      "cell_type": "code",
      "metadata": {
        "id": "MWemoBug_P23"
      },
      "source": [
        "#confusion_matrix_heatmap(confusion_matrix(y_test,predictions), search.classes_)"
      ],
      "execution_count": null,
      "outputs": []
    },
    {
      "cell_type": "code",
      "metadata": {
        "id": "CL8lZWgf_P23"
      },
      "source": [
        "SVM_classifier=svm.SVC(C=1.0, kernel='linear', degree=3, gamma='auto', random_state=0)"
      ],
      "execution_count": null,
      "outputs": []
    },
    {
      "cell_type": "code",
      "metadata": {
        "id": "A4ut4lPj_P23",
        "outputId": "77688223-c84c-4163-c6dd-b0cc2f301ebb"
      },
      "source": [
        "cv_scores = cross_validate(SVM_classifier, X, y, cv=StratifiedKFold(n_splits=5, random_state=0), return_train_score=False, scoring=['accuracy', 'precision_weighted', 'recall_weighted', 'f1_weighted'])\n",
        "print_cv_scores_summary(\"Accuracy\", cv_scores['test_accuracy'])\n",
        "print_cv_scores_summary(\"Precision\", cv_scores['test_precision_weighted'])\n",
        "print_cv_scores_summary(\"Recall\", cv_scores['test_recall_weighted'])\n",
        "print_cv_scores_summary(\"F1\", cv_scores['test_f1_weighted'])\n"
      ],
      "execution_count": null,
      "outputs": [
        {
          "output_type": "stream",
          "text": [
            "Accuracy: mean = 24.31%, sd = 0.90%, min = 22.86, max = 25.27\n",
            "Precision: mean = 25.19%, sd = 1.41%, min = 22.92, max = 27.04\n",
            "Recall: mean = 24.31%, sd = 0.90%, min = 22.86, max = 25.27\n",
            "F1: mean = 23.49%, sd = 0.92%, min = 21.97, max = 24.46\n"
          ],
          "name": "stdout"
        }
      ]
    },
    {
      "cell_type": "code",
      "metadata": {
        "id": "tg0xb57s_P23"
      },
      "source": [
        "XGradientBoost= XGBClassifier(max_depth=3, n_estimators=300, learning_rate=0.1, random_state=0)"
      ],
      "execution_count": null,
      "outputs": []
    },
    {
      "cell_type": "code",
      "metadata": {
        "id": "jeDntqal_P23",
        "outputId": "5e024764-5f76-4704-b196-f114d3cd3bd2"
      },
      "source": [
        "cv_scores = cross_validate(XGradientBoost, X, y, cv=StratifiedKFold(n_splits=5, random_state=0), return_train_score=False, scoring=['accuracy', 'precision_weighted', 'recall_weighted', 'f1_weighted'])\n",
        "print_cv_scores_summary(\"Accuracy\", cv_scores['test_accuracy'])\n",
        "print_cv_scores_summary(\"Precision\", cv_scores['test_precision_weighted'])\n",
        "print_cv_scores_summary(\"Recall\", cv_scores['test_recall_weighted'])\n",
        "print_cv_scores_summary(\"F1\", cv_scores['test_f1_weighted'])\n"
      ],
      "execution_count": null,
      "outputs": [
        {
          "output_type": "stream",
          "text": [
            "Accuracy: mean = 24.42%, sd = 0.65%, min = 23.55, max = 25.16\n",
            "Precision: mean = 24.45%, sd = 0.64%, min = 23.55, max = 25.30\n",
            "Recall: mean = 24.42%, sd = 0.65%, min = 23.55, max = 25.16\n",
            "F1: mean = 22.86%, sd = 0.69%, min = 21.99, max = 23.80\n"
          ],
          "name": "stdout"
        }
      ]
    },
    {
      "cell_type": "markdown",
      "metadata": {
        "id": "QvQIIzD-_P24"
      },
      "source": [
        "## Converting the Multiclass labels into Binary class labels (Fake & True) and predicting"
      ]
    },
    {
      "cell_type": "code",
      "metadata": {
        "id": "z-QWmgQi_P24",
        "outputId": "f57e0740-c140-4bb7-d3d8-a6548dea5339"
      },
      "source": [
        "bi_class.head(2)"
      ],
      "execution_count": null,
      "outputs": [
        {
          "output_type": "execute_result",
          "data": {
            "text/html": [
              "<div>\n",
              "<style scoped>\n",
              "    .dataframe tbody tr th:only-of-type {\n",
              "        vertical-align: middle;\n",
              "    }\n",
              "\n",
              "    .dataframe tbody tr th {\n",
              "        vertical-align: top;\n",
              "    }\n",
              "\n",
              "    .dataframe thead th {\n",
              "        text-align: right;\n",
              "    }\n",
              "</style>\n",
              "<table border=\"1\" class=\"dataframe\">\n",
              "  <thead>\n",
              "    <tr style=\"text-align: right;\">\n",
              "      <th></th>\n",
              "      <th>label</th>\n",
              "      <th>statement</th>\n",
              "    </tr>\n",
              "  </thead>\n",
              "  <tbody>\n",
              "    <tr>\n",
              "      <th>0</th>\n",
              "      <td>True</td>\n",
              "      <td>\"McCain opposes a woman's right to choose.\"</td>\n",
              "    </tr>\n",
              "    <tr>\n",
              "      <th>1</th>\n",
              "      <td>Fake</td>\n",
              "      <td>The name Frank has risen in popularity by 20 p...</td>\n",
              "    </tr>\n",
              "  </tbody>\n",
              "</table>\n",
              "</div>"
            ],
            "text/plain": [
              "  label                                          statement\n",
              "0  True        \"McCain opposes a woman's right to choose.\"\n",
              "1  Fake  The name Frank has risen in popularity by 20 p..."
            ]
          },
          "metadata": {
            "tags": []
          },
          "execution_count": 118
        }
      ]
    },
    {
      "cell_type": "code",
      "metadata": {
        "id": "edrCJ3pQ_P26"
      },
      "source": [
        "bi_class['TotalWords'] = bi_class['statement'].str.split().str.len()"
      ],
      "execution_count": null,
      "outputs": []
    },
    {
      "cell_type": "code",
      "metadata": {
        "id": "L-hoH0se_P26",
        "outputId": "e0d5f032-0767-43b4-bd80-d556c85b1c32"
      },
      "source": [
        "bi_class.head(2)"
      ],
      "execution_count": null,
      "outputs": [
        {
          "output_type": "execute_result",
          "data": {
            "text/html": [
              "<div>\n",
              "<style scoped>\n",
              "    .dataframe tbody tr th:only-of-type {\n",
              "        vertical-align: middle;\n",
              "    }\n",
              "\n",
              "    .dataframe tbody tr th {\n",
              "        vertical-align: top;\n",
              "    }\n",
              "\n",
              "    .dataframe thead th {\n",
              "        text-align: right;\n",
              "    }\n",
              "</style>\n",
              "<table border=\"1\" class=\"dataframe\">\n",
              "  <thead>\n",
              "    <tr style=\"text-align: right;\">\n",
              "      <th></th>\n",
              "      <th>label</th>\n",
              "      <th>statement</th>\n",
              "      <th>TotalWords</th>\n",
              "    </tr>\n",
              "  </thead>\n",
              "  <tbody>\n",
              "    <tr>\n",
              "      <th>0</th>\n",
              "      <td>True</td>\n",
              "      <td>\"McCain opposes a woman's right to choose.\"</td>\n",
              "      <td>7</td>\n",
              "    </tr>\n",
              "    <tr>\n",
              "      <th>1</th>\n",
              "      <td>Fake</td>\n",
              "      <td>The name Frank has risen in popularity by 20 p...</td>\n",
              "      <td>18</td>\n",
              "    </tr>\n",
              "  </tbody>\n",
              "</table>\n",
              "</div>"
            ],
            "text/plain": [
              "  label                                          statement  TotalWords\n",
              "0  True        \"McCain opposes a woman's right to choose.\"           7\n",
              "1  Fake  The name Frank has risen in popularity by 20 p...          18"
            ]
          },
          "metadata": {
            "tags": []
          },
          "execution_count": 120
        }
      ]
    },
    {
      "cell_type": "code",
      "metadata": {
        "id": "w03Rr5bz_P26"
      },
      "source": [
        "X = bi_class[['statement', 'TotalWords']]\n",
        "\n",
        "Y=  bi_class['label']"
      ],
      "execution_count": null,
      "outputs": []
    },
    {
      "cell_type": "code",
      "metadata": {
        "id": "tGe18LrL_P26"
      },
      "source": [
        "X_train, X_test, y_train, y_test = train_test_split(X, Y, test_size=0.25)"
      ],
      "execution_count": null,
      "outputs": []
    },
    {
      "cell_type": "code",
      "metadata": {
        "id": "MM482hlQ_P26"
      },
      "source": [
        "\n",
        "classifier_biclass = Pipeline([\n",
        "    ('features', FeatureUnion([\n",
        "        ('text', Pipeline([\n",
        "            ('colext', TextSelector('statement')),\n",
        "            ('tfidf', TfidfVectorizer(analyzer='word',preprocessor=preprocess, tokenizer=Tokenizer, stop_words=stopwords_list,\n",
        "                     min_df=.0025, max_df=0.25, ngram_range=(1,3))),\n",
        "            ('svd', TruncatedSVD(algorithm='randomized', n_components=300)), #for XGB\n",
        "        ])),\n",
        "        ('words', Pipeline([\n",
        "            ('wordext', NumberSelector('TotalWords')),\n",
        "            ('wscaler', StandardScaler()),\n",
        "        ])),\n",
        "    ])),\n",
        "    ('clf', LogisticRegression(solver='liblinear', random_state=0)),\n",
        "    ])"
      ],
      "execution_count": null,
      "outputs": []
    },
    {
      "cell_type": "code",
      "metadata": {
        "id": "MOkg20eK_P27",
        "outputId": "a6b84076-d475-4c84-e60f-80eb62e6ec75"
      },
      "source": [
        "classifier_biclass.fit(X_train, y_train)\n",
        "predictions = classifier_biclass.predict(X_test)\n",
        "print_scores()"
      ],
      "execution_count": null,
      "outputs": [
        {
          "output_type": "stream",
          "text": [
            "Accuracy:  0.6110937986911811\n",
            "              precision    recall  f1-score   support\n",
            "\n",
            "        Fake       0.56      0.45      0.50      1373\n",
            "        True       0.64      0.73      0.68      1836\n",
            "\n",
            "   micro avg       0.61      0.61      0.61      3209\n",
            "   macro avg       0.60      0.59      0.59      3209\n",
            "weighted avg       0.60      0.61      0.60      3209\n",
            "\n",
            "[[ 619  754]\n",
            " [ 494 1342]]\n"
          ],
          "name": "stdout"
        }
      ]
    },
    {
      "cell_type": "code",
      "metadata": {
        "id": "dRRoH0yz_P28",
        "outputId": "e65077a1-f267-4b54-ba0a-0947513314cd"
      },
      "source": [
        "matrix=confusion_matrix(y_test, predictions) # getting the results of confusion matrix from the classification.\n",
        "sns.heatmap(matrix, annot = True,fmt='g')       # printing the matrix\n",
        "plt.title('Logistic Regression binary class Confusion-Matrix')\n",
        "plt.ylabel('True labels')\n",
        "plt.xlabel('Predicted labels');"
      ],
      "execution_count": null,
      "outputs": [
        {
          "output_type": "display_data",
          "data": {
            "image/png": "[encoded data removed]",
            "text/plain": [
              "<Figure size 432x288 with 2 Axes>"
            ]
          },
          "metadata": {
            "tags": [],
            "needs_background": "light"
          }
        }
      ]
    },
    {
      "cell_type": "code",
      "metadata": {
        "id": "Pilc2cAA_P29",
        "outputId": "5bcfcac2-08fe-4097-a45e-d743c1a90bd2"
      },
      "source": [
        "classifier_biclass.set_params(clf=GaussianNB())\n",
        "classifier_biclass.fit(X_train, y_train)\n",
        "predictions = classifier_biclass.predict(X_test)\n",
        "print_scores()"
      ],
      "execution_count": null,
      "outputs": [
        {
          "output_type": "stream",
          "text": [
            "Accuracy:  0.5712059831723278\n",
            "              precision    recall  f1-score   support\n",
            "\n",
            "        Fake       0.50      0.56      0.53      1373\n",
            "        True       0.64      0.58      0.61      1836\n",
            "\n",
            "   micro avg       0.57      0.57      0.57      3209\n",
            "   macro avg       0.57      0.57      0.57      3209\n",
            "weighted avg       0.58      0.57      0.57      3209\n",
            "\n",
            "[[ 773  600]\n",
            " [ 776 1060]]\n"
          ],
          "name": "stdout"
        }
      ]
    },
    {
      "cell_type": "code",
      "metadata": {
        "id": "DU39xcRa_P29",
        "outputId": "2d0bba60-bc19-4cfa-828c-3328e453de6a"
      },
      "source": [
        "classifier.set_params(clf=svm.SVC(C=1.0, kernel='linear', degree=3, gamma='auto'))\n",
        "classifier_biclass.fit(X_train, y_train)\n",
        "predictions = classifier_biclass.predict(X_test)\n",
        "print_scores()"
      ],
      "execution_count": null,
      "outputs": [
        {
          "output_type": "stream",
          "text": [
            "Accuracy:  0.5715176067310689\n",
            "              precision    recall  f1-score   support\n",
            "\n",
            "        Fake       0.50      0.57      0.53      1373\n",
            "        True       0.64      0.57      0.60      1836\n",
            "\n",
            "   micro avg       0.57      0.57      0.57      3209\n",
            "   macro avg       0.57      0.57      0.57      3209\n",
            "weighted avg       0.58      0.57      0.57      3209\n",
            "\n",
            "[[ 784  589]\n",
            " [ 786 1050]]\n"
          ],
          "name": "stdout"
        }
      ]
    },
    {
      "cell_type": "code",
      "metadata": {
        "id": "fVtHq_58_P29",
        "outputId": "8802e9f0-349e-4ca9-804d-afce5de30293"
      },
      "source": [
        "decision_tree=tree.DecisionTreeClassifier(random_state=1000)\n",
        "classifier.set_params(clf=decision_tree)\n",
        "classifier_biclass.fit(X_train, y_train)\n",
        "predictions = classifier_biclass.predict(X_test)\n",
        "print_scores()"
      ],
      "execution_count": null,
      "outputs": [
        {
          "output_type": "stream",
          "text": [
            "Accuracy:  0.5702711124961047\n",
            "              precision    recall  f1-score   support\n",
            "\n",
            "        Fake       0.50      0.56      0.53      1373\n",
            "        True       0.64      0.58      0.61      1836\n",
            "\n",
            "   micro avg       0.57      0.57      0.57      3209\n",
            "   macro avg       0.57      0.57      0.57      3209\n",
            "weighted avg       0.58      0.57      0.57      3209\n",
            "\n",
            "[[ 770  603]\n",
            " [ 776 1060]]\n"
          ],
          "name": "stdout"
        }
      ]
    },
    {
      "cell_type": "code",
      "metadata": {
        "id": "klZy7xvE_P2-",
        "outputId": "cafdefc1-696f-4ed4-87a3-445a6780c3d8"
      },
      "source": [
        "classifier.set_params(clf=RandomForestClassifier())\n",
        "classifier_biclass.fit(X_train, y_train)\n",
        "predictions = classifier_biclass.predict(X_test)\n",
        "print_scores()"
      ],
      "execution_count": null,
      "outputs": [
        {
          "output_type": "stream",
          "text": [
            "Accuracy:  0.5761919601121844\n",
            "              precision    recall  f1-score   support\n",
            "\n",
            "        Fake       0.50      0.57      0.54      1373\n",
            "        True       0.64      0.58      0.61      1836\n",
            "\n",
            "   micro avg       0.58      0.58      0.58      3209\n",
            "   macro avg       0.57      0.58      0.57      3209\n",
            "weighted avg       0.58      0.58      0.58      3209\n",
            "\n",
            "[[ 787  586]\n",
            " [ 774 1062]]\n"
          ],
          "name": "stdout"
        }
      ]
    },
    {
      "cell_type": "code",
      "metadata": {
        "id": "pjrYEUEC_P2-",
        "outputId": "ef08293e-4ad9-46ec-874a-b987dc331674"
      },
      "source": [
        "classifier.set_params(clf=XGBClassifier(max_depth=3, n_estimators=300, learning_rate=0.1, random_state=0))\n",
        "classifier_biclass.fit(X_train, y_train)\n",
        "predictions = classifier_biclass.predict(X_test)\n",
        "print_scores()"
      ],
      "execution_count": null,
      "outputs": [
        {
          "output_type": "stream",
          "text": [
            "Accuracy:  0.5780617014646308\n",
            "              precision    recall  f1-score   support\n",
            "\n",
            "        Fake       0.51      0.57      0.54      1373\n",
            "        True       0.64      0.59      0.61      1836\n",
            "\n",
            "   micro avg       0.58      0.58      0.58      3209\n",
            "   macro avg       0.58      0.58      0.57      3209\n",
            "weighted avg       0.59      0.58      0.58      3209\n",
            "\n",
            "[[ 779  594]\n",
            " [ 760 1076]]\n"
          ],
          "name": "stdout"
        }
      ]
    }
  ]
}